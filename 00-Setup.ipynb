{
    "metadata": {
        "kernelspec": {
            "name": "SQL",
            "display_name": "SQL",
            "language": "sql"
        },
        "language_info": {
            "name": "sql",
            "version": ""
        }
    },
    "nbformat_minor": 2,
    "nbformat": 4,
    "cells": [
        {
            "cell_type": "markdown",
            "source": [
                "# Addding Graph Structures to a SQL Server Database\r\n",
                "\r\n",
                "This is the notebook to walk through the setup for my talk.\r\n",
                "\r\n",
                "## Creating a database\r\n",
                "\r\n",
                "This first section will create a database for the talk. The default name here is IMDB"
            ],
            "metadata": {
                "azdata_cell_guid": "4ce9d5ba-1978-459e-bf87-78b62aebcec0"
            }
        },
        {
            "cell_type": "code",
            "source": [
                "CREATE DATABASE IMDB"
            ],
            "metadata": {
                "azdata_cell_guid": "b7235391-0339-482d-905f-818a322a48b0"
            },
            "outputs": [],
            "execution_count": 0
        },
        {
            "cell_type": "markdown",
            "source": [
                "Once the database is created, we can change to this database for the rest of the notebook"
            ],
            "metadata": {
                "azdata_cell_guid": "f461af82-446d-4200-9889-71f5a37fd0bc"
            }
        },
        {
            "cell_type": "code",
            "source": [
                "Use IMDB"
            ],
            "metadata": {
                "azdata_cell_guid": "07fcb066-2b5c-4a72-bda1-1602c3d0214c"
            },
            "outputs": [
                {
                    "output_type": "display_data",
                    "data": {
                        "text/html": "Commands completed successfully."
                    },
                    "metadata": {}
                },
                {
                    "output_type": "display_data",
                    "data": {
                        "text/html": "Total execution time: 00:00:00.001"
                    },
                    "metadata": {}
                }
            ],
            "execution_count": 1
        },
        {
            "cell_type": "markdown",
            "source": [
                "# Table Setup\r\n",
                "The first queries here are designed to create the data structures used for the rest of the talk\r\n",
                "\r\n",
                "This requires a SQL Server 2019 version"
            ],
            "metadata": {
                "azdata_cell_guid": "b979b397-07fa-4695-b740-dcd8caca7ec5"
            }
        },
        {
            "cell_type": "code",
            "source": [
                "create table dbo.Movie (\r\n",
                "  MovieID int not null IDENTITY(1,1) CONSTRAINT MoviePK PRIMARY Key\r\n",
                ", MovieTitle varchar(200)\r\n",
                ", MovieDescription varchar(1000)\r\n",
                ", MovieYear int\r\n",
                ", MovieRuntime smallint\r\n",
                ") as Node;\r\n",
                "GO\r\n",
                "create table dbo.Person (\r\n",
                "PersonID int not null IDENTITY(1,1) CONSTRAINT PersonPK PRIMARY KEY\r\n",
                ", PersonName varchar(100)\r\n",
                ") as Node;\r\n",
                "GO\r\n",
                "create TABLE dbo.Genre (\r\n",
                " GenreID int not null IDENTITY(1,1) CONSTRAINT GenrePK PRIMARY KEY\r\n",
                " , GenreName varchar(30)\r\n",
                ") as Node;\r\n",
                ""
            ],
            "metadata": {
                "azdata_cell_guid": "44173879-b064-43c0-a292-832b04967baf",
                "tags": []
            },
            "outputs": [],
            "execution_count": 0
        },
        {
            "cell_type": "markdown",
            "source": [
                "## Loading Data from the CSV\r\n",
                "This code assumes you have downloaded a CSV of data from \r\n",
                "\r\n",
                "This code requires [dbatools](https://dbatools.io) installed on your machine and a PowerShell prompt.\r\n",
                "\r\n",
                "Run this code from the location of the CSV file or provide a full path. This will auto create the dbo.[IMDB-Movie-Data] table inside the database. You can access the contents of the $movie variable to confirm this works."
            ],
            "metadata": {
                "azdata_cell_guid": "d264a07e-3dbb-4f0f-9793-8866dd665e5f"
            }
        },
        {
            "cell_type": "code",
            "source": [
                "$movie = Import-DbaCsv -SqlInstance localhost -Database IMDB -AutoCreateTable -Path \"IMDB-Movie-Data.csv\""
            ],
            "metadata": {
                "azdata_cell_guid": "42a912cb-6053-4d63-8f70-5a9f9cbaceb0"
            },
            "outputs": [],
            "execution_count": 0
        },
        {
            "cell_type": "markdown",
            "source": [
                "## The ETL Process\r\n",
                "\r\n",
                "This sections contains the code I used to move data from the table, dbo.[IMDB-Movie-Data], which is created in the last step.\r\n",
                "\r\n",
                "The first part of this is to move the movie information from the staging table"
            ],
            "metadata": {
                "azdata_cell_guid": "8a7c054f-8b88-4189-8bb4-eb053586cb8d"
            }
        },
        {
            "cell_type": "code",
            "source": [
                "insert dbo.Movie (MovieTitle, MovieDescription, MovieYear, MovieRuntime)\r\n",
                " select m.title, m.description, m.year, m.[runtime (Minutes)]\r\n",
                " from dbo.[IMDB-Movie-data] m\r\n",
                ""
            ],
            "metadata": {
                "azdata_cell_guid": "b1bcbccf-4c06-45c4-aa3b-235e03308fe3"
            },
            "outputs": [],
            "execution_count": 0
        },
        {
            "cell_type": "markdown",
            "source": [
                "You can check that this succeeded with this query:"
            ],
            "metadata": {
                "azdata_cell_guid": "c0f1182f-b05d-4307-8cf9-b573d77c8f08"
            }
        },
        {
            "cell_type": "code",
            "source": [
                "select top 20 * from dbo.Movie"
            ],
            "metadata": {
                "azdata_cell_guid": "ffaa9759-4a1a-480f-a66c-373fbd641fe6"
            },
            "outputs": [
                {
                    "output_type": "display_data",
                    "data": {
                        "text/html": "(20 rows affected)"
                    },
                    "metadata": {}
                },
                {
                    "output_type": "display_data",
                    "data": {
                        "text/html": "Total execution time: 00:00:00.020"
                    },
                    "metadata": {}
                },
                {
                    "output_type": "execute_result",
                    "metadata": {},
                    "execution_count": 2,
                    "data": {
                        "application/vnd.dataresource+json": {
                            "schema": {
                                "fields": [
                                    {
                                        "name": "$node_id_25E35AF55DAF474DB21E7E851495EDD1"
                                    },
                                    {
                                        "name": "MovieID"
                                    },
                                    {
                                        "name": "MovieTitle"
                                    },
                                    {
                                        "name": "MovieDescription"
                                    },
                                    {
                                        "name": "MovieYear"
                                    },
                                    {
                                        "name": "MovieRuntime"
                                    }
                                ]
                            },
                            "data": [
                                {
                                    "0": "{\"type\":\"node\",\"schema\":\"dbo\",\"table\":\"Movie\",\"id\":0}",
                                    "1": "1",
                                    "2": "Guardians of the Galaxy",
                                    "3": "A group of intergalactic criminals are forced to work together to stop a fanatical warrior from taking control of the universe.",
                                    "4": "2014",
                                    "5": "121"
                                },
                                {
                                    "0": "{\"type\":\"node\",\"schema\":\"dbo\",\"table\":\"Movie\",\"id\":1}",
                                    "1": "2",
                                    "2": "Prometheus",
                                    "3": "Following clues to the origin of mankind, a team finds a structure on a distant moon, but they soon realize they are not alone.",
                                    "4": "2012",
                                    "5": "124"
                                },
                                {
                                    "0": "{\"type\":\"node\",\"schema\":\"dbo\",\"table\":\"Movie\",\"id\":2}",
                                    "1": "3",
                                    "2": "Split",
                                    "3": "Three girls are kidnapped by a man with a diagnosed 23 distinct personalities. They must try to escape before the apparent emergence of a frightful new 24th.",
                                    "4": "2016",
                                    "5": "117"
                                },
                                {
                                    "0": "{\"type\":\"node\",\"schema\":\"dbo\",\"table\":\"Movie\",\"id\":3}",
                                    "1": "4",
                                    "2": "Sing",
                                    "3": "In a city of humanoid animals, a hustling theater impresario's attempt to save his theater with a singing competition becomes grander than he anticipates even as its finalists' find that their lives will never be the same.",
                                    "4": "2016",
                                    "5": "108"
                                },
                                {
                                    "0": "{\"type\":\"node\",\"schema\":\"dbo\",\"table\":\"Movie\",\"id\":4}",
                                    "1": "5",
                                    "2": "Suicide Squad",
                                    "3": "A secret government agency recruits some of the most dangerous incarcerated super-villains to form a defensive task force. Their first mission: save the world from the apocalypse.",
                                    "4": "2016",
                                    "5": "123"
                                },
                                {
                                    "0": "{\"type\":\"node\",\"schema\":\"dbo\",\"table\":\"Movie\",\"id\":5}",
                                    "1": "6",
                                    "2": "The Great Wall",
                                    "3": "European mercenaries searching for black powder become embroiled in the defense of the Great Wall of China against a horde of monstrous creatures.",
                                    "4": "2016",
                                    "5": "103"
                                },
                                {
                                    "0": "{\"type\":\"node\",\"schema\":\"dbo\",\"table\":\"Movie\",\"id\":6}",
                                    "1": "7",
                                    "2": "La La Land",
                                    "3": "A jazz pianist falls for an aspiring actress in Los Angeles.",
                                    "4": "2016",
                                    "5": "128"
                                },
                                {
                                    "0": "{\"type\":\"node\",\"schema\":\"dbo\",\"table\":\"Movie\",\"id\":7}",
                                    "1": "8",
                                    "2": "Mindhorn",
                                    "3": "A has-been actor best known for playing the title character in the 1980s detective series \"Mindhorn\" must work with the police when a serial killer says that he will only speak with Detective Mindhorn, whom he believes to be a real person.",
                                    "4": "2016",
                                    "5": "89"
                                },
                                {
                                    "0": "{\"type\":\"node\",\"schema\":\"dbo\",\"table\":\"Movie\",\"id\":8}",
                                    "1": "9",
                                    "2": "The Lost City of Z",
                                    "3": "A true-life drama, centering on British explorer Col. Percival Fawcett, who disappeared while searching for a mysterious city in the Amazon in the 1920s.",
                                    "4": "2016",
                                    "5": "141"
                                },
                                {
                                    "0": "{\"type\":\"node\",\"schema\":\"dbo\",\"table\":\"Movie\",\"id\":9}",
                                    "1": "10",
                                    "2": "Passengers",
                                    "3": "A spacecraft traveling to a distant colony planet and transporting thousands of people has a malfunction in its sleep chambers. As a result, two passengers are awakened 90 years early.",
                                    "4": "2016",
                                    "5": "116"
                                },
                                {
                                    "0": "{\"type\":\"node\",\"schema\":\"dbo\",\"table\":\"Movie\",\"id\":10}",
                                    "1": "11",
                                    "2": "Fantastic Beasts and Where to Find Them",
                                    "3": "The adventures of writer Newt Scamander in New York's secret community of witches and wizards seventy years before Harry Potter reads his book in school.",
                                    "4": "2016",
                                    "5": "133"
                                },
                                {
                                    "0": "{\"type\":\"node\",\"schema\":\"dbo\",\"table\":\"Movie\",\"id\":11}",
                                    "1": "12",
                                    "2": "Hidden Figures",
                                    "3": "The story of a team of female African-American mathematicians who served a vital role in NASA during the early years of the U.S. space program.",
                                    "4": "2016",
                                    "5": "127"
                                },
                                {
                                    "0": "{\"type\":\"node\",\"schema\":\"dbo\",\"table\":\"Movie\",\"id\":12}",
                                    "1": "13",
                                    "2": "Rogue One",
                                    "3": "The Rebel Alliance makes a risky move to steal the plans for the Death Star, setting up the epic saga to follow.",
                                    "4": "2016",
                                    "5": "133"
                                },
                                {
                                    "0": "{\"type\":\"node\",\"schema\":\"dbo\",\"table\":\"Movie\",\"id\":13}",
                                    "1": "14",
                                    "2": "Moana",
                                    "3": "In Ancient Polynesia, when a terrible curse incurred by the Demigod Maui reaches an impetuous Chieftain's daughter's island, she answers the Ocean's call to seek out the Demigod to set things right.",
                                    "4": "2016",
                                    "5": "107"
                                },
                                {
                                    "0": "{\"type\":\"node\",\"schema\":\"dbo\",\"table\":\"Movie\",\"id\":14}",
                                    "1": "15",
                                    "2": "Colossal",
                                    "3": "Gloria is an out-of-work party girl forced to leave her life in New York City, and move back home. When reports surface that a giant creature is destroying Seoul, she gradually comes to the realization that she is somehow connected to this phenomenon.",
                                    "4": "2016",
                                    "5": "109"
                                },
                                {
                                    "0": "{\"type\":\"node\",\"schema\":\"dbo\",\"table\":\"Movie\",\"id\":15}",
                                    "1": "16",
                                    "2": "The Secret Life of Pets",
                                    "3": "The quiet life of a terrier named Max is upended when his owner takes in Duke, a stray whom Max instantly dislikes.",
                                    "4": "2016",
                                    "5": "87"
                                },
                                {
                                    "0": "{\"type\":\"node\",\"schema\":\"dbo\",\"table\":\"Movie\",\"id\":16}",
                                    "1": "17",
                                    "2": "Hacksaw Ridge",
                                    "3": "WWII American Army Medic Desmond T. Doss, who served during the Battle of Okinawa, refuses to kill people, and becomes the first man in American history to receive the Medal of Honor without firing a shot.",
                                    "4": "2016",
                                    "5": "139"
                                },
                                {
                                    "0": "{\"type\":\"node\",\"schema\":\"dbo\",\"table\":\"Movie\",\"id\":17}",
                                    "1": "18",
                                    "2": "Jason Bourne",
                                    "3": "The CIA's most dangerous former operative is drawn out of hiding to uncover more explosive truths about his past.",
                                    "4": "2016",
                                    "5": "123"
                                },
                                {
                                    "0": "{\"type\":\"node\",\"schema\":\"dbo\",\"table\":\"Movie\",\"id\":18}",
                                    "1": "19",
                                    "2": "Lion",
                                    "3": "A five-year-old Indian boy gets lost on the streets of Calcutta, thousands of kilometers from home. He survives many challenges before being adopted by a couple in Australia. 25 years later, he sets out to find his lost family.",
                                    "4": "2016",
                                    "5": "118"
                                },
                                {
                                    "0": "{\"type\":\"node\",\"schema\":\"dbo\",\"table\":\"Movie\",\"id\":19}",
                                    "1": "20",
                                    "2": "Arrival",
                                    "3": "When twelve mysterious spacecraft appear around the world, linguistics professor Louise Banks is tasked with interpreting the language of the apparent alien visitors.",
                                    "4": "2016",
                                    "5": "116"
                                }
                            ]
                        },
                        "text/html": "<table><tr><th>$node_id_25E35AF55DAF474DB21E7E851495EDD1</th><th>MovieID</th><th>MovieTitle</th><th>MovieDescription</th><th>MovieYear</th><th>MovieRuntime</th></tr><tr><td>{&quot;type&quot;:&quot;node&quot;,&quot;schema&quot;:&quot;dbo&quot;,&quot;table&quot;:&quot;Movie&quot;,&quot;id&quot;:0}</td><td>1</td><td>Guardians of the Galaxy</td><td>A group of intergalactic criminals are forced to work together to stop a fanatical warrior from taking control of the universe.</td><td>2014</td><td>121</td></tr><tr><td>{&quot;type&quot;:&quot;node&quot;,&quot;schema&quot;:&quot;dbo&quot;,&quot;table&quot;:&quot;Movie&quot;,&quot;id&quot;:1}</td><td>2</td><td>Prometheus</td><td>Following clues to the origin of mankind, a team finds a structure on a distant moon, but they soon realize they are not alone.</td><td>2012</td><td>124</td></tr><tr><td>{&quot;type&quot;:&quot;node&quot;,&quot;schema&quot;:&quot;dbo&quot;,&quot;table&quot;:&quot;Movie&quot;,&quot;id&quot;:2}</td><td>3</td><td>Split</td><td>Three girls are kidnapped by a man with a diagnosed 23 distinct personalities. They must try to escape before the apparent emergence of a frightful new 24th.</td><td>2016</td><td>117</td></tr><tr><td>{&quot;type&quot;:&quot;node&quot;,&quot;schema&quot;:&quot;dbo&quot;,&quot;table&quot;:&quot;Movie&quot;,&quot;id&quot;:3}</td><td>4</td><td>Sing</td><td>In a city of humanoid animals, a hustling theater impresario's attempt to save his theater with a singing competition becomes grander than he anticipates even as its finalists' find that their lives will never be the same.</td><td>2016</td><td>108</td></tr><tr><td>{&quot;type&quot;:&quot;node&quot;,&quot;schema&quot;:&quot;dbo&quot;,&quot;table&quot;:&quot;Movie&quot;,&quot;id&quot;:4}</td><td>5</td><td>Suicide Squad</td><td>A secret government agency recruits some of the most dangerous incarcerated super-villains to form a defensive task force. Their first mission: save the world from the apocalypse.</td><td>2016</td><td>123</td></tr><tr><td>{&quot;type&quot;:&quot;node&quot;,&quot;schema&quot;:&quot;dbo&quot;,&quot;table&quot;:&quot;Movie&quot;,&quot;id&quot;:5}</td><td>6</td><td>The Great Wall</td><td>European mercenaries searching for black powder become embroiled in the defense of the Great Wall of China against a horde of monstrous creatures.</td><td>2016</td><td>103</td></tr><tr><td>{&quot;type&quot;:&quot;node&quot;,&quot;schema&quot;:&quot;dbo&quot;,&quot;table&quot;:&quot;Movie&quot;,&quot;id&quot;:6}</td><td>7</td><td>La La Land</td><td>A jazz pianist falls for an aspiring actress in Los Angeles.</td><td>2016</td><td>128</td></tr><tr><td>{&quot;type&quot;:&quot;node&quot;,&quot;schema&quot;:&quot;dbo&quot;,&quot;table&quot;:&quot;Movie&quot;,&quot;id&quot;:7}</td><td>8</td><td>Mindhorn</td><td>A has-been actor best known for playing the title character in the 1980s detective series &quot;Mindhorn&quot; must work with the police when a serial killer says that he will only speak with Detective Mindhorn, whom he believes to be a real person.</td><td>2016</td><td>89</td></tr><tr><td>{&quot;type&quot;:&quot;node&quot;,&quot;schema&quot;:&quot;dbo&quot;,&quot;table&quot;:&quot;Movie&quot;,&quot;id&quot;:8}</td><td>9</td><td>The Lost City of Z</td><td>A true-life drama, centering on British explorer Col. Percival Fawcett, who disappeared while searching for a mysterious city in the Amazon in the 1920s.</td><td>2016</td><td>141</td></tr><tr><td>{&quot;type&quot;:&quot;node&quot;,&quot;schema&quot;:&quot;dbo&quot;,&quot;table&quot;:&quot;Movie&quot;,&quot;id&quot;:9}</td><td>10</td><td>Passengers</td><td>A spacecraft traveling to a distant colony planet and transporting thousands of people has a malfunction in its sleep chambers. As a result, two passengers are awakened 90 years early.</td><td>2016</td><td>116</td></tr><tr><td>{&quot;type&quot;:&quot;node&quot;,&quot;schema&quot;:&quot;dbo&quot;,&quot;table&quot;:&quot;Movie&quot;,&quot;id&quot;:10}</td><td>11</td><td>Fantastic Beasts and Where to Find Them</td><td>The adventures of writer Newt Scamander in New York's secret community of witches and wizards seventy years before Harry Potter reads his book in school.</td><td>2016</td><td>133</td></tr><tr><td>{&quot;type&quot;:&quot;node&quot;,&quot;schema&quot;:&quot;dbo&quot;,&quot;table&quot;:&quot;Movie&quot;,&quot;id&quot;:11}</td><td>12</td><td>Hidden Figures</td><td>The story of a team of female African-American mathematicians who served a vital role in NASA during the early years of the U.S. space program.</td><td>2016</td><td>127</td></tr><tr><td>{&quot;type&quot;:&quot;node&quot;,&quot;schema&quot;:&quot;dbo&quot;,&quot;table&quot;:&quot;Movie&quot;,&quot;id&quot;:12}</td><td>13</td><td>Rogue One</td><td>The Rebel Alliance makes a risky move to steal the plans for the Death Star, setting up the epic saga to follow.</td><td>2016</td><td>133</td></tr><tr><td>{&quot;type&quot;:&quot;node&quot;,&quot;schema&quot;:&quot;dbo&quot;,&quot;table&quot;:&quot;Movie&quot;,&quot;id&quot;:13}</td><td>14</td><td>Moana</td><td>In Ancient Polynesia, when a terrible curse incurred by the Demigod Maui reaches an impetuous Chieftain's daughter's island, she answers the Ocean's call to seek out the Demigod to set things right.</td><td>2016</td><td>107</td></tr><tr><td>{&quot;type&quot;:&quot;node&quot;,&quot;schema&quot;:&quot;dbo&quot;,&quot;table&quot;:&quot;Movie&quot;,&quot;id&quot;:14}</td><td>15</td><td>Colossal</td><td>Gloria is an out-of-work party girl forced to leave her life in New York City, and move back home. When reports surface that a giant creature is destroying Seoul, she gradually comes to the realization that she is somehow connected to this phenomenon.</td><td>2016</td><td>109</td></tr><tr><td>{&quot;type&quot;:&quot;node&quot;,&quot;schema&quot;:&quot;dbo&quot;,&quot;table&quot;:&quot;Movie&quot;,&quot;id&quot;:15}</td><td>16</td><td>The Secret Life of Pets</td><td>The quiet life of a terrier named Max is upended when his owner takes in Duke, a stray whom Max instantly dislikes.</td><td>2016</td><td>87</td></tr><tr><td>{&quot;type&quot;:&quot;node&quot;,&quot;schema&quot;:&quot;dbo&quot;,&quot;table&quot;:&quot;Movie&quot;,&quot;id&quot;:16}</td><td>17</td><td>Hacksaw Ridge</td><td>WWII American Army Medic Desmond T. Doss, who served during the Battle of Okinawa, refuses to kill people, and becomes the first man in American history to receive the Medal of Honor without firing a shot.</td><td>2016</td><td>139</td></tr><tr><td>{&quot;type&quot;:&quot;node&quot;,&quot;schema&quot;:&quot;dbo&quot;,&quot;table&quot;:&quot;Movie&quot;,&quot;id&quot;:17}</td><td>18</td><td>Jason Bourne</td><td>The CIA's most dangerous former operative is drawn out of hiding to uncover more explosive truths about his past.</td><td>2016</td><td>123</td></tr><tr><td>{&quot;type&quot;:&quot;node&quot;,&quot;schema&quot;:&quot;dbo&quot;,&quot;table&quot;:&quot;Movie&quot;,&quot;id&quot;:18}</td><td>19</td><td>Lion</td><td>A five-year-old Indian boy gets lost on the streets of Calcutta, thousands of kilometers from home. He survives many challenges before being adopted by a couple in Australia. 25 years later, he sets out to find his lost family.</td><td>2016</td><td>118</td></tr><tr><td>{&quot;type&quot;:&quot;node&quot;,&quot;schema&quot;:&quot;dbo&quot;,&quot;table&quot;:&quot;Movie&quot;,&quot;id&quot;:19}</td><td>20</td><td>Arrival</td><td>When twelve mysterious spacecraft appear around the world, linguistics professor Louise Banks is tasked with interpreting the language of the apparent alien visitors.</td><td>2016</td><td>116</td></tr></table>"
                    }
                }
            ],
            "execution_count": 2
        },
        {
            "cell_type": "markdown",
            "source": [
                "## Loading Genres\r\n",
                "\r\n",
                "We want to load genres, but we want a distinct list of them. Let's examine the data."
            ],
            "metadata": {
                "azdata_cell_guid": "499dc915-050f-4f6e-ab51-54acd76853e8"
            }
        },
        {
            "cell_type": "code",
            "source": [
                "select top 10 * from dbo.[IMDB-Movie-Data]"
            ],
            "metadata": {
                "azdata_cell_guid": "6438a01f-1ed3-4f87-9a69-be89342e39df"
            },
            "outputs": [
                {
                    "output_type": "display_data",
                    "data": {
                        "text/html": "(10 rows affected)"
                    },
                    "metadata": {}
                },
                {
                    "output_type": "display_data",
                    "data": {
                        "text/html": "Total execution time: 00:00:00.014"
                    },
                    "metadata": {}
                },
                {
                    "output_type": "execute_result",
                    "metadata": {},
                    "execution_count": 5,
                    "data": {
                        "application/vnd.dataresource+json": {
                            "schema": {
                                "fields": [
                                    {
                                        "name": "Rank"
                                    },
                                    {
                                        "name": "Title"
                                    },
                                    {
                                        "name": "Genre"
                                    },
                                    {
                                        "name": "Description"
                                    },
                                    {
                                        "name": "Director"
                                    },
                                    {
                                        "name": "Actors"
                                    },
                                    {
                                        "name": "Year"
                                    },
                                    {
                                        "name": "Runtime (Minutes)"
                                    },
                                    {
                                        "name": "Rating"
                                    },
                                    {
                                        "name": "Votes"
                                    },
                                    {
                                        "name": "Revenue (Millions)"
                                    },
                                    {
                                        "name": "Metascore"
                                    }
                                ]
                            },
                            "data": [
                                {
                                    "0": "1",
                                    "1": "Guardians of the Galaxy",
                                    "2": "Action,Adventure,Sci-Fi",
                                    "3": "A group of intergalactic criminals are forced to work together to stop a fanatical warrior from taking control of the universe.",
                                    "4": "James Gunn",
                                    "5": "Chris Pratt, Vin Diesel, Bradley Cooper, Zoe Saldana",
                                    "6": "2014",
                                    "7": "121",
                                    "8": "8.1",
                                    "9": "757074",
                                    "10": "333.13",
                                    "11": "76"
                                },
                                {
                                    "0": "2",
                                    "1": "Prometheus",
                                    "2": "Adventure,Mystery,Sci-Fi",
                                    "3": "Following clues to the origin of mankind, a team finds a structure on a distant moon, but they soon realize they are not alone.",
                                    "4": "Ridley Scott",
                                    "5": "Noomi Rapace, Logan Marshall-Green, Michael Fassbender, Charlize Theron",
                                    "6": "2012",
                                    "7": "124",
                                    "8": "7",
                                    "9": "485820",
                                    "10": "126.46",
                                    "11": "65"
                                },
                                {
                                    "0": "3",
                                    "1": "Split",
                                    "2": "Horror,Thriller",
                                    "3": "Three girls are kidnapped by a man with a diagnosed 23 distinct personalities. They must try to escape before the apparent emergence of a frightful new 24th.",
                                    "4": "M. Night Shyamalan",
                                    "5": "James McAvoy, Anya Taylor-Joy, Haley Lu Richardson, Jessica Sula",
                                    "6": "2016",
                                    "7": "117",
                                    "8": "7.3",
                                    "9": "157606",
                                    "10": "138.12",
                                    "11": "62"
                                },
                                {
                                    "0": "4",
                                    "1": "Sing",
                                    "2": "Animation,Comedy,Family",
                                    "3": "In a city of humanoid animals, a hustling theater impresario's attempt to save his theater with a singing competition becomes grander than he anticipates even as its finalists' find that their lives will never be the same.",
                                    "4": "Christophe Lourdelet",
                                    "5": "Matthew McConaughey,Reese Witherspoon, Seth MacFarlane, Scarlett Johansson",
                                    "6": "2016",
                                    "7": "108",
                                    "8": "7.2",
                                    "9": "60545",
                                    "10": "270.32",
                                    "11": "59"
                                },
                                {
                                    "0": "5",
                                    "1": "Suicide Squad",
                                    "2": "Action,Adventure,Fantasy",
                                    "3": "A secret government agency recruits some of the most dangerous incarcerated super-villains to form a defensive task force. Their first mission: save the world from the apocalypse.",
                                    "4": "David Ayer",
                                    "5": "Will Smith, Jared Leto, Margot Robbie, Viola Davis",
                                    "6": "2016",
                                    "7": "123",
                                    "8": "6.2",
                                    "9": "393727",
                                    "10": "325.02",
                                    "11": "40"
                                },
                                {
                                    "0": "6",
                                    "1": "The Great Wall",
                                    "2": "Action,Adventure,Fantasy",
                                    "3": "European mercenaries searching for black powder become embroiled in the defense of the Great Wall of China against a horde of monstrous creatures.",
                                    "4": "Yimou Zhang",
                                    "5": "Matt Damon, Tian Jing, Willem Dafoe, Andy Lau",
                                    "6": "2016",
                                    "7": "103",
                                    "8": "6.1",
                                    "9": "56036",
                                    "10": "45.13",
                                    "11": "42"
                                },
                                {
                                    "0": "7",
                                    "1": "La La Land",
                                    "2": "Comedy,Drama,Music",
                                    "3": "A jazz pianist falls for an aspiring actress in Los Angeles.",
                                    "4": "Damien Chazelle",
                                    "5": "Ryan Gosling, Emma Stone, Rosemarie DeWitt, J.K. Simmons",
                                    "6": "2016",
                                    "7": "128",
                                    "8": "8.3",
                                    "9": "258682",
                                    "10": "151.06",
                                    "11": "93"
                                },
                                {
                                    "0": "8",
                                    "1": "Mindhorn",
                                    "2": "Comedy",
                                    "3": "A has-been actor best known for playing the title character in the 1980s detective series \"Mindhorn\" must work with the police when a serial killer says that he will only speak with Detective Mindhorn, whom he believes to be a real person.",
                                    "4": "Sean Foley",
                                    "5": "Essie Davis, Andrea Riseborough, Julian Barratt,Kenneth Branagh",
                                    "6": "2016",
                                    "7": "89",
                                    "8": "6.4",
                                    "9": "2490",
                                    "10": "NULL",
                                    "11": "71"
                                },
                                {
                                    "0": "9",
                                    "1": "The Lost City of Z",
                                    "2": "Action,Adventure,Biography",
                                    "3": "A true-life drama, centering on British explorer Col. Percival Fawcett, who disappeared while searching for a mysterious city in the Amazon in the 1920s.",
                                    "4": "James Gray",
                                    "5": "Charlie Hunnam, Robert Pattinson, Sienna Miller, Tom Holland",
                                    "6": "2016",
                                    "7": "141",
                                    "8": "7.1",
                                    "9": "7188",
                                    "10": "8.01",
                                    "11": "78"
                                },
                                {
                                    "0": "10",
                                    "1": "Passengers",
                                    "2": "Adventure,Drama,Romance",
                                    "3": "A spacecraft traveling to a distant colony planet and transporting thousands of people has a malfunction in its sleep chambers. As a result, two passengers are awakened 90 years early.",
                                    "4": "Morten Tyldum",
                                    "5": "Jennifer Lawrence, Chris Pratt, Michael Sheen,Laurence Fishburne",
                                    "6": "2016",
                                    "7": "116",
                                    "8": "7",
                                    "9": "192177",
                                    "10": "100.01",
                                    "11": "41"
                                }
                            ]
                        },
                        "text/html": "<table><tr><th>Rank</th><th>Title</th><th>Genre</th><th>Description</th><th>Director</th><th>Actors</th><th>Year</th><th>Runtime (Minutes)</th><th>Rating</th><th>Votes</th><th>Revenue (Millions)</th><th>Metascore</th></tr><tr><td>1</td><td>Guardians of the Galaxy</td><td>Action,Adventure,Sci-Fi</td><td>A group of intergalactic criminals are forced to work together to stop a fanatical warrior from taking control of the universe.</td><td>James Gunn</td><td>Chris Pratt, Vin Diesel, Bradley Cooper, Zoe Saldana</td><td>2014</td><td>121</td><td>8.1</td><td>757074</td><td>333.13</td><td>76</td></tr><tr><td>2</td><td>Prometheus</td><td>Adventure,Mystery,Sci-Fi</td><td>Following clues to the origin of mankind, a team finds a structure on a distant moon, but they soon realize they are not alone.</td><td>Ridley Scott</td><td>Noomi Rapace, Logan Marshall-Green, Michael Fassbender, Charlize Theron</td><td>2012</td><td>124</td><td>7</td><td>485820</td><td>126.46</td><td>65</td></tr><tr><td>3</td><td>Split</td><td>Horror,Thriller</td><td>Three girls are kidnapped by a man with a diagnosed 23 distinct personalities. They must try to escape before the apparent emergence of a frightful new 24th.</td><td>M. Night Shyamalan</td><td>James McAvoy, Anya Taylor-Joy, Haley Lu Richardson, Jessica Sula</td><td>2016</td><td>117</td><td>7.3</td><td>157606</td><td>138.12</td><td>62</td></tr><tr><td>4</td><td>Sing</td><td>Animation,Comedy,Family</td><td>In a city of humanoid animals, a hustling theater impresario's attempt to save his theater with a singing competition becomes grander than he anticipates even as its finalists' find that their lives will never be the same.</td><td>Christophe Lourdelet</td><td>Matthew McConaughey,Reese Witherspoon, Seth MacFarlane, Scarlett Johansson</td><td>2016</td><td>108</td><td>7.2</td><td>60545</td><td>270.32</td><td>59</td></tr><tr><td>5</td><td>Suicide Squad</td><td>Action,Adventure,Fantasy</td><td>A secret government agency recruits some of the most dangerous incarcerated super-villains to form a defensive task force. Their first mission: save the world from the apocalypse.</td><td>David Ayer</td><td>Will Smith, Jared Leto, Margot Robbie, Viola Davis</td><td>2016</td><td>123</td><td>6.2</td><td>393727</td><td>325.02</td><td>40</td></tr><tr><td>6</td><td>The Great Wall</td><td>Action,Adventure,Fantasy</td><td>European mercenaries searching for black powder become embroiled in the defense of the Great Wall of China against a horde of monstrous creatures.</td><td>Yimou Zhang</td><td>Matt Damon, Tian Jing, Willem Dafoe, Andy Lau</td><td>2016</td><td>103</td><td>6.1</td><td>56036</td><td>45.13</td><td>42</td></tr><tr><td>7</td><td>La La Land</td><td>Comedy,Drama,Music</td><td>A jazz pianist falls for an aspiring actress in Los Angeles.</td><td>Damien Chazelle</td><td>Ryan Gosling, Emma Stone, Rosemarie DeWitt, J.K. Simmons</td><td>2016</td><td>128</td><td>8.3</td><td>258682</td><td>151.06</td><td>93</td></tr><tr><td>8</td><td>Mindhorn</td><td>Comedy</td><td>A has-been actor best known for playing the title character in the 1980s detective series &quot;Mindhorn&quot; must work with the police when a serial killer says that he will only speak with Detective Mindhorn, whom he believes to be a real person.</td><td>Sean Foley</td><td>Essie Davis, Andrea Riseborough, Julian Barratt,Kenneth Branagh</td><td>2016</td><td>89</td><td>6.4</td><td>2490</td><td>NULL</td><td>71</td></tr><tr><td>9</td><td>The Lost City of Z</td><td>Action,Adventure,Biography</td><td>A true-life drama, centering on British explorer Col. Percival Fawcett, who disappeared while searching for a mysterious city in the Amazon in the 1920s.</td><td>James Gray</td><td>Charlie Hunnam, Robert Pattinson, Sienna Miller, Tom Holland</td><td>2016</td><td>141</td><td>7.1</td><td>7188</td><td>8.01</td><td>78</td></tr><tr><td>10</td><td>Passengers</td><td>Adventure,Drama,Romance</td><td>A spacecraft traveling to a distant colony planet and transporting thousands of people has a malfunction in its sleep chambers. As a result, two passengers are awakened 90 years early.</td><td>Morten Tyldum</td><td>Jennifer Lawrence, Chris Pratt, Michael Sheen,Laurence Fishburne</td><td>2016</td><td>116</td><td>7</td><td>192177</td><td>100.01</td><td>41</td></tr></table>"
                    }
                }
            ],
            "execution_count": 5
        },
        {
            "cell_type": "markdown",
            "source": [
                "If we look at the results above, we can see the genre column contains a comma separated list of values. This isn't what we want. We want each of these normalized into rows.\r\n",
                "\r\n",
                "The first code is here to show you the query. We can use string_Split() to separate the data into a long list. This function requires a string to split. In this case, we use CROSS APPLY to take all the values from the original genre column and pass them in. We use the comma as the second parameter. \r\n",
                "\r\n",
                "Once this is done, we use a DISTINCT as we don't need multiple copies of each genre; just one."
            ],
            "metadata": {
                "azdata_cell_guid": "c8adff8c-ef43-43a8-b94c-aef31bd54c7d"
            }
        },
        {
            "cell_type": "code",
            "source": [
                "select distinct g.value\r\n",
                " from dbo.[IMDB-Movie-Data] m\r\n",
                "  cross apply string_split(m.genre, ',') g\r\n",
                "GO"
            ],
            "metadata": {
                "azdata_cell_guid": "9ca580a4-a506-4c88-ba1e-ba49c382908d"
            },
            "outputs": [
                {
                    "output_type": "error",
                    "evalue": "Msg 207, Level 16, State 1, Line 2\r\nInvalid column name ','.",
                    "ename": "",
                    "traceback": []
                },
                {
                    "output_type": "error",
                    "evalue": "Msg 8116, Level 16, State 1, Line 1\r\nArgument data type void type is invalid for argument 2 of string_split function.",
                    "ename": "",
                    "traceback": []
                },
                {
                    "output_type": "display_data",
                    "data": {
                        "text/html": "Total execution time: 00:00:00.034"
                    },
                    "metadata": {}
                }
            ],
            "execution_count": 4
        },
        {
            "cell_type": "markdown",
            "source": [
                "Let's insert this data now, using the query above with an insert."
            ],
            "metadata": {
                "azdata_cell_guid": "f2f812cc-f0c0-46c5-9362-832b97f97b66"
            }
        },
        {
            "cell_type": "code",
            "source": [
                "insert Genre (GenreName)\r\n",
                "select distinct g.value\r\n",
                " from dbo.[IMDB-Movie-Data] m\r\n",
                "  cross apply string_split(m.genre, ',') g\r\n",
                ""
            ],
            "metadata": {
                "azdata_cell_guid": "cca8cd1d-688c-4e7d-9c1e-848c9c9b9693"
            },
            "outputs": [],
            "execution_count": 0
        },
        {
            "cell_type": "markdown",
            "source": [
                "Let's check that the insert completed successfully:"
            ],
            "metadata": {
                "azdata_cell_guid": "de83579f-452a-40f8-b39f-cc66f70417bc"
            }
        },
        {
            "cell_type": "code",
            "source": [
                "select * from dbo.genre"
            ],
            "metadata": {
                "azdata_cell_guid": "81431210-e631-4d99-b62f-bdb2a11c9cd3"
            },
            "outputs": [
                {
                    "output_type": "display_data",
                    "data": {
                        "text/html": "(20 rows affected)"
                    },
                    "metadata": {}
                },
                {
                    "output_type": "display_data",
                    "data": {
                        "text/html": "Total execution time: 00:00:00.017"
                    },
                    "metadata": {}
                },
                {
                    "output_type": "execute_result",
                    "metadata": {},
                    "execution_count": 6,
                    "data": {
                        "application/vnd.dataresource+json": {
                            "schema": {
                                "fields": [
                                    {
                                        "name": "$node_id_91678B04D5AD42BE8147FB9AA69ADD29"
                                    },
                                    {
                                        "name": "GenreID"
                                    },
                                    {
                                        "name": "GenreName"
                                    }
                                ]
                            },
                            "data": [
                                {
                                    "0": "{\"type\":\"node\",\"schema\":\"dbo\",\"table\":\"Genre\",\"id\":0}",
                                    "1": "1",
                                    "2": "Crime"
                                },
                                {
                                    "0": "{\"type\":\"node\",\"schema\":\"dbo\",\"table\":\"Genre\",\"id\":1}",
                                    "1": "2",
                                    "2": "Adventure"
                                },
                                {
                                    "0": "{\"type\":\"node\",\"schema\":\"dbo\",\"table\":\"Genre\",\"id\":2}",
                                    "1": "3",
                                    "2": "Animation"
                                },
                                {
                                    "0": "{\"type\":\"node\",\"schema\":\"dbo\",\"table\":\"Genre\",\"id\":3}",
                                    "1": "4",
                                    "2": "Comedy"
                                },
                                {
                                    "0": "{\"type\":\"node\",\"schema\":\"dbo\",\"table\":\"Genre\",\"id\":4}",
                                    "1": "5",
                                    "2": "Western"
                                },
                                {
                                    "0": "{\"type\":\"node\",\"schema\":\"dbo\",\"table\":\"Genre\",\"id\":5}",
                                    "1": "6",
                                    "2": "Fantasy"
                                },
                                {
                                    "0": "{\"type\":\"node\",\"schema\":\"dbo\",\"table\":\"Genre\",\"id\":6}",
                                    "1": "7",
                                    "2": "Music"
                                },
                                {
                                    "0": "{\"type\":\"node\",\"schema\":\"dbo\",\"table\":\"Genre\",\"id\":7}",
                                    "1": "8",
                                    "2": "Sci-Fi"
                                },
                                {
                                    "0": "{\"type\":\"node\",\"schema\":\"dbo\",\"table\":\"Genre\",\"id\":8}",
                                    "1": "9",
                                    "2": "Musical"
                                },
                                {
                                    "0": "{\"type\":\"node\",\"schema\":\"dbo\",\"table\":\"Genre\",\"id\":9}",
                                    "1": "10",
                                    "2": "Thriller"
                                },
                                {
                                    "0": "{\"type\":\"node\",\"schema\":\"dbo\",\"table\":\"Genre\",\"id\":10}",
                                    "1": "11",
                                    "2": "Family"
                                },
                                {
                                    "0": "{\"type\":\"node\",\"schema\":\"dbo\",\"table\":\"Genre\",\"id\":11}",
                                    "1": "12",
                                    "2": "Romance"
                                },
                                {
                                    "0": "{\"type\":\"node\",\"schema\":\"dbo\",\"table\":\"Genre\",\"id\":12}",
                                    "1": "13",
                                    "2": "Action"
                                },
                                {
                                    "0": "{\"type\":\"node\",\"schema\":\"dbo\",\"table\":\"Genre\",\"id\":13}",
                                    "1": "14",
                                    "2": "Horror"
                                },
                                {
                                    "0": "{\"type\":\"node\",\"schema\":\"dbo\",\"table\":\"Genre\",\"id\":14}",
                                    "1": "15",
                                    "2": "Drama"
                                },
                                {
                                    "0": "{\"type\":\"node\",\"schema\":\"dbo\",\"table\":\"Genre\",\"id\":15}",
                                    "1": "16",
                                    "2": "War"
                                },
                                {
                                    "0": "{\"type\":\"node\",\"schema\":\"dbo\",\"table\":\"Genre\",\"id\":16}",
                                    "1": "17",
                                    "2": "Mystery"
                                },
                                {
                                    "0": "{\"type\":\"node\",\"schema\":\"dbo\",\"table\":\"Genre\",\"id\":17}",
                                    "1": "18",
                                    "2": "Sport"
                                },
                                {
                                    "0": "{\"type\":\"node\",\"schema\":\"dbo\",\"table\":\"Genre\",\"id\":18}",
                                    "1": "19",
                                    "2": "Biography"
                                },
                                {
                                    "0": "{\"type\":\"node\",\"schema\":\"dbo\",\"table\":\"Genre\",\"id\":19}",
                                    "1": "20",
                                    "2": "History"
                                }
                            ]
                        },
                        "text/html": "<table><tr><th>$node_id_91678B04D5AD42BE8147FB9AA69ADD29</th><th>GenreID</th><th>GenreName</th></tr><tr><td>{&quot;type&quot;:&quot;node&quot;,&quot;schema&quot;:&quot;dbo&quot;,&quot;table&quot;:&quot;Genre&quot;,&quot;id&quot;:0}</td><td>1</td><td>Crime</td></tr><tr><td>{&quot;type&quot;:&quot;node&quot;,&quot;schema&quot;:&quot;dbo&quot;,&quot;table&quot;:&quot;Genre&quot;,&quot;id&quot;:1}</td><td>2</td><td>Adventure</td></tr><tr><td>{&quot;type&quot;:&quot;node&quot;,&quot;schema&quot;:&quot;dbo&quot;,&quot;table&quot;:&quot;Genre&quot;,&quot;id&quot;:2}</td><td>3</td><td>Animation</td></tr><tr><td>{&quot;type&quot;:&quot;node&quot;,&quot;schema&quot;:&quot;dbo&quot;,&quot;table&quot;:&quot;Genre&quot;,&quot;id&quot;:3}</td><td>4</td><td>Comedy</td></tr><tr><td>{&quot;type&quot;:&quot;node&quot;,&quot;schema&quot;:&quot;dbo&quot;,&quot;table&quot;:&quot;Genre&quot;,&quot;id&quot;:4}</td><td>5</td><td>Western</td></tr><tr><td>{&quot;type&quot;:&quot;node&quot;,&quot;schema&quot;:&quot;dbo&quot;,&quot;table&quot;:&quot;Genre&quot;,&quot;id&quot;:5}</td><td>6</td><td>Fantasy</td></tr><tr><td>{&quot;type&quot;:&quot;node&quot;,&quot;schema&quot;:&quot;dbo&quot;,&quot;table&quot;:&quot;Genre&quot;,&quot;id&quot;:6}</td><td>7</td><td>Music</td></tr><tr><td>{&quot;type&quot;:&quot;node&quot;,&quot;schema&quot;:&quot;dbo&quot;,&quot;table&quot;:&quot;Genre&quot;,&quot;id&quot;:7}</td><td>8</td><td>Sci-Fi</td></tr><tr><td>{&quot;type&quot;:&quot;node&quot;,&quot;schema&quot;:&quot;dbo&quot;,&quot;table&quot;:&quot;Genre&quot;,&quot;id&quot;:8}</td><td>9</td><td>Musical</td></tr><tr><td>{&quot;type&quot;:&quot;node&quot;,&quot;schema&quot;:&quot;dbo&quot;,&quot;table&quot;:&quot;Genre&quot;,&quot;id&quot;:9}</td><td>10</td><td>Thriller</td></tr><tr><td>{&quot;type&quot;:&quot;node&quot;,&quot;schema&quot;:&quot;dbo&quot;,&quot;table&quot;:&quot;Genre&quot;,&quot;id&quot;:10}</td><td>11</td><td>Family</td></tr><tr><td>{&quot;type&quot;:&quot;node&quot;,&quot;schema&quot;:&quot;dbo&quot;,&quot;table&quot;:&quot;Genre&quot;,&quot;id&quot;:11}</td><td>12</td><td>Romance</td></tr><tr><td>{&quot;type&quot;:&quot;node&quot;,&quot;schema&quot;:&quot;dbo&quot;,&quot;table&quot;:&quot;Genre&quot;,&quot;id&quot;:12}</td><td>13</td><td>Action</td></tr><tr><td>{&quot;type&quot;:&quot;node&quot;,&quot;schema&quot;:&quot;dbo&quot;,&quot;table&quot;:&quot;Genre&quot;,&quot;id&quot;:13}</td><td>14</td><td>Horror</td></tr><tr><td>{&quot;type&quot;:&quot;node&quot;,&quot;schema&quot;:&quot;dbo&quot;,&quot;table&quot;:&quot;Genre&quot;,&quot;id&quot;:14}</td><td>15</td><td>Drama</td></tr><tr><td>{&quot;type&quot;:&quot;node&quot;,&quot;schema&quot;:&quot;dbo&quot;,&quot;table&quot;:&quot;Genre&quot;,&quot;id&quot;:15}</td><td>16</td><td>War</td></tr><tr><td>{&quot;type&quot;:&quot;node&quot;,&quot;schema&quot;:&quot;dbo&quot;,&quot;table&quot;:&quot;Genre&quot;,&quot;id&quot;:16}</td><td>17</td><td>Mystery</td></tr><tr><td>{&quot;type&quot;:&quot;node&quot;,&quot;schema&quot;:&quot;dbo&quot;,&quot;table&quot;:&quot;Genre&quot;,&quot;id&quot;:17}</td><td>18</td><td>Sport</td></tr><tr><td>{&quot;type&quot;:&quot;node&quot;,&quot;schema&quot;:&quot;dbo&quot;,&quot;table&quot;:&quot;Genre&quot;,&quot;id&quot;:18}</td><td>19</td><td>Biography</td></tr><tr><td>{&quot;type&quot;:&quot;node&quot;,&quot;schema&quot;:&quot;dbo&quot;,&quot;table&quot;:&quot;Genre&quot;,&quot;id&quot;:19}</td><td>20</td><td>History</td></tr></table>"
                    }
                }
            ],
            "execution_count": 6
        },
        {
            "cell_type": "markdown",
            "source": [
                "There are only 20 genres in total.\r\n",
                "\r\n",
                "## Loading Peopple\r\n",
                "\r\n",
                "We have two sets of people in our original dataset. I'll use the query below to show these."
            ],
            "metadata": {
                "azdata_cell_guid": "575f4b26-e4b5-4147-9313-830fe214edfa"
            }
        },
        {
            "cell_type": "code",
            "source": [
                "select director, actors\r\n",
                " from dbo.[imdb-movie-data]"
            ],
            "metadata": {
                "azdata_cell_guid": "786af75d-f07f-49a2-8a59-fc7979e927c3"
            },
            "outputs": [
                {
                    "output_type": "display_data",
                    "data": {
                        "text/html": "(1000 rows affected)"
                    },
                    "metadata": {}
                },
                {
                    "output_type": "display_data",
                    "data": {
                        "text/html": "Total execution time: 00:00:00.032"
                    },
                    "metadata": {}
                },
                {
                    "output_type": "execute_result",
                    "metadata": {},
                    "execution_count": 8,
                    "data": {
                        "application/vnd.dataresource+json": {
                            "schema": {
                                "fields": [
                                    {
                                        "name": "director"
                                    },
                                    {
                                        "name": "actors"
                                    }
                                ]
                            },
                            "data": [
                                {
                                    "0": "James Gunn",
                                    "1": "Chris Pratt, Vin Diesel, Bradley Cooper, Zoe Saldana"
                                },
                                {
                                    "0": "Ridley Scott",
                                    "1": "Noomi Rapace, Logan Marshall-Green, Michael Fassbender, Charlize Theron"
                                },
                                {
                                    "0": "M. Night Shyamalan",
                                    "1": "James McAvoy, Anya Taylor-Joy, Haley Lu Richardson, Jessica Sula"
                                },
                                {
                                    "0": "Christophe Lourdelet",
                                    "1": "Matthew McConaughey,Reese Witherspoon, Seth MacFarlane, Scarlett Johansson"
                                },
                                {
                                    "0": "David Ayer",
                                    "1": "Will Smith, Jared Leto, Margot Robbie, Viola Davis"
                                },
                                {
                                    "0": "Yimou Zhang",
                                    "1": "Matt Damon, Tian Jing, Willem Dafoe, Andy Lau"
                                },
                                {
                                    "0": "Damien Chazelle",
                                    "1": "Ryan Gosling, Emma Stone, Rosemarie DeWitt, J.K. Simmons"
                                },
                                {
                                    "0": "Sean Foley",
                                    "1": "Essie Davis, Andrea Riseborough, Julian Barratt,Kenneth Branagh"
                                },
                                {
                                    "0": "James Gray",
                                    "1": "Charlie Hunnam, Robert Pattinson, Sienna Miller, Tom Holland"
                                },
                                {
                                    "0": "Morten Tyldum",
                                    "1": "Jennifer Lawrence, Chris Pratt, Michael Sheen,Laurence Fishburne"
                                },
                                {
                                    "0": "David Yates",
                                    "1": "Eddie Redmayne, Katherine Waterston, Alison Sudol,Dan Fogler"
                                },
                                {
                                    "0": "Theodore Melfi",
                                    "1": "Taraji P. Henson, Octavia Spencer, Janelle Monáe,Kevin Costner"
                                },
                                {
                                    "0": "Gareth Edwards",
                                    "1": "Felicity Jones, Diego Luna, Alan Tudyk, Donnie Yen"
                                },
                                {
                                    "0": "Ron Clements",
                                    "1": "Auli'i Cravalho, Dwayne Johnson, Rachel House, Temuera Morrison"
                                },
                                {
                                    "0": "Nacho Vigalondo",
                                    "1": "Anne Hathaway, Jason Sudeikis, Austin Stowell,Tim Blake Nelson"
                                },
                                {
                                    "0": "Chris Renaud",
                                    "1": "Louis C.K., Eric Stonestreet, Kevin Hart, Lake Bell"
                                },
                                {
                                    "0": "Mel Gibson",
                                    "1": "Andrew Garfield, Sam Worthington, Luke Bracey,Teresa Palmer"
                                },
                                {
                                    "0": "Paul Greengrass",
                                    "1": "Matt Damon, Tommy Lee Jones, Alicia Vikander,Vincent Cassel"
                                },
                                {
                                    "0": "Garth Davis",
                                    "1": "Dev Patel, Nicole Kidman, Rooney Mara, Sunny Pawar"
                                },
                                {
                                    "0": "Denis Villeneuve",
                                    "1": "Amy Adams, Jeremy Renner, Forest Whitaker,Michael Stuhlbarg"
                                },
                                {
                                    "0": "Stephen Gaghan",
                                    "1": "Matthew McConaughey, Edgar Ramírez, Bryce Dallas Howard, Corey Stoll"
                                },
                                {
                                    "0": "Kenneth Lonergan",
                                    "1": "Casey Affleck, Michelle Williams, Kyle Chandler,Lucas Hedges"
                                },
                                {
                                    "0": "Ben Young",
                                    "1": "Emma Booth, Ashleigh Cummings, Stephen Curry,Susie Porter"
                                },
                                {
                                    "0": "Walt Dohrn",
                                    "1": "Anna Kendrick, Justin Timberlake,Zooey Deschanel, Christopher Mintz-Plasse"
                                },
                                {
                                    "0": "Roland Emmerich",
                                    "1": "Liam Hemsworth, Jeff Goldblum, Bill Pullman,Maika Monroe"
                                },
                                {
                                    "0": "Dominique Abel",
                                    "1": "Fiona Gordon, Dominique Abel,Emmanuelle Riva, Pierre Richard"
                                },
                                {
                                    "0": "S.S. Rajamouli",
                                    "1": "Prabhas, Rana Daggubati, Anushka Shetty,Tamannaah Bhatia"
                                },
                                {
                                    "0": "Phillip Guzman",
                                    "1": "Jocelin Donahue, Jesse Bradford, Jesse Borrego,Lori Petty"
                                },
                                {
                                    "0": "Jon Lucas",
                                    "1": "Mila Kunis, Kathryn Hahn, Kristen Bell,Christina Applegate"
                                },
                                {
                                    "0": "Justin Kurzel",
                                    "1": "Michael Fassbender, Marion Cotillard, Jeremy Irons,Brendan Gleeson"
                                },
                                {
                                    "0": "John Hamburg",
                                    "1": "Zoey Deutch, James Franco, Tangie Ambrose,Cedric the Entertainer"
                                },
                                {
                                    "0": "Tom Ford",
                                    "1": "Amy Adams, Jake Gyllenhaal, Michael Shannon, Aaron Taylor-Johnson"
                                },
                                {
                                    "0": "Bryan Singer",
                                    "1": "James McAvoy, Michael Fassbender, Jennifer Lawrence, Nicholas Hoult"
                                },
                                {
                                    "0": "Tim Miller",
                                    "1": "Ryan Reynolds, Morena Baccarin, T.J. Miller, Ed Skrein"
                                },
                                {
                                    "0": "Paul W.S. Anderson",
                                    "1": "Milla Jovovich, Iain Glen, Ali Larter, Shawn Roberts"
                                },
                                {
                                    "0": "Anthony Russo",
                                    "1": "Chris Evans, Robert Downey Jr.,Scarlett Johansson, Sebastian Stan"
                                },
                                {
                                    "0": "Christopher Nolan",
                                    "1": "Matthew McConaughey, Anne Hathaway, Jessica Chastain, Mackenzie Foy"
                                },
                                {
                                    "0": "Scott Derrickson",
                                    "1": "Benedict Cumberbatch, Chiwetel Ejiofor, Rachel McAdams, Benedict Wong"
                                },
                                {
                                    "0": "Antoine Fuqua",
                                    "1": "Denzel Washington, Chris Pratt, Ethan Hawke,Vincent D'Onofrio"
                                },
                                {
                                    "0": "Patrick Read Johnson",
                                    "1": "John Francis Daley, Austin Pendleton, Colleen Camp, Neil Flynn"
                                },
                                {
                                    "0": "Greg Tiernan",
                                    "1": "Seth Rogen, Kristen Wiig, Jonah Hill, Alistair Abell"
                                },
                                {
                                    "0": "Barry Jenkins",
                                    "1": "Mahershala Ali, Shariff Earp, Duan Sanderson, Alex R. Hibbert"
                                },
                                {
                                    "0": "Shawn Burkett",
                                    "1": "Brittany Blanton, Ayse Howard, Roman Jossart,Nadia White"
                                },
                                {
                                    "0": "John Lee Hancock",
                                    "1": "Michael Keaton, Nick Offerman, John Carroll Lynch, Linda Cardellini"
                                },
                                {
                                    "0": "Ricardo de Montreuil",
                                    "1": "Gabriel Chavarria, Demián Bichir, Theo Rossi,Tony Revolori"
                                },
                                {
                                    "0": "Rob Marshall",
                                    "1": "Johnny Depp, Penélope Cruz, Ian McShane, Geoffrey Rush"
                                },
                                {
                                    "0": "John Madden",
                                    "1": "Jessica Chastain, Mark Strong, Gugu Mbatha-Raw,Michael Stuhlbarg"
                                },
                                {
                                    "0": "Scott Hicks",
                                    "1": "Hermione Corfield, Addison Timlin, Joely Richardson,Jeremy Irvine"
                                },
                                {
                                    "0": "Justin Lin",
                                    "1": "Chris Pine, Zachary Quinto, Karl Urban, Zoe Saldana"
                                },
                                {
                                    "0": "Sean Penn",
                                    "1": "Charlize Theron, Javier Bardem, Adèle Exarchopoulos,Jared Harris"
                                },
                                {
                                    "0": "J.J. Abrams",
                                    "1": "Daisy Ridley, John Boyega, Oscar Isaac, Domhnall Gleeson"
                                },
                                {
                                    "0": "Anna Foerster",
                                    "1": "Kate Beckinsale, Theo James, Tobias Menzies, Lara Pulver"
                                },
                                {
                                    "0": "Garry Marshall",
                                    "1": "Jennifer Aniston, Kate Hudson, Julia Roberts, Jason Sudeikis"
                                },
                                {
                                    "0": "Chad Stahelski",
                                    "1": "Keanu Reeves, Michael Nyqvist, Alfie Allen, Willem Dafoe"
                                },
                                {
                                    "0": "Christopher Nolan",
                                    "1": "Christian Bale, Heath Ledger, Aaron Eckhart,Michael Caine"
                                },
                                {
                                    "0": "Martin Scorsese",
                                    "1": "Andrew Garfield, Adam Driver, Liam Neeson,Tadanobu Asano"
                                },
                                {
                                    "0": "Fede Alvarez",
                                    "1": "Stephen Lang, Jane Levy, Dylan Minnette, Daniel Zovatto"
                                },
                                {
                                    "0": "Thea Sharrock",
                                    "1": "Emilia Clarke, Sam Claflin, Janet McTeer, Charles Dance"
                                },
                                {
                                    "0": "Lone Scherfig",
                                    "1": "Gemma Arterton, Sam Claflin, Bill Nighy, Jack Huston"
                                },
                                {
                                    "0": "Clint Eastwood",
                                    "1": "Tom Hanks, Aaron Eckhart, Laura Linney, Valerie Mahaffey"
                                },
                                {
                                    "0": "Zack Snyder",
                                    "1": "Ben Affleck, Henry Cavill, Amy Adams, Jesse Eisenberg"
                                },
                                {
                                    "0": "André Øvredal",
                                    "1": "Brian Cox, Emile Hirsch, Ophelia Lovibond, Michael McElhatton"
                                },
                                {
                                    "0": "Tate Taylor",
                                    "1": "Emily Blunt, Haley Bennett, Rebecca Ferguson, Justin Theroux"
                                },
                                {
                                    "0": "Sam Taylor-Johnson",
                                    "1": "Dakota Johnson, Jamie Dornan, Jennifer Ehle,Eloise Mumford"
                                },
                                {
                                    "0": "Christopher Nolan",
                                    "1": "Christian Bale, Hugh Jackman, Scarlett Johansson, Michael Caine"
                                },
                                {
                                    "0": "Matthew Vaughn",
                                    "1": "Colin Firth, Taron Egerton, Samuel L. Jackson,Michael Caine"
                                },
                                {
                                    "0": "Peter Berg",
                                    "1": "Mark Wahlberg, Michelle Monaghan, J.K. Simmons, John Goodman"
                                },
                                {
                                    "0": "George Miller",
                                    "1": "Tom Hardy, Charlize Theron, Nicholas Hoult, Zoë Kravitz"
                                },
                                {
                                    "0": "Robin Swicord",
                                    "1": "Bryan Cranston, Jennifer Garner, Beverly D'Angelo,Jason O'Mara"
                                },
                                {
                                    "0": "Peter Berg",
                                    "1": "Mark Wahlberg, Kurt Russell, Douglas M. Griffin, James DuMont"
                                },
                                {
                                    "0": "Terry George",
                                    "1": "Oscar Isaac, Charlotte Le Bon, Christian Bale, Daniel Giménez Cacho"
                                },
                                {
                                    "0": "Robert Zemeckis",
                                    "1": "Brad Pitt, Marion Cotillard, Jared Harris, Vincent Ebrahim"
                                },
                                {
                                    "0": "J.A. Bayona",
                                    "1": "Lewis MacDougall, Sigourney Weaver, Felicity Jones,Toby Kebbell"
                                },
                                {
                                    "0": "David Frankel",
                                    "1": "Will Smith, Edward Norton, Kate Winslet, Michael Peña"
                                },
                                {
                                    "0": "Byron Howard",
                                    "1": "Ginnifer Goodwin, Jason Bateman, Idris Elba, Jenny Slate"
                                },
                                {
                                    "0": "Gore Verbinski",
                                    "1": "Johnny Depp, Orlando Bloom, Keira Knightley,Geoffrey Rush"
                                },
                                {
                                    "0": "Joss Whedon",
                                    "1": "Robert Downey Jr., Chris Evans, Scarlett Johansson,Jeremy Renner"
                                },
                                {
                                    "0": "Quentin Tarantino",
                                    "1": "Brad Pitt, Diane Kruger, Eli Roth,Mélanie Laurent"
                                },
                                {
                                    "0": "Gore Verbinski",
                                    "1": "Johnny Depp, Orlando Bloom, Keira Knightley, Jack Davenport"
                                },
                                {
                                    "0": "Paul Feig",
                                    "1": "Melissa McCarthy, Kristen Wiig, Kate McKinnon, Leslie Jones"
                                },
                                {
                                    "0": "Christopher Nolan",
                                    "1": "Leonardo DiCaprio, Joseph Gordon-Levitt, Ellen Page, Ken Watanabe"
                                },
                                {
                                    "0": "Matt Ross",
                                    "1": "Viggo Mortensen, George MacKay, Samantha Isler,Annalise Basso"
                                },
                                {
                                    "0": "Martin Scorsese",
                                    "1": "Leonardo DiCaprio, Jonah Hill, Margot Robbie,Matthew McConaughey"
                                },
                                {
                                    "0": "David Fincher",
                                    "1": "Ben Affleck, Rosamund Pike, Neil Patrick Harris,Tyler Perry"
                                },
                                {
                                    "0": "James Wan",
                                    "1": "Vin Diesel, Paul Walker, Dwayne Johnson, Jason Statham"
                                },
                                {
                                    "0": "Colin Trevorrow",
                                    "1": "Chris Pratt, Bryce Dallas Howard, Ty Simpkins,Judy Greer"
                                },
                                {
                                    "0": "Ben Affleck",
                                    "1": "Ben Affleck, Elle Fanning, Brendan Gleeson, Chris Messina"
                                },
                                {
                                    "0": "James Cameron",
                                    "1": "Sam Worthington, Zoe Saldana, Sigourney Weaver, Michelle Rodriguez"
                                },
                                {
                                    "0": "Quentin Tarantino",
                                    "1": "Samuel L. Jackson, Kurt Russell, Jennifer Jason Leigh, Walton Goggins"
                                },
                                {
                                    "0": "Gavin O'Connor",
                                    "1": "Ben Affleck, Anna Kendrick, J.K. Simmons, Jon Bernthal"
                                },
                                {
                                    "0": "Denis Villeneuve",
                                    "1": "Hugh Jackman, Jake Gyllenhaal, Viola Davis,Melissa Leo"
                                },
                                {
                                    "0": "Duncan Jones",
                                    "1": "Travis Fimmel, Paula Patton, Ben Foster, Dominic Cooper"
                                },
                                {
                                    "0": "Tate Taylor",
                                    "1": "Emma Stone, Viola Davis, Octavia Spencer, Bryce Dallas Howard"
                                },
                                {
                                    "0": "Todd Phillips",
                                    "1": "Jonah Hill, Miles Teller, Steve Lantz, Gregg Weiner"
                                },
                                {
                                    "0": "Joss Whedon",
                                    "1": "Robert Downey Jr., Chris Evans, Mark Ruffalo, Chris Hemsworth"
                                },
                                {
                                    "0": "Shane Black",
                                    "1": "Russell Crowe, Ryan Gosling, Angourie Rice, Matt Bomer"
                                },
                                {
                                    "0": "Makoto Shinkai",
                                    "1": "Ryûnosuke Kamiki, Mone Kamishiraishi, Ryô Narita, Aoi Yuki"
                                },
                                {
                                    "0": "Jeremy Gillespie",
                                    "1": "Aaron Poole, Kenneth Welsh,Daniel Fathers, Kathleen Munroe"
                                },
                                {
                                    "0": "Olivier Assayas",
                                    "1": "Kristen Stewart, Lars Eidinger, Sigrid Bouaziz,Anders Danielsen Lie"
                                },
                                {
                                    "0": "Martin Scorsese",
                                    "1": "Leonardo DiCaprio, Matt Damon, Jack Nicholson, Mark Wahlberg"
                                },
                                {
                                    "0": "Brian Helgeland",
                                    "1": "Tom Hardy, Emily Browning, Taron Egerton, Paul Anderson"
                                },
                                {
                                    "0": "Kenneth Branagh",
                                    "1": "Chris Hemsworth, Anthony Hopkins, Natalie Portman, Tom Hiddleston"
                                },
                                {
                                    "0": "Ridley Scott",
                                    "1": "Matt Damon, Jessica Chastain, Kristen Wiig, Kate Mara"
                                },
                                {
                                    "0": "Oriol Paulo",
                                    "1": "Mario Casas, Ana Wagener, José Coronado, Bárbara Lennie"
                                },
                                {
                                    "0": "Guy Ritchie",
                                    "1": "Henry Cavill, Armie Hammer, Alicia Vikander, Elizabeth Debicki"
                                },
                                {
                                    "0": "David Mackenzie",
                                    "1": "Chris Pine, Ben Foster, Jeff Bridges, Gil Birmingham"
                                },
                                {
                                    "0": "Taylor Hackford",
                                    "1": "Robert De Niro, Leslie Mann, Danny DeVito, Edie Falco"
                                },
                                {
                                    "0": "David Yates",
                                    "1": "Alexander Skarsgård, Rory J. Saper, Christian Stevens, Christoph Waltz"
                                },
                                {
                                    "0": "Katie Holmes",
                                    "1": "Eve Lindley, Richard Kind, Mark Consuelos, Katherine Reis"
                                },
                                {
                                    "0": "Alex Garland",
                                    "1": "Alicia Vikander, Domhnall Gleeson, Oscar Isaac,Sonoya Mizuno"
                                },
                                {
                                    "0": "Greg McLean",
                                    "1": "John Gallagher Jr., Tony Goldwyn, Adria Arjona, John C. McGinley"
                                },
                                {
                                    "0": "Steve McQueen",
                                    "1": "Chiwetel Ejiofor, Michael Kenneth Williams, Michael Fassbender, Brad Pitt"
                                },
                                {
                                    "0": "Ana Lily Amirpour",
                                    "1": "Keanu Reeves, Jason Momoa, Jim Carrey, Diego Luna"
                                },
                                {
                                    "0": "Zack Snyder",
                                    "1": "Gerard Butler, Lena Headey, David Wenham, Dominic West"
                                },
                                {
                                    "0": "David Yates",
                                    "1": "Daniel Radcliffe, Emma Watson, Rupert Grint, Michael Gambon"
                                },
                                {
                                    "0": "Josh Gordon",
                                    "1": "Jason Bateman, Olivia Munn, T.J. Miller,Jennifer Aniston"
                                },
                                {
                                    "0": "Nicolas Winding Refn",
                                    "1": "Elle Fanning, Christina Hendricks, Keanu Reeves, Karl Glusman"
                                },
                                {
                                    "0": "Nitesh Tiwari",
                                    "1": "Aamir Khan, Sakshi Tanwar, Fatima Sana Shaikh,Sanya Malhotra"
                                },
                                {
                                    "0": "Dan Trachtenberg",
                                    "1": "John Goodman, Mary Elizabeth Winstead, John Gallagher Jr., Douglas M. Griffin"
                                },
                                {
                                    "0": "Andrew Stanton",
                                    "1": "Ellen DeGeneres, Albert Brooks,Ed O'Neill, Kaitlin Olson"
                                },
                                {
                                    "0": "Tim Burton",
                                    "1": "Eva Green, Asa Butterfield, Samuel L. Jackson, Judi Dench"
                                },
                                {
                                    "0": "Neil Burger",
                                    "1": "Shailene Woodley, Theo James, Kate Winslet, Jai Courtney"
                                },
                                {
                                    "0": "Jake Szymanski",
                                    "1": "Zac Efron, Adam Devine, Anna Kendrick, Aubrey Plaza"
                                },
                                {
                                    "0": "Todor Chapkanov",
                                    "1": "Scott Adkins, Teodora Duhovnikova, Alon Aboutboul, Julian Vergov"
                                },
                                {
                                    "0": "Christopher Nolan",
                                    "1": "Christian Bale, Tom Hardy, Anne Hathaway,Gary Oldman"
                                },
                                {
                                    "0": "Jon Favreau",
                                    "1": "Neel Sethi, Bill Murray, Ben Kingsley, Idris Elba"
                                },
                                {
                                    "0": "Michael Bay",
                                    "1": "Mark Wahlberg, Nicola Peltz, Jack Reynor, Stanley Tucci"
                                },
                                {
                                    "0": "Henry Joost",
                                    "1": "Emma Roberts, Dave Franco, Emily Meade, Miles Heizer"
                                },
                                {
                                    "0": "Phyllida Lloyd",
                                    "1": "Meryl Streep, Pierce Brosnan, Amanda Seyfried,Stellan Skarsgård"
                                },
                                {
                                    "0": "Alejandro González Iñárritu",
                                    "1": "Leonardo DiCaprio, Tom Hardy, Will Poulter, Domhnall Gleeson"
                                },
                                {
                                    "0": "Denzel Washington",
                                    "1": "Denzel Washington, Viola Davis, Stephen Henderson, Jovan Adepo"
                                },
                                {
                                    "0": "Rob Marshall",
                                    "1": "Anna Kendrick, Meryl Streep, Chris Pine, Emily Blunt"
                                },
                                {
                                    "0": "Jaume Collet-Serra",
                                    "1": "Blake Lively, Óscar Jaenada, Angelo Josue Lozano Corzo, Brett Cullen"
                                },
                                {
                                    "0": "Damien Chazelle",
                                    "1": "Miles Teller, J.K. Simmons, Melissa Benoist, Paul Reiser"
                                },
                                {
                                    "0": "Justin Lin",
                                    "1": "Vin Diesel, Paul Walker, Dwayne Johnson, Michelle Rodriguez"
                                },
                                {
                                    "0": "Derek Cianfrance",
                                    "1": "Ryan Gosling, Bradley Cooper, Eva Mendes,Craig Van Hook"
                                },
                                {
                                    "0": "Ethan Coen",
                                    "1": "Tommy Lee Jones, Javier Bardem, Josh Brolin, Woody Harrelson"
                                },
                                {
                                    "0": "Baz Luhrmann",
                                    "1": "Leonardo DiCaprio, Carey Mulligan, Joel Edgerton,Tobey Maguire"
                                },
                                {
                                    "0": "Martin Scorsese",
                                    "1": "Leonardo DiCaprio, Emily Mortimer, Mark Ruffalo,Ben Kingsley"
                                },
                                {
                                    "0": "Martin Koolhoven",
                                    "1": "Dakota Fanning, Guy Pearce, Kit Harington,Carice van Houten"
                                },
                                {
                                    "0": "J.J. Abrams",
                                    "1": "Chris Pine, Zachary Quinto, Simon Pegg, Leonard Nimoy"
                                },
                                {
                                    "0": "Thor Freudenthal",
                                    "1": "Zachary Gordon, Robert Capron, Rachael Harris,Steve Zahn"
                                },
                                {
                                    "0": "Adam McKay",
                                    "1": "Christian Bale, Steve Carell, Ryan Gosling, Brad Pitt"
                                },
                                {
                                    "0": "Lenny Abrahamson",
                                    "1": "Brie Larson, Jacob Tremblay, Sean Bridgers,Wendy Crewson"
                                },
                                {
                                    "0": "Quentin Tarantino",
                                    "1": "Jamie Foxx, Christoph Waltz, Leonardo DiCaprio,Kerry Washington"
                                },
                                {
                                    "0": "Chan-wook Park",
                                    "1": "Min-hee Kim, Jung-woo Ha, Jin-woong Jo, So-ri Moon"
                                },
                                {
                                    "0": "Kelly Fremon Craig",
                                    "1": "Hailee Steinfeld, Haley Lu Richardson, Blake Jenner, Kyra Sedgwick"
                                },
                                {
                                    "0": "Zack Snyder",
                                    "1": "Jackie Earle Haley, Patrick Wilson, Carla Gugino,Malin Akerman"
                                },
                                {
                                    "0": "Greg Mottola",
                                    "1": "Michael Cera, Jonah Hill, Christopher Mintz-Plasse, Bill Hader"
                                },
                                {
                                    "0": "Ron Howard",
                                    "1": "Tom Hanks, Felicity Jones, Irrfan Khan, Ben Foster"
                                },
                                {
                                    "0": "Steven Spielberg",
                                    "1": "Mark Rylance, Ruby Barnhill, Penelope Wilton,Jemaine Clement"
                                },
                                {
                                    "0": "Gary Ross",
                                    "1": "Jennifer Lawrence, Josh Hutcherson, Liam Hemsworth,Stanley Tucci"
                                },
                                {
                                    "0": "Elizabeth Wood",
                                    "1": "Morgan Saylor, Brian Marc, Justin Bartha, Adrian Martinez"
                                },
                                {
                                    "0": "Denis Villeneuve",
                                    "1": "Emily Blunt, Josh Brolin, Benicio Del Toro, Jon Bernthal"
                                },
                                {
                                    "0": "David Lynch",
                                    "1": "Chris Isaak, Kiefer Sutherland, C.H. Evans, Sandra Kinder"
                                },
                                {
                                    "0": "Colin Strause",
                                    "1": "Reiko Aylesworth, Steven Pasquale,Shareeka Epps, John Ortiz"
                                },
                                {
                                    "0": "Guillermo del Toro",
                                    "1": "Idris Elba, Charlie Hunnam, Rinko Kikuchi,Charlie Day"
                                },
                                {
                                    "0": "Glenn Ficarra",
                                    "1": "Steve Carell, Ryan Gosling, Julianne Moore, Emma Stone"
                                },
                                {
                                    "0": "Edgar Wright",
                                    "1": "Michael Cera, Mary Elizabeth Winstead, Kieran Culkin, Alison Pill"
                                },
                                {
                                    "0": "Edgar Wright",
                                    "1": "Simon Pegg, Nick Frost, Martin Freeman, Bill Nighy"
                                },
                                {
                                    "0": "Fabio Guaglione",
                                    "1": "Armie Hammer, Annabelle Wallis,Tom Cullen, Clint Dyer"
                                },
                                {
                                    "0": "Ben Wheatley",
                                    "1": "Sharlto Copley, Brie Larson, Armie Hammer, Cillian Murphy"
                                },
                                {
                                    "0": "Bryan Singer",
                                    "1": "Patrick Stewart, Ian McKellen, Hugh Jackman, James McAvoy"
                                },
                                {
                                    "0": "Edward Zwick",
                                    "1": "Tom Cruise, Cobie Smulders, Aldis Hodge, Robert Knepper"
                                },
                                {
                                    "0": "Martin Campbell",
                                    "1": "Daniel Craig, Eva Green, Judi Dench, Jeffrey Wright"
                                },
                                {
                                    "0": "Catherine Hardwicke",
                                    "1": "Kristen Stewart, Robert Pattinson, Billy Burke,Sarah Clarke"
                                },
                                {
                                    "0": "Jon M. Chu",
                                    "1": "Jesse Eisenberg, Mark Ruffalo, Woody Harrelson, Dave Franco"
                                },
                                {
                                    "0": "Simon Curtis",
                                    "1": "Helen Mirren, Ryan Reynolds, Daniel Brühl, Katie Holmes"
                                },
                                {
                                    "0": "Michael Bay",
                                    "1": "John Krasinski, Pablo Schreiber, James Badge Dale,David Denman"
                                },
                                {
                                    "0": "Sam Mendes",
                                    "1": "Daniel Craig, Christoph Waltz, Léa Seydoux, Ralph Fiennes"
                                },
                                {
                                    "0": "Dan Gilroy",
                                    "1": "Jake Gyllenhaal, Rene Russo, Bill Paxton, Riz Ahmed"
                                },
                                {
                                    "0": "Travis Knight",
                                    "1": "Charlize Theron, Art Parkinson, Matthew McConaughey, Ralph Fiennes"
                                },
                                {
                                    "0": "Jackson Stewart",
                                    "1": "Graham Skipper, Chase Williamson, Brea Grant,Barbara Crampton"
                                },
                                {
                                    "0": "Spike Jonze",
                                    "1": "Joaquin Phoenix, Amy Adams, Scarlett Johansson,Rooney Mara"
                                },
                                {
                                    "0": "Chris Buck",
                                    "1": "Kristen Bell, Idina Menzel, Jonathan Groff, Josh Gad"
                                },
                                {
                                    "0": "Brad Bird",
                                    "1": "George Clooney, Britt Robertson, Hugh Laurie, Raffey Cassidy"
                                },
                                {
                                    "0": "Matt Reeves",
                                    "1": "Gary Oldman, Keri Russell, Andy Serkis, Kodi Smit-McPhee"
                                },
                                {
                                    "0": "Ben Stiller",
                                    "1": "Ben Stiller, Jack Black, Robert Downey Jr., Jeff Kahn"
                                },
                                {
                                    "0": "James Wan",
                                    "1": "Vera Farmiga, Patrick Wilson, Madison Wolfe, Frances O'Connor"
                                },
                                {
                                    "0": "Peyton Reed",
                                    "1": "Paul Rudd, Michael Douglas, Corey Stoll, Evangeline Lilly"
                                },
                                {
                                    "0": "Sharon Maguire",
                                    "1": "Renée Zellweger, Gemma Jones, Jim Broadbent,Sally Phillips"
                                },
                                {
                                    "0": "Robert Eggers",
                                    "1": "Anya Taylor-Joy, Ralph Ineson, Kate Dickie, Julian Richings"
                                },
                                {
                                    "0": "Kenneth Branagh",
                                    "1": "Lily James, Cate Blanchett, Richard Madden,Helena Bonham Carter"
                                },
                                {
                                    "0": "Mateo Gil",
                                    "1": "Tom Hughes, Charlotte Le Bon, Oona Chaplin, Barry Ward"
                                },
                                {
                                    "0": "Asghar Farhadi",
                                    "1": "Taraneh Alidoosti, Shahab Hosseini, Babak Karimi,Farid Sajjadi Hosseini"
                                },
                                {
                                    "0": "Gaspar Noé",
                                    "1": "Aomi Muyock, Karl Glusman, Klara Kristin, Juan Saavedra"
                                },
                                {
                                    "0": "Ang Lee",
                                    "1": "Joe Alwyn, Garrett Hedlund, Arturo Castro, Mason Lee"
                                },
                                {
                                    "0": "Guillermo del Toro",
                                    "1": "Mia Wasikowska, Jessica Chastain, Tom Hiddleston, Charlie Hunnam"
                                },
                                {
                                    "0": "Nicolas Winding Refn",
                                    "1": "Ryan Gosling, Carey Mulligan, Bryan Cranston, Albert Brooks"
                                },
                                {
                                    "0": "Judd Apatow",
                                    "1": "Amy Schumer, Bill Hader, Brie Larson, Colin Quinn"
                                },
                                {
                                    "0": "Derek Cianfrance",
                                    "1": "Michael Fassbender, Alicia Vikander, Rachel Weisz, Florence Clery"
                                },
                                {
                                    "0": "April Mullen",
                                    "1": "Erika Linder, Natalie Krill, Sebastian Pigott, Mayko Nguyen"
                                },
                                {
                                    "0": "Tom McCarthy",
                                    "1": "Mark Ruffalo, Michael Keaton, Rachel McAdams, Liev Schreiber"
                                },
                                {
                                    "0": "Luke Scott",
                                    "1": "Kate Mara, Anya Taylor-Joy, Rose Leslie, Michael Yare"
                                },
                                {
                                    "0": "Gavin O'Connor",
                                    "1": "Tom Hardy, Nick Nolte, Joel Edgerton, Jennifer Morrison"
                                },
                                {
                                    "0": "Joe Johnston",
                                    "1": "Chris Evans, Hugo Weaving, Samuel L. Jackson,Hayley Atwell"
                                },
                                {
                                    "0": "Akan Satayev",
                                    "1": "Callan McAuliffe, Lorraine Nicholson, Daniel Eric Gold, Clifton Collins Jr."
                                },
                                {
                                    "0": "Sean Penn",
                                    "1": "Emile Hirsch, Vince Vaughn, Catherine Keener, Marcia Gay Harden"
                                },
                                {
                                    "0": "Morten Tyldum",
                                    "1": "Benedict Cumberbatch, Keira Knightley, Matthew Goode, Allen Leech"
                                },
                                {
                                    "0": "Rawson Marshall Thurber",
                                    "1": "Dwayne Johnson, Kevin Hart, Danielle Nicolet, Amy Ryan"
                                },
                                {
                                    "0": "Doug Liman",
                                    "1": "Tom Cruise, Emily Blunt, Bill Paxton, Brendan Gleeson"
                                },
                                {
                                    "0": "Gore Verbinski",
                                    "1": "Dane DeHaan, Jason Isaacs, Mia Goth, Ivo Nandi"
                                },
                                {
                                    "0": "Oliver Stone",
                                    "1": "Joseph Gordon-Levitt, Shailene Woodley, Melissa Leo,Zachary Quinto"
                                },
                                {
                                    "0": "Jon Favreau",
                                    "1": "Robert Downey Jr., Gwyneth Paltrow, Terrence Howard, Jeff Bridges"
                                },
                                {
                                    "0": "Robert Schwentke",
                                    "1": "Shailene Woodley, Theo James, Jeff Daniels,Naomi Watts"
                                },
                                {
                                    "0": "Matthew Vaughn",
                                    "1": "James McAvoy, Michael Fassbender, Jennifer Lawrence, Kevin Bacon"
                                },
                                {
                                    "0": "Julia Ducournau",
                                    "1": "Garance Marillier, Ella Rumpf, Rabah Nait Oufella,Laurent Lucas"
                                },
                                {
                                    "0": "Jim Jarmusch",
                                    "1": "Adam Driver, Golshifteh Farahani, Nellie, Rizwan Manji"
                                },
                                {
                                    "0": "Paul Feig",
                                    "1": "Kristen Wiig, Maya Rudolph, Rose Byrne, Terry Crews"
                                },
                                {
                                    "0": "Colm McCarthy",
                                    "1": "Gemma Arterton, Glenn Close, Dominique Tipper,Paddy Considine"
                                },
                                {
                                    "0": "Brad Peyton",
                                    "1": "Dwayne Johnson, Carla Gugino, Alexandra Daddario,Colton Haynes"
                                },
                                {
                                    "0": "Harmony Korine",
                                    "1": "Vanessa Hudgens, Selena Gomez, Ashley Benson,Rachel Korine"
                                },
                                {
                                    "0": "Michael Bay",
                                    "1": "Shia LaBeouf, Megan Fox, Josh Duhamel, Tyrese Gibson"
                                },
                                {
                                    "0": "Spike Lee",
                                    "1": "Josh Brolin, Elizabeth Olsen, Samuel L. Jackson, Sharlto Copley"
                                },
                                {
                                    "0": "Alan Taylor",
                                    "1": "Chris Hemsworth, Natalie Portman, Tom Hiddleston,Stellan Skarsgård"
                                },
                                {
                                    "0": "Alex Proyas",
                                    "1": "Brenton Thwaites, Nikolaj Coster-Waldau, Gerard Butler, Chadwick Boseman"
                                },
                                {
                                    "0": "Anthony Russo",
                                    "1": "Chris Evans, Samuel L. Jackson,Scarlett Johansson, Robert Redford"
                                },
                                {
                                    "0": "Chris Wedge",
                                    "1": "Lucas Till, Jane Levy, Thomas Lennon, Barry Pepper"
                                },
                                {
                                    "0": "Liam Gavin",
                                    "1": "Mark Huberman, Susan Loughnane, Steve Oram,Catherine Walker"
                                },
                                {
                                    "0": "Matthew Vaughn",
                                    "1": "Aaron Taylor-Johnson, Nicolas Cage, Chloë Grace Moretz, Garrett M. Brown"
                                },
                                {
                                    "0": "Ilya Naishuller",
                                    "1": "Sharlto Copley, Tim Roth, Haley Bennett, Danila Kozlovsky"
                                },
                                {
                                    "0": "John Lasseter",
                                    "1": "Owen Wilson, Bonnie Hunt, Paul Newman, Larry the Cable Guy"
                                },
                                {
                                    "0": "David Robert Mitchell",
                                    "1": "Maika Monroe, Keir Gilchrist, Olivia Luccardi,Lili Sepe"
                                },
                                {
                                    "0": "David Fincher",
                                    "1": "Daniel Craig, Rooney Mara, Christopher Plummer,Stellan Skarsgård"
                                },
                                {
                                    "0": "Rawson Marshall Thurber",
                                    "1": "Jason Sudeikis, Jennifer Aniston, Emma Roberts, Ed Helms"
                                },
                                {
                                    "0": "Andrea Arnold",
                                    "1": "Sasha Lane, Shia LaBeouf, Riley Keough, McCaul Lombardi"
                                },
                                {
                                    "0": "Yorgos Lanthimos",
                                    "1": "Colin Farrell, Rachel Weisz, Jessica Barden,Olivia Colman"
                                },
                                {
                                    "0": "Nimród Antal",
                                    "1": "Adrien Brody, Laurence Fishburne, Topher Grace,Alice Braga"
                                },
                                {
                                    "0": "Robert Stromberg",
                                    "1": "Angelina Jolie, Elle Fanning, Sharlto Copley,Lesley Manville"
                                },
                                {
                                    "0": "Steven Shainberg",
                                    "1": "Noomi Rapace, Michael Chiklis, Kerry Bishé,Peter Stormare"
                                },
                                {
                                    "0": "Guillermo del Toro",
                                    "1": "Ivana Baquero, Ariadna Gil, Sergi López,Maribel Verdú"
                                },
                                {
                                    "0": "Andy Goddard",
                                    "1": "Patrick Wilson, Jessica Biel, Haley Bennett, Vincent Kartheiser"
                                },
                                {
                                    "0": "Mel Gibson",
                                    "1": "Gerardo Taracena, Raoul Max Trujillo, Dalia Hernández,Rudy Youngblood"
                                },
                                {
                                    "0": "Christopher McQuarrie",
                                    "1": "Tom Cruise, Rebecca Ferguson, Jeremy Renner, Simon Pegg"
                                },
                                {
                                    "0": "Cedric Nicolas-Troyan",
                                    "1": "Chris Hemsworth, Jessica Chastain, Charlize Theron, Emily Blunt"
                                },
                                {
                                    "0": "Stephen Chbosky",
                                    "1": "Logan Lerman, Emma Watson, Ezra Miller, Paul Rudd"
                                },
                                {
                                    "0": "Pablo Larraín",
                                    "1": "Natalie Portman, Peter Sarsgaard, Greta Gerwig,Billy Crudup"
                                },
                                {
                                    "0": "D.J. Caruso",
                                    "1": "Kate Beckinsale, Mel Raido, Duncan Joiner, Lucas Till"
                                },
                                {
                                    "0": "Wes Anderson",
                                    "1": "Ralph Fiennes, F. Murray Abraham, Mathieu Amalric,Adrien Brody"
                                },
                                {
                                    "0": "Andrew Niccol",
                                    "1": "Saoirse Ronan, Max Irons, Jake Abel, Diane Kruger"
                                },
                                {
                                    "0": "David Ayer",
                                    "1": "Brad Pitt, Shia LaBeouf, Logan Lerman, Michael Peña"
                                },
                                {
                                    "0": "Pete Docter",
                                    "1": "Amy Poehler, Bill Hader, Lewis Black, Mindy Kaling"
                                },
                                {
                                    "0": "Ash Brannon",
                                    "1": "Luke Wilson, Eddie Izzard, J.K. Simmons, Lewis Black"
                                },
                                {
                                    "0": "Alan Taylor",
                                    "1": "Arnold Schwarzenegger, Jason Clarke, Emilia Clarke,Jai Courtney"
                                },
                                {
                                    "0": "Chris Columbus",
                                    "1": "Logan Lerman, Kevin McKidd, Steve Coogan,Brandon T. Jackson"
                                },
                                {
                                    "0": "Tom Hooper",
                                    "1": "Hugh Jackman, Russell Crowe, Anne Hathaway,Amanda Seyfried"
                                },
                                {
                                    "0": "Alfonso Cuarón",
                                    "1": "Julianne Moore, Clive Owen, Chiwetel Ejiofor,Michael Caine"
                                },
                                {
                                    "0": "Mike Mills",
                                    "1": "Annette Bening, Elle Fanning, Greta Gerwig, Billy Crudup"
                                },
                                {
                                    "0": "Paul Feig",
                                    "1": "Melissa McCarthy, Rose Byrne, Jude Law, Jason Statham"
                                },
                                {
                                    "0": "Olivier Nakache",
                                    "1": "François Cluzet, Omar Sy, Anne Le Ny, Audrey Fleurot"
                                },
                                {
                                    "0": "Eleanor Coppola",
                                    "1": "Diane Lane, Alec Baldwin, Arnaud Viard, Linda Gegusch"
                                },
                                {
                                    "0": "Yorgos Lanthimos",
                                    "1": "Christos Stergioglou, Michele Valley, Angeliki Papoulia, Hristos Passalis"
                                },
                                {
                                    "0": "F. Gary Gray",
                                    "1": "O'Shea Jackson Jr., Corey Hawkins, Jason Mitchell,Neil Brown Jr."
                                },
                                {
                                    "0": "Marc Webb",
                                    "1": "Andrew Garfield, Emma Stone, Jamie Foxx, Paul Giamatti"
                                },
                                {
                                    "0": "James Wan",
                                    "1": "Patrick Wilson, Vera Farmiga, Ron Livingston, Lili Taylor"
                                },
                                {
                                    "0": "Todd Phillips",
                                    "1": "Zach Galifianakis, Bradley Cooper, Justin Bartha, Ed Helms"
                                },
                                {
                                    "0": "Peter Berg",
                                    "1": "Alexander Skarsgård, Brooklyn Decker, Liam Neeson,Rihanna"
                                },
                                {
                                    "0": "Rupert Wyatt",
                                    "1": "James Franco, Andy Serkis, Freida Pinto, Karin Konoval"
                                },
                                {
                                    "0": "David F. Sandberg",
                                    "1": "Teresa Palmer, Gabriel Bateman, Maria Bello,Billy Burke"
                                },
                                {
                                    "0": "Joseph Cedar",
                                    "1": "Richard Gere, Lior Ashkenazi, Michael Sheen,Charlotte Gainsbourg"
                                },
                                {
                                    "0": "Alejandro González Iñárritu",
                                    "1": "Michael Keaton, Zach Galifianakis,Edward Norton, Andrea Riseborough"
                                },
                                {
                                    "0": "Darren Aronofsky",
                                    "1": "Natalie Portman, Mila Kunis, Vincent Cassel,Winona Ryder"
                                },
                                {
                                    "0": "Justin Simien",
                                    "1": "Tyler James Williams, Tessa Thompson, Kyle Gallner,Teyonah Parris"
                                },
                                {
                                    "0": "Lars von Trier",
                                    "1": "Charlotte Gainsbourg, Stellan Skarsgård, Stacy Martin, Shia LaBeouf"
                                },
                                {
                                    "0": "Dave Green",
                                    "1": "Megan Fox, Will Arnett, Tyler Perry, Laura Linney"
                                },
                                {
                                    "0": "Eli Roth",
                                    "1": "Keanu Reeves, Lorenza Izzo, Ana de Armas, Aaron Burns"
                                },
                                {
                                    "0": "Dan Mazer",
                                    "1": "Robert De Niro, Zac Efron, Zoey Deutch, Aubrey Plaza"
                                },
                                {
                                    "0": "Tom Tykwer",
                                    "1": "Tom Hanks, Halle Berry, Hugh Grant, Hugo Weaving"
                                },
                                {
                                    "0": "Gavin Hood",
                                    "1": "Hugh Jackman, Liev Schreiber, Ryan Reynolds, Danny Huston"
                                },
                                {
                                    "0": "Jeffrey G. Hunt",
                                    "1": "Sarah Hyland, Steven Krueger, Justin Chon, Clara Mamet"
                                },
                                {
                                    "0": "Sam Mendes",
                                    "1": "Daniel Craig, Javier Bardem, Naomie Harris, Judi Dench"
                                },
                                {
                                    "0": "Peter Jackson",
                                    "1": "Martin Freeman, Ian McKellen, Richard Armitage,Andy Serkis"
                                },
                                {
                                    "0": "Phil Lord",
                                    "1": "Jonah Hill, Channing Tatum, Ice Cube,Brie Larson"
                                },
                                {
                                    "0": "John Carney",
                                    "1": "Ferdia Walsh-Peelo, Aidan Gillen, Maria Doyle Kennedy, Jack Reynor"
                                },
                                {
                                    "0": "Eric Summer",
                                    "1": "Elle Fanning, Dane DeHaan, Carly Rae Jepsen, Maddie Ziegler"
                                },
                                {
                                    "0": "Joseph Kosinski",
                                    "1": "Tom Cruise, Morgan Freeman, Andrea Riseborough, Olga Kurylenko"
                                },
                                {
                                    "0": "Phil Lord",
                                    "1": "Channing Tatum, Jonah Hill, Ice Cube,Nick Offerman"
                                },
                                {
                                    "0": "David Fincher",
                                    "1": "Jake Gyllenhaal, Robert Downey Jr., Mark Ruffalo,Anthony Edwards"
                                },
                                {
                                    "0": "Richard Linklater",
                                    "1": "Blake Jenner, Tyler Hoechlin, Ryan Guzman,Zoey Deutch"
                                },
                                {
                                    "0": "Shane Black",
                                    "1": "Robert Downey Jr., Guy Pearce, Gwyneth Paltrow,Don Cheadle"
                                },
                                {
                                    "0": "Louis Leterrier",
                                    "1": "Jesse Eisenberg, Common, Mark Ruffalo, Woody Harrelson"
                                },
                                {
                                    "0": "Guy Ritchie",
                                    "1": "Robert Downey Jr., Jude Law, Rachel McAdams, Mark Strong"
                                },
                                {
                                    "0": "Quentin Tarantino",
                                    "1": "Kurt Russell, Zoë Bell, Rosario Dawson, Vanessa Ferlito"
                                },
                                {
                                    "0": "Tom Hooper",
                                    "1": "Eddie Redmayne, Alicia Vikander, Amber Heard, Ben Whishaw"
                                },
                                {
                                    "0": "Brett Ratner",
                                    "1": "Dwayne Johnson, John Hurt, Ian McShane, Joseph Fiennes"
                                },
                                {
                                    "0": "Zack Snyder",
                                    "1": "Emily Browning, Vanessa Hudgens, Abbie Cornish,Jena Malone"
                                },
                                {
                                    "0": "Greg Mottola",
                                    "1": "Zach Galifianakis, Isla Fisher, Jon Hamm, Gal Gadot"
                                },
                                {
                                    "0": "Lana Wachowski",
                                    "1": "Channing Tatum, Mila Kunis,Eddie Redmayne, Sean Bean"
                                },
                                {
                                    "0": "Jared Hess",
                                    "1": "Zach Galifianakis, Kristen Wiig, Owen Wilson, Ross Kimball"
                                },
                                {
                                    "0": "Jalil Lespert",
                                    "1": "Romain Duris, Charlotte Le Bon, Jalil Lespert, Camille Cottin"
                                },
                                {
                                    "0": "Sang-ho Yeon",
                                    "1": "Yoo Gong, Soo-an Kim, Yu-mi Jung, Dong-seok Ma"
                                },
                                {
                                    "0": "Jason Moore",
                                    "1": "Anna Kendrick, Brittany Snow, Rebel Wilson, Anna Camp"
                                },
                                {
                                    "0": "Nicholas Stoller",
                                    "1": "Seth Rogen, Rose Byrne, Zac Efron, Chloë Grace Moretz"
                                },
                                {
                                    "0": "David Leveaux",
                                    "1": "Lily James, Jai Courtney, Christopher Plummer, Loïs van Wijk"
                                },
                                {
                                    "0": "Zack Snyder",
                                    "1": "Henry Cavill, Amy Adams, Michael Shannon, Diane Lane"
                                },
                                {
                                    "0": "Ross Katz",
                                    "1": "Benjamin Walker, Teresa Palmer, Alexandra Daddario,Maggie Grace"
                                },
                                {
                                    "0": "Mike Thurmeier",
                                    "1": "Ray Romano, Denis Leary, John Leguizamo, Chris Wedge"
                                },
                                {
                                    "0": "David Frankel",
                                    "1": "Anne Hathaway, Meryl Streep, Adrian Grenier, Emily Blunt"
                                },
                                {
                                    "0": "Brad Furman",
                                    "1": "Bryan Cranston, John Leguizamo, Diane Kruger, Amy Ryan"
                                },
                                {
                                    "0": "Paul Thomas Anderson",
                                    "1": "Daniel Day-Lewis, Paul Dano, Ciarán Hinds,Martin Stringer"
                                },
                                {
                                    "0": "Antoine Fuqua",
                                    "1": "Denzel Washington, Marton Csokas, Chloë Grace Moretz, David Harbour"
                                },
                                {
                                    "0": "Peter Berg",
                                    "1": "Mark Wahlberg, Taylor Kitsch, Emile Hirsch, Ben Foster"
                                },
                                {
                                    "0": "Drew Goddard",
                                    "1": "Kristen Connolly, Chris Hemsworth, Anna Hutchison,Fran Kranz"
                                },
                                {
                                    "0": "Fred Wolf",
                                    "1": "Anna Faris, Colin Hanks, Emma Stone, Kat Dennings"
                                },
                                {
                                    "0": "Jim Field Smith",
                                    "1": "Jay Baruchel, Alice Eve, T.J. Miller, Mike Vogel"
                                },
                                {
                                    "0": "Paul Thomas Anderson",
                                    "1": "Joaquin Phoenix, Josh Brolin, Owen Wilson,Katherine Waterston"
                                },
                                {
                                    "0": "James Bobin",
                                    "1": "Mia Wasikowska, Johnny Depp, Helena Bonham Carter, Anne Hathaway"
                                },
                                {
                                    "0": "Gary Michael Schultz",
                                    "1": "Emile Hirsch, Zoë Kravitz, Zoey Deutch,Emory Cohen"
                                },
                                {
                                    "0": "Justin Lin",
                                    "1": "Lucas Black, Zachery Ty Bryan, Shad Moss, Damien Marzette"
                                },
                                {
                                    "0": "Christian Ditter",
                                    "1": "Dakota Johnson, Rebel Wilson, Leslie Mann, Alison Brie"
                                },
                                {
                                    "0": "John Lee Hancock",
                                    "1": "Quinton Aaron, Sandra Bullock, Tim McGraw,Jae Head"
                                },
                                {
                                    "0": "Abdellatif Kechiche",
                                    "1": "Léa Seydoux, Adèle Exarchopoulos, Salim Kechiouche, Aurélien Recoing"
                                },
                                {
                                    "0": "Jennifer Kent",
                                    "1": "Essie Davis, Noah Wiseman, Daniel Henshall, Hayley McElhinney"
                                },
                                {
                                    "0": "Peter Jackson",
                                    "1": "Ian McKellen, Martin Freeman, Richard Armitage,Cate Blanchett"
                                },
                                {
                                    "0": "David Yates",
                                    "1": "Daniel Radcliffe, Emma Watson, Rupert Grint, Brendan Gleeson"
                                },
                                {
                                    "0": "Bong Joon Ho",
                                    "1": "Chris Evans, Jamie Bell, Tilda Swinton, Ed Harris"
                                },
                                {
                                    "0": "J Blakeson",
                                    "1": "Chloë Grace Moretz, Matthew Zuk, Gabriela Lopez,Bailey Anne Borders"
                                },
                                {
                                    "0": "Dan Berk",
                                    "1": "Connor Paolo, Nick Damici, Laura Abramsen, A.C. Peterson"
                                },
                                {
                                    "0": "M. Night Shyamalan",
                                    "1": "Olivia DeJonge, Ed Oxenbould, Deanna Dunagan, Peter McRobbie"
                                },
                                {
                                    "0": "Justin Lin",
                                    "1": "Vin Diesel, Paul Walker, Dwayne Johnson, Jordana Brewster"
                                },
                                {
                                    "0": "Anne Fletcher",
                                    "1": "Channing Tatum, Jenna Dewan Tatum, Damaine Radcliff, De'Shawn Washington"
                                },
                                {
                                    "0": "So Yong Kim",
                                    "1": "Riley Keough, Jena Malone, Jessie Ok Gray, Cary Joji Fukunaga"
                                },
                                {
                                    "0": "Guy Ritchie",
                                    "1": "Gerard Butler, Tom Wilkinson, Idris Elba, Thandie Newton"
                                },
                                {
                                    "0": "Andrew Niccol",
                                    "1": "Justin Timberlake, Amanda Seyfried, Cillian Murphy,Olivia Wilde"
                                },
                                {
                                    "0": "David Fincher",
                                    "1": "Jesse Eisenberg, Andrew Garfield, Justin Timberlake,Rooney Mara"
                                },
                                {
                                    "0": "Breck Eisner",
                                    "1": "Vin Diesel, Rose Leslie, Elijah Wood, Ólafur Darri Ólafsson"
                                },
                                {
                                    "0": "Paul McGuigan",
                                    "1": "Daniel Radcliffe, James McAvoy, Jessica Brown Findlay, Andrew Scott"
                                },
                                {
                                    "0": "Roger Spottiswoode",
                                    "1": "Luke Treadaway, Bob the Cat, Ruta Gedmintas, Joanne Froggatt"
                                },
                                {
                                    "0": "Jeremy Saulnier",
                                    "1": "Anton Yelchin, Imogen Poots, Alia Shawkat,Patrick Stewart"
                                },
                                {
                                    "0": "Michael Mann",
                                    "1": "Chris Hemsworth, Viola Davis, Wei Tang, Leehom Wang"
                                },
                                {
                                    "0": "Nicholas Stoller",
                                    "1": "Andy Samberg, Katie Crown,Kelsey Grammer, Jennifer Aniston"
                                },
                                {
                                    "0": "Clint Eastwood",
                                    "1": "Bradley Cooper, Sienna Miller, Kyle Gallner, Cole Konis"
                                },
                                {
                                    "0": "Jean-Marc Vallée",
                                    "1": "Matthew McConaughey, Jennifer Garner, Jared Leto, Steve Zahn"
                                },
                                {
                                    "0": "Steven Spielberg",
                                    "1": "Daniel Day-Lewis, Sally Field, David Strathairn,Joseph Gordon-Levitt"
                                },
                                {
                                    "0": "Ron Howard",
                                    "1": "Daniel Brühl, Chris Hemsworth, Olivia Wilde,Alexandra Maria Lara"
                                },
                                {
                                    "0": "Mike Flanagan",
                                    "1": "Kate Bosworth, Thomas Jane, Jacob Tremblay,Annabeth Gish"
                                },
                                {
                                    "0": "David O. Russell",
                                    "1": "Bradley Cooper, Jennifer Lawrence, Robert De Niro, Jacki Weaver"
                                },
                                {
                                    "0": "Alexi Pappas",
                                    "1": "Alexi Pappas, Chase Offerle, Rachel Dratch, Andy Buckley"
                                },
                                {
                                    "0": "Josh Boone",
                                    "1": "Shailene Woodley, Ansel Elgort, Nat Wolff, Laura Dern"
                                },
                                {
                                    "0": "Frank Coraci",
                                    "1": "Adam Sandler, Drew Barrymore, Wendi McLendon-Covey, Kevin Nealon"
                                },
                                {
                                    "0": "Justin Lin",
                                    "1": "Vin Diesel, Paul Walker, Michelle Rodriguez, Jordana Brewster"
                                },
                                {
                                    "0": "Rian Johnson",
                                    "1": "Joseph Gordon-Levitt, Bruce Willis, Emily Blunt, Paul Dano"
                                },
                                {
                                    "0": "Roland Emmerich",
                                    "1": "Channing Tatum, Jamie Foxx, Maggie Gyllenhaal,Jason Clarke"
                                },
                                {
                                    "0": "David Lowery",
                                    "1": "Bryce Dallas Howard, Robert Redford, Oakes Fegley,Oona Laurence"
                                },
                                {
                                    "0": "Sam Raimi",
                                    "1": "Tobey Maguire, Kirsten Dunst, Topher Grace, Thomas Haden Church"
                                },
                                {
                                    "0": "Paul W.S. Anderson",
                                    "1": "Logan Lerman, Matthew Macfadyen, Ray Stevenson, Milla Jovovich"
                                },
                                {
                                    "0": "Matthew Vaughn",
                                    "1": "Charlie Cox, Claire Danes, Sienna Miller, Ian McKellen"
                                },
                                {
                                    "0": "David O. Russell",
                                    "1": "Christian Bale, Amy Adams, Bradley Cooper,Jennifer Lawrence"
                                },
                                {
                                    "0": "Karyn Kusama",
                                    "1": "Megan Fox, Amanda Seyfried, Adam Brody, Johnny Simmons"
                                },
                                {
                                    "0": "Woody Allen",
                                    "1": "Owen Wilson, Rachel McAdams, Kathy Bates, Kurt Fuller"
                                },
                                {
                                    "0": "William Oldroyd",
                                    "1": "Florence Pugh, Christopher Fairbank, Cosmo Jarvis, Naomi Ackie"
                                },
                                {
                                    "0": "David O. Russell",
                                    "1": "Jennifer Lawrence, Robert De Niro, Bradley Cooper, Edgar Ramírez"
                                },
                                {
                                    "0": "Jocelyn Moorhouse",
                                    "1": "Kate Winslet, Judy Davis, Liam Hemsworth,Hugo Weaving"
                                },
                                {
                                    "0": "Woody Allen",
                                    "1": "Jesse Eisenberg, Kristen Stewart, Steve Carell, Blake Lively"
                                },
                                {
                                    "0": "Robert Schwentke",
                                    "1": "Shailene Woodley, Ansel Elgort, Theo James,Kate Winslet"
                                },
                                {
                                    "0": "Sergei Bodrov",
                                    "1": "Ben Barnes, Julianne Moore, Jeff Bridges, Alicia Vikander"
                                },
                                {
                                    "0": "Hugo Gélin",
                                    "1": "Omar Sy, Clémence Poésy, Antoine Bertrand, Ashley Walters"
                                },
                                {
                                    "0": "James Marsh",
                                    "1": "Eddie Redmayne, Felicity Jones, Tom Prior, Sophie Perry"
                                },
                                {
                                    "0": "Evan Goldberg",
                                    "1": "James Franco, Jonah Hill, Seth Rogen,Jay Baruchel"
                                },
                                {
                                    "0": "Richard Curtis",
                                    "1": "Domhnall Gleeson, Rachel McAdams, Bill Nighy,Lydia Wilson"
                                },
                                {
                                    "0": "Adam McKay",
                                    "1": "Will Ferrell, John C. Reilly, Mary Steenburgen,Richard Jenkins"
                                },
                                {
                                    "0": "Jon Watts",
                                    "1": "Andy Powers, Laura Allen, Peter Stormare, Christian Distefano"
                                },
                                {
                                    "0": "J.J. Abrams",
                                    "1": "Chris Pine, Zachary Quinto, Zoe Saldana, Benedict Cumberbatch"
                                },
                                {
                                    "0": "Ruben Fleischer",
                                    "1": "Jesse Eisenberg, Emma Stone, Woody Harrelson,Abigail Breslin"
                                },
                                {
                                    "0": "Ethan Coen",
                                    "1": "Josh Brolin, George Clooney, Alden Ehrenreich, Ralph Fiennes"
                                },
                                {
                                    "0": "Danny Boyle",
                                    "1": "Dev Patel, Freida Pinto, Saurabh Shukla, Anil Kapoor"
                                },
                                {
                                    "0": "Bill Condon",
                                    "1": "Kristen Stewart, Robert Pattinson, Taylor Lautner, Peter Facinelli"
                                },
                                {
                                    "0": "Alex Ranarivelo",
                                    "1": "William Fichtner, Jon Voight, Lia Marie Johnson,Gabriel Basso"
                                },
                                {
                                    "0": "Marc Webb",
                                    "1": "Andrew Garfield, Emma Stone, Rhys Ifans, Irrfan Khan"
                                },
                                {
                                    "0": "Timur Bekmambetov",
                                    "1": "Jack Huston, Toby Kebbell, Rodrigo Santoro,Nazanin Boniadi"
                                },
                                {
                                    "0": "J.D. Dillard",
                                    "1": "Jacob Latimore, Seychelle Gabriel, Dulé Hill, Storm Reid"
                                },
                                {
                                    "0": "Wes Ball",
                                    "1": "Dylan O'Brien, Kaya Scodelario, Will Poulter, Thomas Brodie-Sangster"
                                },
                                {
                                    "0": "Ariel Vromen",
                                    "1": "Kevin Costner, Ryan Reynolds, Gal Gadot, Gary Oldman"
                                },
                                {
                                    "0": "Timur Bekmambetov",
                                    "1": "Angelina Jolie, James McAvoy, Morgan Freeman, Terence Stamp"
                                },
                                {
                                    "0": "Stephen Frears",
                                    "1": "Meryl Streep, Hugh Grant, Simon Helberg, Rebecca Ferguson"
                                },
                                {
                                    "0": "Eran Creevy",
                                    "1": "Nicholas Hoult, Felicity Jones, Anthony Hopkins, Ben Kingsley"
                                },
                                {
                                    "0": "Scott Cooper",
                                    "1": "Johnny Depp, Benedict Cumberbatch, Dakota Johnson, Joel Edgerton"
                                },
                                {
                                    "0": "Ryan Coogler",
                                    "1": "Michael B. Jordan, Sylvester Stallone, Tessa Thompson, Phylicia Rashad"
                                },
                                {
                                    "0": "Dan Kwan",
                                    "1": "Paul Dano, Daniel Radcliffe, Mary Elizabeth Winstead, Antonia Ribero"
                                },
                                {
                                    "0": "Patrick Hughes",
                                    "1": "Sylvester Stallone, Jason Statham, Jet Li, Antonio Banderas"
                                },
                                {
                                    "0": "Jemaine Clement",
                                    "1": "Jemaine Clement, Taika Waititi,Cori Gonzalez-Macuer, Jonny Brugh"
                                },
                                {
                                    "0": "Antoine Fuqua",
                                    "1": "Jake Gyllenhaal, Rachel McAdams, Oona Laurence,Forest Whitaker"
                                },
                                {
                                    "0": "Mike Flanagan",
                                    "1": "John Gallagher Jr., Kate Siegel, Michael Trucco,Samantha Sloyan"
                                },
                                {
                                    "0": "Steven Spielberg",
                                    "1": "Tom Hanks, Mark Rylance, Alan Alda, Amy Ryan"
                                },
                                {
                                    "0": "Phil Lord",
                                    "1": "Chris Pratt, Will Ferrell, Elizabeth Banks, Will Arnett"
                                },
                                {
                                    "0": "Baltasar Kormákur",
                                    "1": "Jason Clarke, Ang Phula Sherpa, Thomas M. Wright, Martin Henderson"
                                },
                                {
                                    "0": "Chris Columbus",
                                    "1": "Adam Sandler, Kevin James, Michelle Monaghan,Peter Dinklage"
                                },
                                {
                                    "0": "Ridley Scott",
                                    "1": "Russell Crowe, Cate Blanchett, Matthew Macfadyen,Max von Sydow"
                                },
                                {
                                    "0": "James Mangold",
                                    "1": "Hugh Jackman, Will Yun Lee, Tao Okamoto, Rila Fukushima"
                                },
                                {
                                    "0": "Andrew Stanton",
                                    "1": "Taylor Kitsch, Lynn Collins, Willem Dafoe,Samantha Morton"
                                },
                                {
                                    "0": "Peter Atencio",
                                    "1": "Keegan-Michael Key, Jordan Peele, Tiffany Haddish,Method Man"
                                },
                                {
                                    "0": "Pierre Morel",
                                    "1": "Sean Penn, Idris Elba, Jasmine Trinca, Javier Bardem"
                                },
                                {
                                    "0": "Danny Boyle",
                                    "1": "Michael Fassbender, Kate Winslet, Seth Rogen, Jeff Daniels"
                                },
                                {
                                    "0": "Gillies MacKinnon",
                                    "1": "Tim Pigott-Smith, Naomi Battrick, Ellie Kendrick,James Cosmo"
                                },
                                {
                                    "0": "Dennis Dugan",
                                    "1": "Adam Sandler, Kevin James, Chris Rock, David Spade"
                                },
                                {
                                    "0": "Lee Toland Krieger",
                                    "1": "Blake Lively, Michiel Huisman, Harrison Ford,Kathy Baker"
                                },
                                {
                                    "0": "Louis Leterrier",
                                    "1": "Edward Norton, Liv Tyler, Tim Roth, William Hurt"
                                },
                                {
                                    "0": "Peter Billingsley",
                                    "1": "Vince Vaughn, Malin Akerman, Jon Favreau, Jason Bateman"
                                },
                                {
                                    "0": "Terry Jones",
                                    "1": "Simon Pegg, Kate Beckinsale, Sanjeev Bhaskar, Rob Riggle"
                                },
                                {
                                    "0": "Steven Soderbergh",
                                    "1": "Channing Tatum, Alex Pettyfer, Olivia Munn,Matthew McConaughey"
                                },
                                {
                                    "0": "Kyle Balda",
                                    "1": "Sandra Bullock, Jon Hamm, Michael Keaton, Pierre Coffin"
                                },
                                {
                                    "0": "Rolfe Kanefsky",
                                    "1": "Natasha Henstridge, Lukas Hassel, Lin Shaye,Dominique Swain"
                                },
                                {
                                    "0": "Nicolas Winding Refn",
                                    "1": "Tom Hardy, Kelly Adams, Luing Andrews,Katy Barker"
                                },
                                {
                                    "0": "Pierre Coffin",
                                    "1": "Steve Carell, Jason Segel, Russell Brand, Julie Andrews"
                                },
                                {
                                    "0": "Michael Hoffman",
                                    "1": "James Marsden, Michelle Monaghan, Luke Bracey,Liana Liberato"
                                },
                                {
                                    "0": "Karyn Kusama",
                                    "1": "Logan Marshall-Green, Emayatzy Corinealdi, Michiel Huisman, Tammy Blanchard"
                                },
                                {
                                    "0": "Kathryn Bigelow",
                                    "1": "Jessica Chastain, Joel Edgerton, Chris Pratt, Mark Strong"
                                },
                                {
                                    "0": "Nathan Greno",
                                    "1": "Mandy Moore, Zachary Levi, Donna Murphy, Ron Perlman"
                                },
                                {
                                    "0": "Francis Lawrence",
                                    "1": "Jennifer Lawrence, Josh Hutcherson, Liam Hemsworth, Woody Harrelson"
                                },
                                {
                                    "0": "John Francis Daley",
                                    "1": "Ed Helms, Christina Applegate, Skyler Gisondo, Steele Stebbins"
                                },
                                {
                                    "0": "Pierre Morel",
                                    "1": "Liam Neeson, Maggie Grace, Famke Janssen, Leland Orser"
                                },
                                {
                                    "0": "Elizabeth Banks",
                                    "1": "Anna Kendrick, Rebel Wilson, Hailee Steinfeld,Brittany Snow"
                                },
                                {
                                    "0": "Dan Scanlon",
                                    "1": "Billy Crystal, John Goodman, Steve Buscemi, Helen Mirren"
                                },
                                {
                                    "0": "Paul Verhoeven",
                                    "1": "Isabelle Huppert, Laurent Lafitte, Anne Consigny,Charles Berling"
                                },
                                {
                                    "0": "Dennis Gansel",
                                    "1": "Jason Statham, Jessica Alba, Tommy Lee Jones,Michelle Yeoh"
                                },
                                {
                                    "0": "Kevin Smith",
                                    "1": "Justin Long, Michael Parks, Haley Joel Osment,Genesis Rodriguez"
                                },
                                {
                                    "0": "Mark Williams",
                                    "1": "Alison Brie, Gerard Butler, Willem Dafoe, Gretchen Mol"
                                },
                                {
                                    "0": "Joe Wright",
                                    "1": "Keira Knightley, James McAvoy, Brenda Blethyn,Saoirse Ronan"
                                },
                                {
                                    "0": "David Yates",
                                    "1": "Daniel Radcliffe, Emma Watson, Rupert Grint, Bill Nighy"
                                },
                                {
                                    "0": "Steve McQueen",
                                    "1": "Michael Fassbender, Carey Mulligan, James Badge Dale, Lucy Walters"
                                },
                                {
                                    "0": "Joe Wright",
                                    "1": "Saoirse Ronan, Cate Blanchett, Eric Bana, Vicky Krieps"
                                },
                                {
                                    "0": "David Ross",
                                    "1": "Lauren Birkell, Paul Borghese, Chira Cassel, Anthony Cirillo"
                                },
                                {
                                    "0": "Burr Steers",
                                    "1": "Lily James, Sam Riley, Jack Huston, Bella Heathcote"
                                },
                                {
                                    "0": "Noam Murro",
                                    "1": "Sullivan Stapleton, Eva Green, Lena Headey, Hans Matheson"
                                },
                                {
                                    "0": "Babak Najafi",
                                    "1": "Gerard Butler, Aaron Eckhart, Morgan Freeman,Angela Bassett"
                                },
                                {
                                    "0": "David Fincher",
                                    "1": "Brad Pitt, Cate Blanchett, Tilda Swinton, Julia Ormond"
                                },
                                {
                                    "0": "Frank Miller",
                                    "1": "Mickey Rourke, Jessica Alba, Josh Brolin, Joseph Gordon-Levitt"
                                },
                                {
                                    "0": "Paul Greengrass",
                                    "1": "Matt Damon, Edgar Ramírez, Joan Allen, Julia Stiles"
                                },
                                {
                                    "0": "Srdjan Spasojevic",
                                    "1": "Srdjan 'Zika' Todorovic, Sergej Trifunovic,Jelena Gavrilovic, Slobodan Bestic"
                                },
                                {
                                    "0": "James DeMonaco",
                                    "1": "Frank Grillo, Elizabeth Mitchell, Mykelti Williamson, Joseph Julian Soria"
                                },
                                {
                                    "0": "Rajkumar Hirani",
                                    "1": "Aamir Khan, Madhavan, Mona Singh, Sharman Joshi"
                                },
                                {
                                    "0": "Ben Stiller",
                                    "1": "Ben Stiller, Owen Wilson, Penélope Cruz, Will Ferrell"
                                },
                                {
                                    "0": "Marc Forster",
                                    "1": "Brad Pitt, Mireille Enos, Daniella Kertesz, James Badge Dale"
                                },
                                {
                                    "0": "Brad Bird",
                                    "1": "Tom Cruise, Jeremy Renner, Simon Pegg, Paula Patton"
                                },
                                {
                                    "0": "Corey Asraf",
                                    "1": "Marilyn Manson, Mark Boone Junior, Sam Quartin, Niko Nicotera"
                                },
                                {
                                    "0": "Jon S. Baird",
                                    "1": "James McAvoy, Jamie Bell, Eddie Marsan, Imogen Poots"
                                },
                                {
                                    "0": "George Tillman Jr.",
                                    "1": "Scott Eastwood, Britt Robertson, Alan Alda, Jack Huston"
                                },
                                {
                                    "0": "J.A. Bayona",
                                    "1": "Naomi Watts, Ewan McGregor, Tom Holland, Oaklee Pendergast"
                                },
                                {
                                    "0": "Jeff Wadlow",
                                    "1": "Aaron Taylor-Johnson, Chloë Grace Moretz,Christopher Mintz-Plasse, Jim Carrey"
                                },
                                {
                                    "0": "Jeff Grace",
                                    "1": "Alex Karpovsky, Wyatt Russell, Meredith Hagner,Melanie Lynskey"
                                },
                                {
                                    "0": "Sam Raimi",
                                    "1": "James Franco, Michelle Williams, Rachel Weisz, Mila Kunis"
                                },
                                {
                                    "0": "John Crowley",
                                    "1": "Saoirse Ronan, Emory Cohen, Domhnall Gleeson,Jim Broadbent"
                                },
                                {
                                    "0": "Henry Selick",
                                    "1": "Dakota Fanning, Teri Hatcher, John Hodgman, Jennifer Saunders"
                                },
                                {
                                    "0": "Derek Cianfrance",
                                    "1": "Ryan Gosling, Michelle Williams, John Doman,Faith Wladyka"
                                },
                                {
                                    "0": "Michael J. Gallagher",
                                    "1": "Logan Paul, Peyton List, Lia Marie Johnson,Calum Worthy"
                                },
                                {
                                    "0": "Christophe Gans",
                                    "1": "Radha Mitchell, Laurie Holden, Sean Bean,Deborah Kara Unger"
                                },
                                {
                                    "0": "Pete Travis",
                                    "1": "Karl Urban, Olivia Thirlby, Lena Headey, Rachel Wood"
                                },
                                {
                                    "0": "Taika Waititi",
                                    "1": "Sam Neill, Julian Dennison, Rima Te Wiata, Rachel House"
                                },
                                {
                                    "0": "Don Hall",
                                    "1": "Ryan Potter, Scott Adsit, Jamie Chung,T.J. Miller"
                                },
                                {
                                    "0": "Kimberly Peirce",
                                    "1": "Chloë Grace Moretz, Julianne Moore, Gabriella Wilde, Portia Doubleday"
                                },
                                {
                                    "0": "Jon Favreau",
                                    "1": "Robert Downey Jr., Mickey Rourke, Gwyneth Paltrow,Don Cheadle"
                                },
                                {
                                    "0": "Jean-Marc Vallée",
                                    "1": "Jake Gyllenhaal, Naomi Watts, Chris Cooper,Judah Lewis"
                                },
                                {
                                    "0": "Christian Alvart",
                                    "1": "Dennis Quaid, Ben Foster, Cam Gigandet, Antje Traue"
                                },
                                {
                                    "0": "Antoine Fuqua",
                                    "1": "Gerard Butler, Aaron Eckhart, Morgan Freeman,Angela Bassett"
                                },
                                {
                                    "0": "D.J. Caruso",
                                    "1": "Alex Pettyfer, Timothy Olyphant, Dianna Agron, Teresa Palmer"
                                },
                                {
                                    "0": "Thomas Vinterberg",
                                    "1": "Mads Mikkelsen, Thomas Bo Larsen, Annika Wedderkopp, Lasse Fogelstrøm"
                                },
                                {
                                    "0": "Anne Fletcher",
                                    "1": "Sandra Bullock, Ryan Reynolds, Mary Steenburgen,Craig T. Nelson"
                                },
                                {
                                    "0": "Etan Cohen",
                                    "1": "Will Ferrell, Kevin Hart, Alison Brie, T.I."
                                },
                                {
                                    "0": "Dennis Dugan",
                                    "1": "Adam Sandler, Jennifer Aniston, Brooklyn Decker,Nicole Kidman"
                                },
                                {
                                    "0": "Sam Mendes",
                                    "1": "Leonardo DiCaprio, Kate Winslet, Christopher Fitzgerald, Jonathan Roumie"
                                },
                                {
                                    "0": "Ben Affleck",
                                    "1": "Ben Affleck, Rebecca Hall, Jon Hamm, Jeremy Renner"
                                },
                                {
                                    "0": "William Brent Bell",
                                    "1": "Lauren Cohan, Rupert Evans, James Russell, Jim Norton"
                                },
                                {
                                    "0": "Mick Jackson",
                                    "1": "Rachel Weisz, Tom Wilkinson, Timothy Spall, Andrew Scott"
                                },
                                {
                                    "0": "Michael Spierig",
                                    "1": "Ethan Hawke, Sarah Snook, Noah Taylor, Madeleine West"
                                },
                                {
                                    "0": "Rob Letterman",
                                    "1": "Jack Black, Dylan Minnette, Odeya Rush, Ryan Lee"
                                },
                                {
                                    "0": "Guy Ritchie",
                                    "1": "Robert Downey Jr., Jude Law, Jared Harris, Rachel McAdams"
                                },
                                {
                                    "0": "Phillip Noyce",
                                    "1": "Angelina Jolie, Liev Schreiber, Chiwetel Ejiofor, Daniel Olbrychski"
                                },
                                {
                                    "0": "Denis Villeneuve",
                                    "1": "Jake Gyllenhaal, Mélanie Laurent, Sarah Gadon,Isabella Rossellini"
                                },
                                {
                                    "0": "Neill Blomkamp",
                                    "1": "Sharlto Copley, David James, Jason Cope, Nathalie Boltt"
                                },
                                {
                                    "0": "Adam McKay",
                                    "1": "Will Ferrell, Mark Wahlberg, Derek Jeter, Eva Mendes"
                                },
                                {
                                    "0": "Ridley Scott",
                                    "1": "Denzel Washington, Russell Crowe, Chiwetel Ejiofor,Josh Brolin"
                                },
                                {
                                    "0": "Sofia Coppola",
                                    "1": "Kirsten Dunst, Jason Schwartzman, Rip Torn, Judy Davis"
                                },
                                {
                                    "0": "Roland Emmerich",
                                    "1": "John Cusack, Thandie Newton, Chiwetel Ejiofor,Amanda Peet"
                                },
                                {
                                    "0": "David Yates",
                                    "1": "Daniel Radcliffe, Emma Watson, Rupert Grint, Michael Gambon"
                                },
                                {
                                    "0": "Ben Affleck",
                                    "1": "Ben Affleck, Bryan Cranston, John Goodman, Alan Arkin"
                                },
                                {
                                    "0": "Dexter Fletcher",
                                    "1": "Taron Egerton, Hugh Jackman, Tom Costello, Jo Hartley"
                                },
                                {
                                    "0": "Florian Henckel von Donnersmarck",
                                    "1": "Ulrich Mühe, Martina Gedeck,Sebastian Koch, Ulrich Tukur"
                                },
                                {
                                    "0": "Carles Torrens",
                                    "1": "Dominic Monaghan, Ksenia Solo, Jennette McCurdy,Da'Vone McDonald"
                                },
                                {
                                    "0": "Amber Tamblyn",
                                    "1": "Alia Shawkat, Nancy Kwan, Annabelle Attanasio,Alfred Molina"
                                },
                                {
                                    "0": "Justin Kurzel",
                                    "1": "Michael Fassbender, Marion Cotillard, Jack Madigan,Frank Madigan"
                                },
                                {
                                    "0": "Nicholas Stoller",
                                    "1": "Kristen Bell, Jason Segel, Paul Rudd, Mila Kunis"
                                },
                                {
                                    "0": "Phillip Noyce",
                                    "1": "Brenton Thwaites, Jeff Bridges, Meryl Streep, Taylor Swift"
                                },
                                {
                                    "0": "John Hillcoat",
                                    "1": "Casey Affleck, Chiwetel Ejiofor, Anthony Mackie,Aaron Paul"
                                },
                                {
                                    "0": "Paolo Genovese",
                                    "1": "Giuseppe Battiston, Anna Foglietta, Marco Giallini,Edoardo Leo"
                                },
                                {
                                    "0": "Clay Kaytis",
                                    "1": "Jason Sudeikis, Josh Gad, Danny McBride, Maya Rudolph"
                                },
                                {
                                    "0": "Wes Anderson",
                                    "1": "Jared Gilman, Kara Hayward, Bruce Willis, Bill Murray"
                                },
                                {
                                    "0": "Adam Shankman",
                                    "1": "John Travolta, Queen Latifah, Nikki Blonsky,Michelle Pfeiffer"
                                },
                                {
                                    "0": "Lasse Hallström",
                                    "1": "Julianne Hough, Josh Duhamel, Cobie Smulders,David Lyons"
                                },
                                {
                                    "0": "Glenn Ficarra",
                                    "1": "Will Smith, Margot Robbie, Rodrigo Santoro, Adrian Martinez"
                                },
                                {
                                    "0": "Brad Bird",
                                    "1": "Brad Garrett, Lou Romano, Patton Oswalt,Ian Holm"
                                },
                                {
                                    "0": "Jim Mickle",
                                    "1": "Connor Paolo, Nick Damici, Kelly McGillis, Gregory Jones"
                                },
                                {
                                    "0": "Albert Hughes",
                                    "1": "Denzel Washington, Mila Kunis, Ray Stevenson, Gary Oldman"
                                },
                                {
                                    "0": "Matt Reeves",
                                    "1": "Mike Vogel, Jessica Lucas, Lizzy Caplan, T.J. Miller"
                                },
                                {
                                    "0": "Ericson Core",
                                    "1": "Edgar Ramírez, Luke Bracey, Ray Winstone, Teresa Palmer"
                                },
                                {
                                    "0": "Jonathan Glazer",
                                    "1": "Scarlett Johansson, Jeremy McWilliams, Lynsey Taylor Mackay, Dougie McConnell"
                                },
                                {
                                    "0": "Francis Lawrence",
                                    "1": "Will Smith, Alice Braga, Charlie Tahan, Salli Richardson-Whitfield"
                                },
                                {
                                    "0": "Barry Sonnenfeld",
                                    "1": "Will Smith, Tommy Lee Jones, Josh Brolin,Jemaine Clement"
                                },
                                {
                                    "0": "J.J. Abrams",
                                    "1": "Elle Fanning, AJ Michalka, Kyle Chandler, Joel Courtney"
                                },
                                {
                                    "0": "F. Gary Gray",
                                    "1": "Gerard Butler, Jamie Foxx, Leslie Bibb, Colm Meaney"
                                },
                                {
                                    "0": "Pete Docter",
                                    "1": "Edward Asner, Jordan Nagai, John Ratzenberger, Christopher Plummer"
                                },
                                {
                                    "0": "Wes Ball",
                                    "1": "Dylan O'Brien, Kaya Scodelario, Thomas Brodie-Sangster,Giancarlo Esposito"
                                },
                                {
                                    "0": "Todd Haynes",
                                    "1": "Cate Blanchett, Rooney Mara, Sarah Paulson, Kyle Chandler"
                                },
                                {
                                    "0": "Daniel Ragussis",
                                    "1": "Daniel Radcliffe, Toni Collette, Tracy Letts, Sam Trammell"
                                },
                                {
                                    "0": "Paolo Sorrentino",
                                    "1": "Michael Caine, Harvey Keitel, Rachel Weisz, Jane Fonda"
                                },
                                {
                                    "0": "Jaco Van Dormael",
                                    "1": "Jared Leto, Sarah Polley, Diane Kruger, Linh Dan Pham"
                                },
                                {
                                    "0": "Pete Travis",
                                    "1": "Riz Ahmed, Billie Piper, James Floyd, Cush Jumbo"
                                },
                                {
                                    "0": "Oliver Stone",
                                    "1": "Aaron Taylor-Johnson, Taylor Kitsch, Blake Lively,Benicio Del Toro"
                                },
                                {
                                    "0": "Marc Webb",
                                    "1": "Zooey Deschanel, Joseph Gordon-Levitt, Geoffrey Arend, Chloë Grace Moretz"
                                },
                                {
                                    "0": "Elizabeth Banks",
                                    "1": "Emma Stone, Stephen Merchant, Richard Gere, Liev Schreiber"
                                },
                                {
                                    "0": "Alfonso Cuarón",
                                    "1": "Sandra Bullock, George Clooney, Ed Harris, Orto Ignatiussen"
                                },
                                {
                                    "0": "Mark Herman",
                                    "1": "Asa Butterfield, David Thewlis, Rupert Friend, Zac Mattoon O'Brien"
                                },
                                {
                                    "0": "Antoine Fuqua",
                                    "1": "Mark Wahlberg, Michael Peña, Rhona Mitra, Danny Glover"
                                },
                                {
                                    "0": "M. Night Shyamalan",
                                    "1": "Mark Wahlberg, Zooey Deschanel, John Leguizamo, Ashlyn Sanchez"
                                },
                                {
                                    "0": "S. Craig Zahler",
                                    "1": "Kurt Russell, Patrick Wilson, Matthew Fox, Richard Jenkins"
                                },
                                {
                                    "0": "Gregory Jacobs",
                                    "1": "Channing Tatum, Joe Manganiello, Matt Bomer,Adam Rodriguez"
                                },
                                {
                                    "0": "Will Gluck",
                                    "1": "Emma Stone, Amanda Bynes, Penn Badgley, Dan Byrd"
                                },
                                {
                                    "0": "Ridley Scott",
                                    "1": "Christian Bale, Joel Edgerton, Ben Kingsley, Sigourney Weaver"
                                },
                                {
                                    "0": "Neill Blomkamp",
                                    "1": "Sharlto Copley, Dev Patel, Hugh Jackman,Sigourney Weaver"
                                },
                                {
                                    "0": "Peter Jackson",
                                    "1": "Ian McKellen, Martin Freeman, Richard Armitage,Ken Stott"
                                },
                                {
                                    "0": "Biyi Bandele",
                                    "1": "Chiwetel Ejiofor, Thandie Newton, Anika Noni Rose,Joseph Mawle"
                                },
                                {
                                    "0": "Sean Ellis",
                                    "1": "Jamie Dornan, Cillian Murphy, Brian Caspe, Karel Hermánek Jr."
                                },
                                {
                                    "0": "Ridley Scott",
                                    "1": "Michael Fassbender, Penélope Cruz, Cameron Diaz,Javier Bardem"
                                },
                                {
                                    "0": "Andrey Kravchuk",
                                    "1": "Anton Adasinsky, Aleksandr Armer, Vilen Babichev, Rostislav Bershauer"
                                },
                                {
                                    "0": "Glenn Ficarra",
                                    "1": "Tina Fey, Margot Robbie, Martin Freeman, Alfred Molina"
                                },
                                {
                                    "0": "David Schwimmer",
                                    "1": "Clive Owen, Catherine Keener, Liana Liberato,Jason Clarke"
                                },
                                {
                                    "0": "George Nolfi",
                                    "1": "Billy Magnussen, Terry Chen, Teresa Navarro,Vanessa Ross"
                                },
                                {
                                    "0": "Neill Blomkamp",
                                    "1": "Matt Damon, Jodie Foster, Sharlto Copley, Alice Braga"
                                },
                                {
                                    "0": "Eli Roth",
                                    "1": "Lorenza Izzo, Ariel Levy, Aaron Burns, Kirby Bliss Blanton"
                                },
                                {
                                    "0": "Gareth Edwards",
                                    "1": "Aaron Taylor-Johnson, Elizabeth Olsen, Bryan Cranston, Ken Watanabe"
                                },
                                {
                                    "0": "Tony Gilroy",
                                    "1": "Jeremy Renner, Rachel Weisz, Edward Norton, Scott Glenn"
                                },
                                {
                                    "0": "Ridley Scott",
                                    "1": "Russell Crowe, Abbie Cornish, Albert Finney, Marion Cotillard"
                                },
                                {
                                    "0": "Simon Verhoeven",
                                    "1": "Alycia Debnam-Carey, William Moseley, Connor Paolo, Brit Morgan"
                                },
                                {
                                    "0": "Tony Scott",
                                    "1": "Denzel Washington, Paula Patton, Jim Caviezel, Val Kilmer"
                                },
                                {
                                    "0": "Luc Besson",
                                    "1": "Scarlett Johansson, Morgan Freeman, Min-sik Choi,Amr Waked"
                                },
                                {
                                    "0": "Terence Davies",
                                    "1": "Cynthia Nixon, Jennifer Ehle, Duncan Duff, Keith Carradine"
                                },
                                {
                                    "0": "Scott Waugh",
                                    "1": "Aaron Paul, Dominic Cooper, Imogen Poots, Scott Mescudi"
                                },
                                {
                                    "0": "Christopher McQuarrie",
                                    "1": "Tom Cruise, Rosamund Pike, Richard Jenkins, Werner Herzog"
                                },
                                {
                                    "0": "Steven Brill",
                                    "1": "Adam Sandler, David Spade, Paula Patton, Kathryn Hahn"
                                },
                                {
                                    "0": "Alexandros Avranas",
                                    "1": "Jim Carrey, Charlotte Gainsbourg, Marton Csokas, Kati Outinen"
                                },
                                {
                                    "0": "Ewan McGregor",
                                    "1": "Ewan McGregor, Jennifer Connelly, Dakota Fanning, Peter Riegert"
                                },
                                {
                                    "0": "Roman Polanski",
                                    "1": "Ewan McGregor, Pierce Brosnan, Olivia Williams,Jon Bernthal"
                                },
                                {
                                    "0": "Neil Burger",
                                    "1": "Bradley Cooper, Anna Friel, Abbie Cornish, Robert De Niro"
                                },
                                {
                                    "0": "Nic Mathieu",
                                    "1": "James Badge Dale, Emily Mortimer, Bruce Greenwood,Max Martini"
                                },
                                {
                                    "0": "Richard LaGravenese",
                                    "1": "Hilary Swank, Gerard Butler, Harry Connick Jr., Lisa Kudrow"
                                },
                                {
                                    "0": "Mora Stephens",
                                    "1": "Patrick Wilson, Lena Headey, Ray Winstone,Richard Dreyfuss"
                                },
                                {
                                    "0": "Jeff Nichols",
                                    "1": "Michael Shannon, Joel Edgerton, Kirsten Dunst, Adam Driver"
                                },
                                {
                                    "0": "Mike Birbiglia",
                                    "1": "Keegan-Michael Key, Gillian Jacobs, Mike Birbiglia,Chris Gethard"
                                },
                                {
                                    "0": "Tim Burton",
                                    "1": "Mia Wasikowska, Johnny Depp, Helena Bonham Carter,Anne Hathaway"
                                },
                                {
                                    "0": "Philippe Falardeau",
                                    "1": "Elisabeth Moss, Naomi Watts, Ron Perlman, Liev Schreiber"
                                },
                                {
                                    "0": "Ken Loach",
                                    "1": "Dave Johns, Hayley Squires, Sharon Percy, Briana Shann"
                                },
                                {
                                    "0": "Peyton Reed",
                                    "1": "Jennifer Aniston, Vince Vaughn, Jon Favreau, Joey Lauren Adams"
                                },
                                {
                                    "0": "Jeff Nichols",
                                    "1": "Ruth Negga, Joel Edgerton, Will Dalton, Dean Mumford"
                                },
                                {
                                    "0": "Josh Trank",
                                    "1": "Miles Teller, Kate Mara, Michael B. Jordan, Jamie Bell"
                                },
                                {
                                    "0": "Stephen Fingleton",
                                    "1": "Mia Goth, Martin McCann, Barry Ward, Andrew Simpson"
                                },
                                {
                                    "0": "Florian Gallenberger",
                                    "1": "Emma Watson, Daniel Brühl, Michael Nyqvist,Richenda Carey"
                                },
                                {
                                    "0": "Rob Cohen",
                                    "1": "Jennifer Lopez, Ryan Guzman, Kristin Chenoweth, John Corbett"
                                },
                                {
                                    "0": "Joel Edgerton",
                                    "1": "Jason Bateman, Rebecca Hall, Joel Edgerton, Allison Tolman"
                                },
                                {
                                    "0": "Gary Shore",
                                    "1": "Luke Evans, Dominic Cooper, Sarah Gadon, Art Parkinson"
                                },
                                {
                                    "0": "Ron Howard",
                                    "1": "Chris Hemsworth, Cillian Murphy, Brendan Gleeson,Ben Whishaw"
                                },
                                {
                                    "0": "Mike Judge",
                                    "1": "Luke Wilson, Maya Rudolph, Dax Shepard, Terry Crews"
                                },
                                {
                                    "0": "Sylvester Stallone",
                                    "1": "Sylvester Stallone, Jason Statham, Jet Li, Dolph Lundgren"
                                },
                                {
                                    "0": "Fede Alvarez",
                                    "1": "Jane Levy, Shiloh Fernandez, Jessica Lucas, Lou Taylor Pucci"
                                },
                                {
                                    "0": "Scott Derrickson",
                                    "1": "Ethan Hawke, Juliet Rylance, James Ransone,Fred Dalton Thompson"
                                },
                                {
                                    "0": "Rich Moore",
                                    "1": "John C. Reilly, Jack McBrayer, Jane Lynch, Sarah Silverman"
                                },
                                {
                                    "0": "Rupert Sanders",
                                    "1": "Kristen Stewart, Chris Hemsworth, Charlize Theron, Sam Claflin"
                                },
                                {
                                    "0": "Joe Wright",
                                    "1": "Levi Miller, Hugh Jackman, Garrett Hedlund, Rooney Mara"
                                },
                                {
                                    "0": "Michael Bay",
                                    "1": "Shia LaBeouf, Rosie Huntington-Whiteley, Tyrese Gibson, Josh Duhamel"
                                },
                                {
                                    "0": "Jason Reitman",
                                    "1": "Ellen Page, Michael Cera, Jennifer Garner, Jason Bateman"
                                },
                                {
                                    "0": "Tom Tykwer",
                                    "1": "Tom Hanks, Sarita Choudhury, Ben Whishaw,Alexander Black"
                                },
                                {
                                    "0": "Jodie Foster",
                                    "1": "George Clooney, Julia Roberts, Jack O'Connell,Dominic West"
                                },
                                {
                                    "0": "Nick Cassavetes",
                                    "1": "Cameron Diaz, Leslie Mann, Kate Upton, Nikolaj Coster-Waldau"
                                },
                                {
                                    "0": "Kevin Lima",
                                    "1": "Amy Adams, Susan Sarandon, James Marsden, Patrick Dempsey"
                                },
                                {
                                    "0": "Nancy Meyers",
                                    "1": "Robert De Niro, Anne Hathaway, Rene Russo,Anders Holm"
                                },
                                {
                                    "0": "Jonathan Dayton",
                                    "1": "Steve Carell, Toni Collette, Greg Kinnear, Abigail Breslin"
                                },
                                {
                                    "0": "Ben Younger",
                                    "1": "Miles Teller, Aaron Eckhart, Katey Sagal, Ciarán Hinds"
                                },
                                {
                                    "0": "Louis Leterrier",
                                    "1": "Sam Worthington, Liam Neeson, Ralph Fiennes,Jason Flemyng"
                                },
                                {
                                    "0": "Craig Gillespie",
                                    "1": "Chris Pine, Casey Affleck, Ben Foster, Eric Bana"
                                },
                                {
                                    "0": "Joseph Kosinski",
                                    "1": "Jeff Bridges, Garrett Hedlund, Olivia Wilde, Bruce Boxleitner"
                                },
                                {
                                    "0": "Francis Lawrence",
                                    "1": "Jennifer Lawrence, Josh Hutcherson, Liam Hemsworth, Philip Seymour Hoffman"
                                },
                                {
                                    "0": "Andrew Jarecki",
                                    "1": "Ryan Gosling, Kirsten Dunst, Frank Langella, Lily Rabe"
                                },
                                {
                                    "0": "John Stockwell",
                                    "1": "Dave Bautista, Alain Moussi, Gina Carano, Jean-Claude Van Damme"
                                },
                                {
                                    "0": "M. Night Shyamalan",
                                    "1": "Noah Ringer, Nicola Peltz, Jackson Rathbone,Dev Patel"
                                },
                                {
                                    "0": "Jake Kasdan",
                                    "1": "Jason Segel, Cameron Diaz, Rob Corddry, Ellie Kemper"
                                },
                                {
                                    "0": "Kirk Jones",
                                    "1": "Cameron Diaz, Matthew Morrison, J. Todd Smith, Dennis Quaid"
                                },
                                {
                                    "0": "Bennett Miller",
                                    "1": "Brad Pitt, Robin Wright, Jonah Hill, Philip Seymour Hoffman"
                                },
                                {
                                    "0": "Mark Steven Johnson",
                                    "1": "Nicolas Cage, Eva Mendes, Sam Elliott, Matt Long"
                                },
                                {
                                    "0": "Angelina Jolie",
                                    "1": "Jack O'Connell, Miyavi, Domhnall Gleeson, Garrett Hedlund"
                                },
                                {
                                    "0": "Tarsem Singh",
                                    "1": "Henry Cavill, Mickey Rourke, John Hurt, Stephen Dorff"
                                },
                                {
                                    "0": "Danny Boyle",
                                    "1": "Cillian Murphy, Rose Byrne, Chris Evans, Michelle Yeoh"
                                },
                                {
                                    "0": "Mark Andrews",
                                    "1": "Kelly Macdonald,Billy Connolly, Emma Thompson, Julie Walters"
                                },
                                {
                                    "0": "Niels Arden Oplev",
                                    "1": "Michael Nyqvist, Noomi Rapace, Ewa Fröling,Lena Endre"
                                },
                                {
                                    "0": "Anne Fontaine",
                                    "1": "Naomi Watts, Robin Wright, Xavier Samuel, James Frecheville"
                                },
                                {
                                    "0": "Michaël R. Roskam",
                                    "1": "Tom Hardy, Noomi Rapace, James Gandolfini,Matthias Schoenaerts"
                                },
                                {
                                    "0": "Andy Fickman",
                                    "1": "Amanda Bynes, Laura Ramsey, Channing Tatum,Vinnie Jones"
                                },
                                {
                                    "0": "Sean Anders",
                                    "1": "Will Ferrell, Mark Wahlberg, Linda Cardellini, Thomas Haden Church"
                                },
                                {
                                    "0": "Matt Reeves",
                                    "1": "Kodi Smit-McPhee, Chloë Grace Moretz, Richard Jenkins, Cara Buono"
                                },
                                {
                                    "0": "Jeff Wadlow",
                                    "1": "Sean Faris, Djimon Hounsou, Amber Heard, Cam Gigandet"
                                },
                                {
                                    "0": "Louis Leterrier",
                                    "1": "Sacha Baron Cohen, Mark Strong, Rebel Wilson,Freddie Crowder"
                                },
                                {
                                    "0": "Duncan Jones",
                                    "1": "Sam Rockwell, Kevin Spacey, Dominique McElligott,Rosie Shaw"
                                },
                                {
                                    "0": "Tom McGrath",
                                    "1": "Will Ferrell, Jonah Hill, Brad Pitt, Tina Fey"
                                },
                                {
                                    "0": "Ruben Fleischer",
                                    "1": "Sean Penn, Ryan Gosling, Emma Stone, Giovanni Ribisi"
                                },
                                {
                                    "0": "Jean-François Richet",
                                    "1": "Mel Gibson, Erin Moriarty, Diego Luna, Michael Parks"
                                },
                                {
                                    "0": "Ken Kwapis",
                                    "1": "Jennifer Aniston, Jennifer Connelly, Morgan Lily,Trenton Rogers"
                                },
                                {
                                    "0": "Alessandro Carloni",
                                    "1": "Jack Black, Bryan Cranston, Dustin Hoffman, Angelina Jolie"
                                },
                                {
                                    "0": "Zackary Adler",
                                    "1": "Matt Vael, Simon Cotton, Kevin Leslie, Olivia Moyles"
                                },
                                {
                                    "0": "John Butler",
                                    "1": "Fionn O'Shea, Nicholas Galitzine, Andrew Scott, Moe Dunford"
                                },
                                {
                                    "0": "Debra Granik",
                                    "1": "Jennifer Lawrence, John Hawkes, Garret Dillahunt,Isaiah Stone"
                                },
                                {
                                    "0": "Seth Gordon",
                                    "1": "Jason Bateman, Charlie Day, Jason Sudeikis, Steve Wiebe"
                                },
                                {
                                    "0": "Xavier Dolan",
                                    "1": "Anne Dorval, Antoine-Olivier Pilon, Suzanne Clément,Patrick Huard"
                                },
                                {
                                    "0": "Guillermo del Toro",
                                    "1": "Ron Perlman, Selma Blair, Doug Jones, John Alexander"
                                },
                                {
                                    "0": "Richard LaGravenese",
                                    "1": "Alice Englert, Viola Davis, Emma Thompson,Alden Ehrenreich"
                                },
                                {
                                    "0": "Maren Ade",
                                    "1": "Sandra Hüller, Peter Simonischek, Michael Wittenborn,Thomas Loibl"
                                },
                                {
                                    "0": "Peter Jackson",
                                    "1": "Rachel Weisz, Mark Wahlberg, Saoirse Ronan, Susan Sarandon"
                                },
                                {
                                    "0": "Andrew Dominik",
                                    "1": "Brad Pitt, Casey Affleck, Sam Shepard, Mary-Louise Parker"
                                },
                                {
                                    "0": "Joseph Gordon-Levitt",
                                    "1": "Joseph Gordon-Levitt, Scarlett Johansson,Julianne Moore, Tony Danza"
                                },
                                {
                                    "0": "James Watkins",
                                    "1": "Idris Elba, Richard Madden, Charlotte Le Bon, Kelly Reilly"
                                },
                                {
                                    "0": "Joey Curtis",
                                    "1": "Paul Sidhu, Branden Coles, Arielle Holmes, Kelcey Watson"
                                },
                                {
                                    "0": "Gary Ross",
                                    "1": "Matthew McConaughey, Gugu Mbatha-Raw, Mahershala Ali, Keri Russell"
                                },
                                {
                                    "0": "Paco Cabezas",
                                    "1": "Anna Kendrick, Sam Rockwell, Tim Roth, James Ransone"
                                },
                                {
                                    "0": "Ben Stiller",
                                    "1": "Ben Stiller, Kristen Wiig, Jon Daly, Kathryn Hahn"
                                },
                                {
                                    "0": "Rick Famuyiwa",
                                    "1": "Shameik Moore, Tony Revolori, Kiersey Clemons,Kimberly Elise"
                                },
                                {
                                    "0": "Måns Mårlind",
                                    "1": "Kate Beckinsale, Michael Ealy, India Eisley, Stephen Rea"
                                },
                                {
                                    "0": "Lars von Trier",
                                    "1": "Willem Dafoe, Charlotte Gainsbourg, Storm Acheche Sahlstrøm"
                                },
                                {
                                    "0": "Marcus Nispel",
                                    "1": "Jared Padalecki, Amanda Righetti, Derek Mears,Danielle Panabaker"
                                },
                                {
                                    "0": "Olivier Megaton",
                                    "1": "Liam Neeson, Forest Whitaker, Maggie Grace,Famke Janssen"
                                },
                                {
                                    "0": "Len Wiseman",
                                    "1": "Colin Farrell, Bokeem Woodbine, Bryan Cranston,Kate Beckinsale"
                                },
                                {
                                    "0": "Brett Ratner",
                                    "1": "Patrick Stewart, Hugh Jackman, Halle Berry, Famke Janssen"
                                },
                                {
                                    "0": "Will Slocombe",
                                    "1": "Lyndsy Fonseca, Michael Doneger, Tommy Dewey,Bruce Campbell"
                                },
                                {
                                    "0": "Courtney Hunt",
                                    "1": "Keanu Reeves, Renée Zellweger, Gugu Mbatha-Raw, Gabriel Basso"
                                },
                                {
                                    "0": "Shawn Levy",
                                    "1": "Ben Stiller, Robin Williams, Owen Wilson, Dick Van Dyke"
                                },
                                {
                                    "0": "Edward Zwick",
                                    "1": "Jake Gyllenhaal, Anne Hathaway, Judy Greer, Oliver Platt"
                                },
                                {
                                    "0": "Evan Goldberg",
                                    "1": "James Franco, Seth Rogen, Randall Park, Lizzy Caplan"
                                },
                                {
                                    "0": "Bong Joon Ho",
                                    "1": "Kang-ho Song, Hee-Bong Byun, Hae-il Park, Doona Bae"
                                },
                                {
                                    "0": "Michael Goi",
                                    "1": "Amber Perkins, Rachel Quinn, Dean Waite, Jael Elizabeth Steinmeyer"
                                },
                                {
                                    "0": "Andrew Stanton",
                                    "1": "Ben Burtt, Elissa Knight, Jeff Garlin, Fred Willard"
                                },
                                {
                                    "0": "Judd Apatow",
                                    "1": "Seth Rogen, Katherine Heigl, Paul Rudd, Leslie Mann"
                                },
                                {
                                    "0": "Duncan Jones",
                                    "1": "Jake Gyllenhaal, Michelle Monaghan, Vera Farmiga,Jeffrey Wright"
                                },
                                {
                                    "0": "John Hillcoat",
                                    "1": "Tom Hardy, Shia LaBeouf, Guy Pearce, Jason Clarke"
                                },
                                {
                                    "0": "Levan Gabriadze",
                                    "1": "Heather Sossaman, Matthew Bohrer, Courtney Halverson, Shelley Hennig"
                                },
                                {
                                    "0": "Jon Hurwitz",
                                    "1": "Jason Biggs, Alyson Hannigan,Seann William Scott, Chris Klein"
                                },
                                {
                                    "0": "Gabriele Muccino",
                                    "1": "Will Smith, Thandie Newton, Jaden Smith, Brian Howe"
                                },
                                {
                                    "0": "Damián Szifron",
                                    "1": "Darío Grandinetti, María Marull, Mónica Villa, Rita Cortese"
                                },
                                {
                                    "0": "Frank Coraci",
                                    "1": "Adam Sandler, Terry Crews, Jorge Garcia, Taylor Lautner"
                                },
                                {
                                    "0": "François Ozon",
                                    "1": "Pierre Niney, Paula Beer, Ernst Stötzner, Marie Gruber"
                                },
                                {
                                    "0": "Henry Joost",
                                    "1": "Sofia Black-D'Elia, Analeigh Tipton,Travis Tope, Michael Kelly"
                                },
                                {
                                    "0": "Clint Eastwood",
                                    "1": "Clint Eastwood, Bee Vang, Christopher Carley,Ahney Her"
                                },
                                {
                                    "0": "John Wells",
                                    "1": "Bradley Cooper, Sienna Miller, Daniel Brühl, Riccardo Scamarcio"
                                },
                                {
                                    "0": "Jonathan Holbrook",
                                    "1": "Dan Crisafulli, Kay Whitney, Richard Garcia, Pat Cashman"
                                },
                                {
                                    "0": "Julia Leigh",
                                    "1": "Emily Browning, Rachael Blake, Ewen Leslie, Bridgette Barrett"
                                },
                                {
                                    "0": "Mark Waters",
                                    "1": "Zoey Deutch, Lucy Fry, Danila Kozlovsky, Gabriel Byrne"
                                },
                                {
                                    "0": "Tim Burton",
                                    "1": "Johnny Depp, Helena Bonham Carter, Alan Rickman,Timothy Spall"
                                },
                                {
                                    "0": "Afonso Poyart",
                                    "1": "Anthony Hopkins, Jeffrey Dean Morgan, Abbie Cornish, Colin Farrell"
                                },
                                {
                                    "0": "James Wan",
                                    "1": "Patrick Wilson, Rose Byrne, Ty Simpkins, Lin Shaye"
                                },
                                {
                                    "0": "Akiva Schaffer",
                                    "1": "Andy Samberg, Jorma Taccone,Akiva Schaffer, Sarah Silverman"
                                },
                                {
                                    "0": "Hope Dickson Leach",
                                    "1": "Ellie Kendrick, David Troughton, Jack Holden,Joe Blakemore"
                                },
                                {
                                    "0": "Michael Mann",
                                    "1": "Christian Bale, Johnny Depp, Christian Stolte, Jason Clarke"
                                },
                                {
                                    "0": "Richard Linklater",
                                    "1": "Ellar Coltrane, Patricia Arquette, Ethan Hawke,Elijah Smith"
                                },
                                {
                                    "0": "Jonathan Liebesman",
                                    "1": "Megan Fox, Will Arnett, William Fichtner, Noel Fisher"
                                },
                                {
                                    "0": "David Cronenberg",
                                    "1": "Naomi Watts, Viggo Mortensen, Armin Mueller-Stahl, Josef Altin"
                                },
                                {
                                    "0": "Simon Stone",
                                    "1": "Geoffrey Rush, Nicholas Hope, Sam Neill, Ewen Leslie"
                                },
                                {
                                    "0": "David Gordon Green",
                                    "1": "Seth Rogen, James Franco, Gary Cole, Danny McBride"
                                },
                                {
                                    "0": "Jon Kasdan",
                                    "1": "Dylan O'Brien, Britt Robertson, Victoria Justice, James Frecheville"
                                },
                                {
                                    "0": "Ben Affleck",
                                    "1": "Morgan Freeman, Ed Harris, Casey Affleck, Michelle Monaghan"
                                },
                                {
                                    "0": "Paul Feig",
                                    "1": "Sandra Bullock, Michael McDonald, Melissa McCarthy,Demián Bichir"
                                },
                                {
                                    "0": "Mia Hansen-Løve",
                                    "1": "Isabelle Huppert, André Marcon, Roman Kolinka,Edith Scob"
                                },
                                {
                                    "0": "Joe Wright",
                                    "1": "Keira Knightley, Jude Law, Aaron Taylor-Johnson,Matthew Macfadyen"
                                },
                                {
                                    "0": "Alejandro Amenábar",
                                    "1": "Ethan Hawke, David Thewlis, Emma Watson,Dale Dickey"
                                },
                                {
                                    "0": "Seth MacFarlane",
                                    "1": "Mark Wahlberg, Seth MacFarlane, Amanda Seyfried, Jessica Barth"
                                },
                                {
                                    "0": "Michael Bay",
                                    "1": "Mark Wahlberg, Dwayne Johnson, Anthony Mackie,Tony Shalhoub"
                                },
                                {
                                    "0": "Edward Zwick",
                                    "1": "Leonardo DiCaprio, Djimon Hounsou, Jennifer Connelly, Kagiso Kuypers"
                                },
                                {
                                    "0": "Atom Egoyan",
                                    "1": "Colin Firth, Reese Witherspoon, Alessandro Nivola,James Hamrick"
                                },
                                {
                                    "0": "Daniel Espinosa",
                                    "1": "Tom Hardy, Gary Oldman, Noomi Rapace, Joel Kinnaman"
                                },
                                {
                                    "0": "Kathryn Bigelow",
                                    "1": "Jeremy Renner, Anthony Mackie, Brian Geraghty,Guy Pearce"
                                },
                                {
                                    "0": "Martin Campbell",
                                    "1": "Ryan Reynolds, Blake Lively, Peter Sarsgaard,Mark Strong"
                                },
                                {
                                    "0": "John Michael McDonagh",
                                    "1": "Alexander Skarsgård, Michael Peña, Theo James, Tessa Thompson"
                                },
                                {
                                    "0": "Frank Darabont",
                                    "1": "Thomas Jane, Marcia Gay Harden, Laurie Holden,Andre Braugher"
                                },
                                {
                                    "0": "Mikael Håfström",
                                    "1": "Sylvester Stallone, Arnold Schwarzenegger, 50 Cent, Vincent D'Onofrio"
                                },
                                {
                                    "0": "Christian Ditter",
                                    "1": "Lily Collins, Sam Claflin, Christian Cooke, Jaime Winstone"
                                },
                                {
                                    "0": "Ari Sandel",
                                    "1": "Mae Whitman, Bella Thorne, Robbie Amell, Allison Janney"
                                },
                                {
                                    "0": "Jee-woon Kim",
                                    "1": "Byung-hun Lee, Yoo Gong, Kang-ho Song, Ji-min Han"
                                },
                                {
                                    "0": "Francis Lawrence",
                                    "1": "Jennifer Lawrence, Josh Hutcherson, Liam Hemsworth, Woody Harrelson"
                                },
                                {
                                    "0": "Lynne Ramsay",
                                    "1": "Tilda Swinton, John C. Reilly, Ezra Miller, Jasper Newell"
                                },
                                {
                                    "0": "Whit Stillman",
                                    "1": "Kate Beckinsale, Chloë Sevigny, Xavier Samuel,Emma Greenwell"
                                },
                                {
                                    "0": "Harald Zwart",
                                    "1": "Lily Collins, Jamie Campbell Bower, Robert Sheehan,Jemima West"
                                },
                                {
                                    "0": "Gabriele Muccino",
                                    "1": "Will Smith, Rosario Dawson, Woody Harrelson,Michael Ealy"
                                },
                                {
                                    "0": "Tom Hooper",
                                    "1": "Colin Firth, Geoffrey Rush, Helena Bonham Carter,Derek Jacobi"
                                },
                                {
                                    "0": "Steve McQueen",
                                    "1": "Stuart Graham, Laine Megaw, Brian Milligan, Liam McMahon"
                                },
                                {
                                    "0": "Doug Liman",
                                    "1": "Hayden Christensen, Samuel L. Jackson, Jamie Bell,Rachel Bilson"
                                },
                                {
                                    "0": "Lee Unkrich",
                                    "1": "Tom Hanks, Tim Allen, Joan Cusack, Ned Beatty"
                                },
                                {
                                    "0": "Tomas Alfredson",
                                    "1": "Gary Oldman, Colin Firth, Tom Hardy, Mark Strong"
                                },
                                {
                                    "0": "Paul W.S. Anderson",
                                    "1": "Milla Jovovich, Sienna Guillory, Michelle Rodriguez, Aryana Engineer"
                                },
                                {
                                    "0": "Gauri Shinde",
                                    "1": "Alia Bhatt, Shah Rukh Khan, Kunal Kapoor, Priyanka Moodley"
                                },
                                {
                                    "0": "Michael Grandage",
                                    "1": "Colin Firth, Jude Law, Nicole Kidman, Laura Linney"
                                },
                                {
                                    "0": "Paul W.S. Anderson",
                                    "1": "Kit Harington, Emily Browning, Kiefer Sutherland, Adewale Akinnuoye-Agbaje"
                                },
                                {
                                    "0": "Ang Lee",
                                    "1": "Suraj Sharma, Irrfan Khan, Adil Hussain, Tabu"
                                },
                                {
                                    "0": "Lasse Hallström",
                                    "1": "Richard Gere, Joan Allen, Cary-Hiroyuki Tagawa,Sarah Roemer"
                                },
                                {
                                    "0": "Jamie Linden",
                                    "1": "Channing Tatum, Rosario Dawson, Chris Pratt, Jenna Dewan Tatum"
                                },
                                {
                                    "0": "Mike Cahill",
                                    "1": "Michael Pitt, Steven Yeun, Astrid Bergès-Frisbey, Brit Marling"
                                },
                                {
                                    "0": "Len Wiseman",
                                    "1": "Bruce Willis, Justin Long, Timothy Olyphant, Maggie Q"
                                },
                                {
                                    "0": "Caleb Vetter",
                                    "1": "Wesley Elder, Christina Grimmie, Osric Chau, Olan Rogers"
                                },
                                {
                                    "0": "Michael Haneke",
                                    "1": "Naomi Watts, Tim Roth, Michael Pitt, Brady Corbet"
                                },
                                {
                                    "0": "Seth MacFarlane",
                                    "1": "Mark Wahlberg, Mila Kunis, Seth MacFarlane, Joel McHale"
                                },
                                {
                                    "0": "Robert Schwentke",
                                    "1": "Bruce Willis, Helen Mirren, Morgan Freeman,Mary-Louise Parker"
                                },
                                {
                                    "0": "Baz Luhrmann",
                                    "1": "Nicole Kidman, Hugh Jackman, Shea Adams, Eddie Baroo"
                                },
                                {
                                    "0": "George Tillman Jr.",
                                    "1": "Dwayne Johnson, Billy Bob Thornton, Maggie Grace, Mauricio Lopez"
                                },
                                {
                                    "0": "Marcus Dunstan",
                                    "1": "Josh Stewart, Bill Engvall, Alex Essoe, Ronnie Gene Blevins"
                                },
                                {
                                    "0": "George Nolfi",
                                    "1": "Matt Damon, Emily Blunt, Lisa Thoreson, Florence Kastriner"
                                },
                                {
                                    "0": "John Krasinski",
                                    "1": "Sharlto Copley, Charlie Day, Richard Jenkins, Anna Kendrick"
                                },
                                {
                                    "0": "David Dobkin",
                                    "1": "Robert Downey Jr., Robert Duvall, Vera Farmiga, Billy Bob Thornton"
                                },
                                {
                                    "0": "John Crowley",
                                    "1": "Eric Bana, Rebecca Hall, Jim Broadbent, Ciarán Hinds"
                                },
                                {
                                    "0": "Michael Bay",
                                    "1": "Shia LaBeouf, Megan Fox, Josh Duhamel, Tyrese Gibson"
                                },
                                {
                                    "0": "Michael Dudok de Wit",
                                    "1": "Emmanuel Garijo, Tom Hudson, Baptiste Goy, Axel Devillers"
                                },
                                {
                                    "0": "Jorge R. Gutiérrez",
                                    "1": "Diego Luna, Zoe Saldana, Channing Tatum, Ron Perlman"
                                },
                                {
                                    "0": "Denis Villeneuve",
                                    "1": "Lubna Azabal, Mélissa Désormeaux-Poulin, Maxim Gaudette, Mustafa Kamel"
                                },
                                {
                                    "0": "Bobby Farrelly",
                                    "1": "Ben Stiller, Michelle Monaghan,Malin Akerman, Jerry Stiller"
                                },
                                {
                                    "0": "George Miller",
                                    "1": "Elijah Wood, Brittany Murphy, Hugh Jackman, Robin Williams"
                                },
                                {
                                    "0": "Doug Ellin",
                                    "1": "Adrian Grenier, Kevin Connolly, Jerry Ferrara, Kevin Dillon"
                                },
                                {
                                    "0": "Bryan Bertino",
                                    "1": "Scott Speedman, Liv Tyler, Gemma Ward, Alex Fisher"
                                },
                                {
                                    "0": "Darren Aronofsky",
                                    "1": "Russell Crowe, Jennifer Connelly, Anthony Hopkins, Emma Watson"
                                },
                                {
                                    "0": "Nicholas Stoller",
                                    "1": "Seth Rogen, Rose Byrne, Zac Efron, Lisa Kudrow"
                                },
                                {
                                    "0": "Lars von Trier",
                                    "1": "Charlotte Gainsbourg, Stellan Skarsgård, Willem Dafoe, Jamie Bell"
                                },
                                {
                                    "0": "Jean-Marc Vallée",
                                    "1": "Reese Witherspoon, Laura Dern, Gaby Hoffmann,Michiel Huisman"
                                },
                                {
                                    "0": "Dennis Dugan",
                                    "1": "Adam Sandler, Salma Hayek, Kevin James, Chris Rock"
                                },
                                {
                                    "0": "Adam Wingard",
                                    "1": "James Allen McCune, Callie Hernandez, Corbin Reid, Brandon Scott"
                                },
                                {
                                    "0": "Harald Zwart",
                                    "1": "Jackie Chan, Jaden Smith, Taraji P. Henson, Wenwen Han"
                                },
                                {
                                    "0": "Tim Burton",
                                    "1": "Johnny Depp, Michelle Pfeiffer, Eva Green, Helena Bonham Carter"
                                },
                                {
                                    "0": "Will Gluck",
                                    "1": "Mila Kunis, Justin Timberlake, Patricia Clarkson, Jenna Elfman"
                                },
                                {
                                    "0": "Neil Burger",
                                    "1": "Edward Norton, Jessica Biel, Paul Giamatti, Rufus Sewell"
                                },
                                {
                                    "0": "Joe Carnahan",
                                    "1": "Liam Neeson, Bradley Cooper, Sharlto Copley,Jessica Biel"
                                },
                                {
                                    "0": "Adam Wingard",
                                    "1": "Dan Stevens, Sheila Kelley, Maika Monroe, Joel David Moore"
                                },
                                {
                                    "0": "Shawn Levy",
                                    "1": "Vince Vaughn, Owen Wilson, Rose Byrne, Aasif Mandvi"
                                },
                                {
                                    "0": "Greg Mottola",
                                    "1": "Simon Pegg, Nick Frost, Seth Rogen, Mia Stallard"
                                },
                                {
                                    "0": "Simon Aboud",
                                    "1": "Jessica Brown Findlay, Andrew Scott, Jeremy Irvine,Tom Wilkinson"
                                },
                                {
                                    "0": "Ron Howard",
                                    "1": "Tom Hanks, Audrey Tautou, Jean Reno, Ian McKellen"
                                },
                                {
                                    "0": "Bruce Beresford",
                                    "1": "Eddie Murphy, Britt Robertson, Natascha McElhone, Xavier Samuel"
                                },
                                {
                                    "0": "Martin Scorsese",
                                    "1": "Asa Butterfield, Chloë Grace Moretz, Christopher Lee, Ben Kingsley"
                                },
                                {
                                    "0": "Oz Perkins",
                                    "1": "Emma Roberts, Kiernan Shipka, Lauren Holly, Lucy Boynton"
                                },
                                {
                                    "0": "Ridley Scott",
                                    "1": "Leonardo DiCaprio, Russell Crowe, Mark Strong,Golshifteh Farahani"
                                },
                                {
                                    "0": "Terrence Malick",
                                    "1": "Christian Bale, Cate Blanchett, Natalie Portman,Brian Dennehy"
                                },
                                {
                                    "0": "Rob Cohen",
                                    "1": "Brendan Fraser, Jet Li, Maria Bello, Michelle Yeoh"
                                },
                                {
                                    "0": "Ben Falcone",
                                    "1": "Melissa McCarthy, Kristen Bell, Peter Dinklage, Ella Anderson"
                                },
                                {
                                    "0": "Jonathan Jakubowicz",
                                    "1": "Edgar Ramírez, Usher Raymond, Robert De Niro, Rubén Blades"
                                },
                                {
                                    "0": "Juan José Campanella",
                                    "1": "Ricardo Darín, Soledad Villamil, Pablo Rago,Carla Quevedo"
                                },
                                {
                                    "0": "Ethan Coen",
                                    "1": "Jeff Bridges, Matt Damon, Hailee Steinfeld,Josh Brolin"
                                },
                                {
                                    "0": "Max Joseph",
                                    "1": "Zac Efron, Wes Bentley, Emily Ratajkowski, Jonny Weston"
                                },
                                {
                                    "0": "Seth MacFarlane",
                                    "1": "Seth MacFarlane, Charlize Theron, Liam Neeson,Amanda Seyfried"
                                },
                                {
                                    "0": "Chris Stokes",
                                    "1": "Brian White, Karrueche Tran, Angelique Pereira,Jessica Vanessa DeLeon"
                                },
                                {
                                    "0": "Warren Beatty",
                                    "1": "Lily Collins, Haley Bennett, Taissa Farmiga, Steve Tom"
                                },
                                {
                                    "0": "Mike Flanagan",
                                    "1": "Elizabeth Reaser, Lulu Wilson, Annalise Basso,Henry Thomas"
                                },
                                {
                                    "0": "Thor Freudenthal",
                                    "1": "Logan Lerman, Alexandra Daddario, Brandon T. Jackson, Nathan Fillion"
                                },
                                {
                                    "0": "Gregory Hoblit",
                                    "1": "Anthony Hopkins, Ryan Gosling, David Strathairn,Rosamund Pike"
                                },
                                {
                                    "0": "Mike Flanagan",
                                    "1": "Karen Gillan, Brenton Thwaites, Katee Sackhoff,Rory Cochrane"
                                },
                                {
                                    "0": "Martin McDonagh",
                                    "1": "Colin Farrell, Brendan Gleeson, Ciarán Hinds,Elizabeth Berrington"
                                },
                                {
                                    "0": "McG",
                                    "1": "Reese Witherspoon, Chris Pine, Tom Hardy, Til Schweiger"
                                },
                                {
                                    "0": "Filip Renc",
                                    "1": "Tatiana Pauhofová, Karl Markovics, Gedeon Burkhard,Simona Stasová"
                                },
                                {
                                    "0": "John Hillcoat",
                                    "1": "Viggo Mortensen, Charlize Theron, Kodi Smit-McPhee,Robert Duvall"
                                },
                                {
                                    "0": "Ed Gass-Donnelly",
                                    "1": "Abbie Cornish, Dermot Mulroney, Justin Long,Diego Klattenhoff"
                                },
                                {
                                    "0": "Jamal Hill",
                                    "1": "Larenz Tate, Meagan Good, Rotimi, Rick Gonzalez"
                                },
                                {
                                    "0": "Marcus Nispel",
                                    "1": "Jason Momoa, Ron Perlman, Rose McGowan,Stephen Lang"
                                },
                                {
                                    "0": "David O. Russell",
                                    "1": "Mark Wahlberg, Christian Bale, Amy Adams,Melissa Leo"
                                },
                                {
                                    "0": "Kirsten Sheridan",
                                    "1": "Freddie Highmore, Keri Russell, Jonathan Rhys Meyers, Terrence Howard"
                                },
                                {
                                    "0": "Jon Favreau",
                                    "1": "Jon Favreau, Robert Downey Jr., Scarlett Johansson,Dustin Hoffman"
                                },
                                {
                                    "0": "Gavin Hood",
                                    "1": "Helen Mirren, Aaron Paul, Alan Rickman, Barkhad Abdi"
                                },
                                {
                                    "0": "D.J. Caruso",
                                    "1": "Shia LaBeouf, Michelle Monaghan, Rosario Dawson,Michael Chiklis"
                                },
                                {
                                    "0": "James DeMonaco",
                                    "1": "Ethan Hawke, Lena Headey, Max Burkholder,Adelaide Kane"
                                },
                                {
                                    "0": "Rajkumar Hirani",
                                    "1": "Aamir Khan, Anushka Sharma, Sanjay Dutt,Boman Irani"
                                },
                                {
                                    "0": "Gavin Hood",
                                    "1": "Harrison Ford, Asa Butterfield, Hailee Steinfeld, Abigail Breslin"
                                },
                                {
                                    "0": "Steven Spielberg",
                                    "1": "Harrison Ford, Cate Blanchett, Shia LaBeouf,Karen Allen"
                                },
                                {
                                    "0": "Jake Schreier",
                                    "1": "Nat Wolff, Cara Delevingne, Austin Abrams, Justice Smith"
                                },
                                {
                                    "0": "Ben Wheatley",
                                    "1": "Tom Hiddleston, Jeremy Irons, Sienna Miller, Luke Evans"
                                },
                                {
                                    "0": "Marc Forster",
                                    "1": "Daniel Craig, Olga Kurylenko, Mathieu Amalric, Judi Dench"
                                },
                                {
                                    "0": "Walter Hill",
                                    "1": "Sigourney Weaver, Michelle Rodriguez, Tony Shalhoub,Anthony LaPaglia"
                                },
                                {
                                    "0": "Dean DeBlois",
                                    "1": "Jay Baruchel, Gerard Butler,Christopher Mintz-Plasse, Craig Ferguson"
                                },
                                {
                                    "0": "M. Night Shyamalan",
                                    "1": "Paul Giamatti, Bryce Dallas Howard, Jeffrey Wright, Bob Balaban"
                                },
                                {
                                    "0": "Darren Aronofsky",
                                    "1": "Hugh Jackman, Rachel Weisz, Sean Patrick Thomas, Ellen Burstyn"
                                },
                                {
                                    "0": "John Lasseter",
                                    "1": "Owen Wilson, Larry the Cable Guy,Michael Caine, Emily Mortimer"
                                },
                                {
                                    "0": "Rob Zombie",
                                    "1": "Malcolm McDowell, Richard Brake, Jeff Daniel Phillips,Sheri Moon Zombie"
                                },
                                {
                                    "0": "Tyler Shields",
                                    "1": "Abigail Breslin, Wes Bentley, Logan Huffman,Alexander Ludwig"
                                },
                                {
                                    "0": "Hisonni Johnson",
                                    "1": "Maddy Curley, John DeLuca, Nikki SooHoo, Drew Seeley"
                                },
                                {
                                    "0": "Matt Brown",
                                    "1": "Dev Patel, Jeremy Irons, Malcolm Sinclair, Raghuvir Joshi"
                                },
                                {
                                    "0": "Jaume Collet-Serra",
                                    "1": "Liam Neeson, Diane Kruger, January Jones,Aidan Quinn"
                                },
                                {
                                    "0": "Tarsem Singh",
                                    "1": "Ryan Reynolds, Natalie Martinez, Matthew Goode,Ben Kingsley"
                                },
                                {
                                    "0": "Bruce A. Evans",
                                    "1": "Kevin Costner, Demi Moore, William Hurt, Dane Cook"
                                },
                                {
                                    "0": "Adam Leon",
                                    "1": "Callum Turner, Grace Van Patten, Michal Vondel, Mike Birbiglia"
                                },
                                {
                                    "0": "Chris Evans",
                                    "1": "Chris Evans, Alice Eve, Emma Fitzpatrick, John Cullum"
                                },
                                {
                                    "0": "Paul Greengrass",
                                    "1": "Tom Hanks, Barkhad Abdi, Barkhad Abdirahman,Catherine Keener"
                                },
                                {
                                    "0": "Jim Sheridan",
                                    "1": "Rooney Mara, Eric Bana, Theo James, Aidan Turner"
                                },
                                {
                                    "0": "Stewart Hendler",
                                    "1": "Ben Winchell, Josh Brener, Maria Bello, Andy Garcia"
                                },
                                {
                                    "0": "Genndy Tartakovsky",
                                    "1": "Adam Sandler, Andy Samberg, Selena Gomez, Kevin James"
                                },
                                {
                                    "0": "Peter Berg",
                                    "1": "Will Smith, Charlize Theron, Jason Bateman, Jae Head"
                                },
                                {
                                    "0": "Jason Moore",
                                    "1": "Amy Poehler, Tina Fey, Maya Rudolph, Ike Barinholtz"
                                },
                                {
                                    "0": "Luc Besson",
                                    "1": "Robert De Niro, Michelle Pfeiffer, Dianna Agron, John D'Leo"
                                },
                                {
                                    "0": "Kevin Smith",
                                    "1": "Seth Rogen, Elizabeth Banks, Craig Robinson, Gerry Bednob"
                                },
                                {
                                    "0": "Claude Barras",
                                    "1": "Gaspard Schlatter, Sixtine Murat, Paulin Jaccoud,Michel Vuillermoz"
                                },
                                {
                                    "0": "Asger Leth",
                                    "1": "Sam Worthington, Elizabeth Banks, Jamie Bell, Mandy Gonzalez"
                                },
                                {
                                    "0": "Ivan Reitman",
                                    "1": "Natalie Portman, Ashton Kutcher, Kevin Kline, Cary Elwes"
                                },
                                {
                                    "0": "Werner Herzog",
                                    "1": "Christian Bale, Steve Zahn, Jeremy Davies, Zach Grenier"
                                },
                                {
                                    "0": "Pierre Coffin",
                                    "1": "Steve Carell, Kristen Wiig, Benjamin Bratt, Miranda Cosgrove"
                                },
                                {
                                    "0": "Scott Frank",
                                    "1": "Liam Neeson, Dan Stevens, David Harbour, Boyd Holbrook"
                                },
                                {
                                    "0": "Edgar Wright",
                                    "1": "Simon Pegg, Nick Frost, Martin Freeman, Rosamund Pike"
                                },
                                {
                                    "0": "Kevin Smith",
                                    "1": "Lily-Rose Depp, Harley Quinn Smith, Johnny Depp,Adam Brody"
                                },
                                {
                                    "0": "Martin McDonagh",
                                    "1": "Colin Farrell, Woody Harrelson, Sam Rockwell,Christopher Walken"
                                },
                                {
                                    "0": "Robert Zemeckis",
                                    "1": "Ray Winstone, Crispin Glover, Angelina Jolie,Robin Wright"
                                },
                                {
                                    "0": "Kenneth Branagh",
                                    "1": "Chris Pine, Kevin Costner, Keira Knightley,Kenneth Branagh"
                                },
                                {
                                    "0": "Mikael Håfström",
                                    "1": "John Cusack, Samuel L. Jackson, Mary McCormack, Paul Birchard"
                                },
                                {
                                    "0": "Rupert Wyatt",
                                    "1": "Mark Wahlberg, Jessica Lange, John Goodman, Brie Larson"
                                },
                                {
                                    "0": "Mike Newell",
                                    "1": "Jake Gyllenhaal, Gemma Arterton, Ben Kingsley,Alfred Molina"
                                },
                                {
                                    "0": "James Ponsoldt",
                                    "1": "Miles Teller, Shailene Woodley, Kyle Chandler,Jennifer Jason Leigh"
                                },
                                {
                                    "0": "Amma Asante",
                                    "1": "David Oyelowo, Rosamund Pike, Tom Felton, Jack Davenport"
                                },
                                {
                                    "0": "Mario Van Peebles",
                                    "1": "Nicolas Cage, Tom Sizemore, Thomas Jane,Matt Lanter"
                                },
                                {
                                    "0": "François Simard",
                                    "1": "Munro Chambers, Laurence Leboeuf, Michael Ironside, Edwin Wright"
                                },
                                {
                                    "0": "Andrés Muschietti",
                                    "1": "Jessica Chastain, Nikolaj Coster-Waldau, Megan Charpentier, Isabelle Nélisse"
                                },
                                {
                                    "0": "Jaume Collet-Serra",
                                    "1": "Vera Farmiga, Peter Sarsgaard, Isabelle Fuhrman, CCH Pounder"
                                },
                                {
                                    "0": "Woody Allen",
                                    "1": "Woody Allen, Penélope Cruz, Jesse Eisenberg, Ellen Page"
                                },
                                {
                                    "0": "Wes Anderson",
                                    "1": "George Clooney, Meryl Streep, Bill Murray, Jason Schwartzman"
                                },
                                {
                                    "0": "Spike Lee",
                                    "1": "Denzel Washington, Clive Owen, Jodie Foster,Christopher Plummer"
                                },
                                {
                                    "0": "John Moore",
                                    "1": "Pierce Brosnan, Jason Barry, Karen Moskow, Kai Ryssdal"
                                },
                                {
                                    "0": "Danny Boyle",
                                    "1": "James Franco, Amber Tamblyn, Kate Mara, Sean Bott"
                                },
                                {
                                    "0": "John R. Leonetti",
                                    "1": "Ward Horton, Annabelle Wallis, Alfre Woodard,Tony Amendola"
                                },
                                {
                                    "0": "John R. Leonetti",
                                    "1": "Katie Cassidy, Elizabeth Henstridge, Adam Campbell, Miles Fisher"
                                },
                                {
                                    "0": "Saul Dibb",
                                    "1": "Michelle Williams, Kristin Scott Thomas, Margot Robbie,Eric Godon"
                                },
                                {
                                    "0": "Terry Gilliam",
                                    "1": "Christopher Plummer, Lily Cole, Heath Ledger,Andrew Garfield"
                                },
                                {
                                    "0": "Stephen Sommers",
                                    "1": "Dennis Quaid, Channing Tatum, Marlon Wayans,Adewale Akinnuoye-Agbaje"
                                },
                                {
                                    "0": "Antonio Campos",
                                    "1": "Rebecca Hall, Michael C. Hall, Tracy Letts, Maria Dizzia"
                                },
                                {
                                    "0": "Dito Montiel",
                                    "1": "Shia LaBeouf, Jai Courtney, Gary Oldman, Kate Mara"
                                },
                                {
                                    "0": "Phil Claydon",
                                    "1": "Michael Vartan, Erin Moriarty, Nadine Velazquez,Ronnie Gene Blevins"
                                },
                                {
                                    "0": "Farren Blackburn",
                                    "1": "Naomi Watts, Charlie Heaton, Jacob Tremblay,Oliver Platt"
                                },
                                {
                                    "0": "Matthias Hoene",
                                    "1": "Mark Chao, Ni Ni, Dave Bautista, Sienna Guillory"
                                },
                                {
                                    "0": "Robert Rodriguez",
                                    "1": "Kurt Russell, Rose McGowan, Danny Trejo, Zoë Bell"
                                },
                                {
                                    "0": "Jason Friedberg",
                                    "1": "Carmen Electra, Vanessa Lachey,Nicole Parker, Matt Lanter"
                                },
                                {
                                    "0": "Sylvester Stallone",
                                    "1": "Sylvester Stallone, Antonio Tarver, Milo Ventimiglia, Burt Young"
                                },
                                {
                                    "0": "David Bowers",
                                    "1": "Zachary Gordon, Robert Capron, Devon Bostick,Steve Zahn"
                                },
                                {
                                    "0": "Cary Joji Fukunaga",
                                    "1": "Mia Wasikowska, Michael Fassbender, Jamie Bell, Su Elliot"
                                },
                                {
                                    "0": "Andy Tennant",
                                    "1": "Matthew McConaughey, Kate Hudson, Donald Sutherland, Alexis Dziena"
                                },
                                {
                                    "0": "Larry Charles",
                                    "1": "Sacha Baron Cohen, Anna Faris, John C. Reilly, Ben Kingsley"
                                },
                                {
                                    "0": "Erik Van Looy",
                                    "1": "Karl Urban, James Marsden, Wentworth Miller, Eric Stonestreet"
                                },
                                {
                                    "0": "Cristian Mungiu",
                                    "1": "Adrian Titieni, Maria-Victoria Dragus, Lia Bugnar,Malina Manovici"
                                },
                                {
                                    "0": "Dennis Dugan",
                                    "1": "Adam Sandler, John Turturro, Emmanuelle Chriqui,Nick Swardson"
                                },
                                {
                                    "0": "Gee Malik Linton",
                                    "1": "Ana de Armas, Keanu Reeves, Christopher McDonald, Mira Sorvino"
                                },
                                {
                                    "0": "Aisling Walsh",
                                    "1": "Ethan Hawke, Sally Hawkins, Kari Matchett, Zachary Bennett"
                                },
                                {
                                    "0": "Sean Anders",
                                    "1": "Jason Bateman, Jason Sudeikis, Charlie Day, Jennifer Aniston"
                                },
                                {
                                    "0": "Luca Guadagnino",
                                    "1": "Tilda Swinton, Matthias Schoenaerts, Ralph Fiennes, Dakota Johnson"
                                },
                                {
                                    "0": "Lars von Trier",
                                    "1": "Kirsten Dunst, Charlotte Gainsbourg, Kiefer Sutherland, Alexander Skarsgård"
                                },
                                {
                                    "0": "Ron Clements",
                                    "1": "Anika Noni Rose, Keith David, Oprah Winfrey, Bruno Campos"
                                },
                                {
                                    "0": "Tony Scott",
                                    "1": "Denzel Washington, Chris Pine, Rosario Dawson, Ethan Suplee"
                                },
                                {
                                    "0": "Robert Zemeckis",
                                    "1": "Denzel Washington, Nadine Velazquez, Don Cheadle, John Goodman"
                                },
                                {
                                    "0": "Tim Johnson",
                                    "1": "Jim Parsons, Rihanna, Steve Martin, Jennifer Lopez"
                                },
                                {
                                    "0": "Giuseppe Tornatore",
                                    "1": "Geoffrey Rush, Jim Sturgess, Sylvia Hoeks,Donald Sutherland"
                                },
                                {
                                    "0": "Nathan Morlando",
                                    "1": "Sophie Nélisse, Josh Wiggins, Joe Cobden, Bill Paxton"
                                },
                                {
                                    "0": "Brian Helgeland",
                                    "1": "Chadwick Boseman, T.R. Knight, Harrison Ford,Nicole Beharie"
                                },
                                {
                                    "0": "Robert Luketic",
                                    "1": "Jim Sturgess, Kate Bosworth, Kevin Spacey, Aaron Yoo"
                                },
                                {
                                    "0": "John Carney",
                                    "1": "Keira Knightley, Mark Ruffalo, Adam Levine, Hailee Steinfeld"
                                },
                                {
                                    "0": "Scott Cooper",
                                    "1": "Christian Bale, Casey Affleck, Zoe Saldana, Woody Harrelson"
                                },
                                {
                                    "0": "Woody Allen",
                                    "1": "Rebecca Hall, Scarlett Johansson, Javier Bardem,Christopher Evan Welch"
                                },
                                {
                                    "0": "Mark Osborne",
                                    "1": "Jack Black, Ian McShane,Angelina Jolie, Dustin Hoffman"
                                },
                                {
                                    "0": "Malcolm D. Lee",
                                    "1": "Ice Cube, Regina Hall, Anthony Anderson, Eve"
                                },
                                {
                                    "0": "McG",
                                    "1": "Christian Bale, Sam Worthington, Anton Yelchin, Moon Bloodgood"
                                },
                                {
                                    "0": "Richard LaGravenese",
                                    "1": "Hilary Swank, Imelda Staunton, Patrick Dempsey, Scott Glenn"
                                },
                                {
                                    "0": "Alexandre Aja",
                                    "1": "Ted Levine, Kathleen Quinlan, Dan Byrd, Emilie de Ravin"
                                },
                                {
                                    "0": "Clint Eastwood",
                                    "1": "Angelina Jolie, Colm Feore, Amy Ryan, Gattlin Griffith"
                                },
                                {
                                    "0": "Allen Coulter",
                                    "1": "Robert Pattinson, Emilie de Ravin, Caitlyn Rund,Moisés Acevedo"
                                },
                                {
                                    "0": "Naoko Yamada",
                                    "1": "Miyu Irino, Saori Hayami, Aoi Yuki, Kenshô Ono"
                                },
                                {
                                    "0": "Miguel Arteta",
                                    "1": "Steve Carell, Jennifer Garner, Ed Oxenbould, Dylan Minnette"
                                },
                                {
                                    "0": "Steven Knight",
                                    "1": "Tom Hardy, Olivia Colman, Ruth Wilson, Andrew Scott"
                                },
                                {
                                    "0": "Alexandre Aja",
                                    "1": "Jamie Dornan, Aiden Longworth, Sarah Gadon,Aaron Paul"
                                },
                                {
                                    "0": "Alexandre Aja",
                                    "1": "Daniel Radcliffe, Juno Temple, Max Minghella, Joe Anderson"
                                },
                                {
                                    "0": "James Schamus",
                                    "1": "Logan Lerman, Sarah Gadon, Tijuana Ricks, Sue Dahlman"
                                },
                                {
                                    "0": "Kyle Patrick Alvarez",
                                    "1": "Ezra Miller, Tye Sheridan, Billy Crudup, Olivia Thirlby"
                                },
                                {
                                    "0": "David Bowers",
                                    "1": "Zachary Gordon, Devon Bostick, Robert Capron,Rachael Harris"
                                },
                                {
                                    "0": "J.J. Abrams",
                                    "1": "Tom Cruise, Michelle Monaghan, Ving Rhames, Philip Seymour Hoffman"
                                },
                                {
                                    "0": "Hannes Holm",
                                    "1": "Rolf Lassgård, Bahar Pars, Filip Berg, Ida Engvoll"
                                },
                                {
                                    "0": "James Wong",
                                    "1": "Justin Chatwin, James Marsters, Yun-Fat Chow, Emmy Rossum"
                                },
                                {
                                    "0": "Dan Bradley",
                                    "1": "Chris Hemsworth, Isabel Lucas, Josh Hutcherson, Josh Peck"
                                },
                                {
                                    "0": "Lone Scherfig",
                                    "1": "Anne Hathaway, Jim Sturgess, Patricia Clarkson,Tom Mison"
                                },
                                {
                                    "0": "Greg Berlanti",
                                    "1": "Katherine Heigl, Josh Duhamel, Josh Lucas, Alexis Clagett"
                                },
                                {
                                    "0": "Juan Carlos Fresnadillo",
                                    "1": "Jeremy Renner, Rose Byrne, Robert Carlyle, Harold Perrineau"
                                },
                                {
                                    "0": "Jonathan Levine",
                                    "1": "Nicholas Hoult, Teresa Palmer, John Malkovich,Analeigh Tipton"
                                },
                                {
                                    "0": "Woody Allen",
                                    "1": "Cate Blanchett, Alec Baldwin, Peter Sarsgaard, Sally Hawkins"
                                },
                                {
                                    "0": "Jon M. Chu",
                                    "1": "Dwayne Johnson, Channing Tatum, Adrianne Palicki,Byung-hun Lee"
                                },
                                {
                                    "0": "Jonathan Liebesman",
                                    "1": "Sam Worthington, Liam Neeson, Rosamund Pike, Ralph Fiennes"
                                },
                                {
                                    "0": "Hideaki Anno",
                                    "1": "Hiroki Hasegawa, Yutaka Takenouchi,Satomi Ishihara, Ren Ôsugi"
                                },
                                {
                                    "0": "John Lee Hancock",
                                    "1": "Emma Thompson, Tom Hanks, Annie Rose Buckley, Colin Farrell"
                                },
                                {
                                    "0": "Wally Pfister",
                                    "1": "Johnny Depp, Rebecca Hall, Morgan Freeman, Cillian Murphy"
                                },
                                {
                                    "0": "Carlos Saldanha",
                                    "1": "Jesse Eisenberg, Anne Hathaway, George Lopez,Karen Disher"
                                },
                                {
                                    "0": "Drake Doremus",
                                    "1": "Nicholas Hoult, Kristen Stewart, Vernetta Lopez,Scott Lawrence"
                                },
                                {
                                    "0": "Alejandro González Iñárritu",
                                    "1": "Brad Pitt, Cate Blanchett, Gael García Bernal, Mohamed Akhzam"
                                },
                                {
                                    "0": "Terrence Malick",
                                    "1": "Brad Pitt, Sean Penn, Jessica Chastain, Hunter McCracken"
                                },
                                {
                                    "0": "Scott Hicks",
                                    "1": "Zac Efron, Taylor Schilling, Blythe Danner, Riley Thomas Stewart"
                                },
                                {
                                    "0": "Alexandre Aja",
                                    "1": "Elisabeth Shue, Jerry O'Connell, Richard Dreyfuss,Ving Rhames"
                                },
                                {
                                    "0": "Jonathan Levine",
                                    "1": "Joseph Gordon-Levitt, Seth Rogen, Anna Kendrick, Bryce Dallas Howard"
                                },
                                {
                                    "0": "Femi Oyeniran",
                                    "1": "Dylan Duffus, Scorcher,Shone Romulus, Jade Asha"
                                },
                                {
                                    "0": "Judd Apatow",
                                    "1": "Paul Rudd, Leslie Mann, Maude Apatow, Iris Apatow"
                                },
                                {
                                    "0": "Shawn Levy",
                                    "1": "Hugh Jackman, Evangeline Lilly, Dakota Goyo,Anthony Mackie"
                                },
                                {
                                    "0": "Michael Patrick King",
                                    "1": "Sarah Jessica Parker, Kim Cattrall, Cynthia Nixon, Kristin Davis"
                                },
                                {
                                    "0": "Sylvester Stallone",
                                    "1": "Sylvester Stallone, Julie Benz, Matthew Marsden, Graham McTavish"
                                },
                                {
                                    "0": "Robert Rodriguez",
                                    "1": "Rose McGowan, Freddy Rodríguez, Josh Brolin,Marley Shelton"
                                },
                                {
                                    "0": "Peter Landesman",
                                    "1": "Will Smith, Alec Baldwin, Albert Brooks, David Morse"
                                },
                                {
                                    "0": "Tarsem Singh",
                                    "1": "Lee Pace, Catinca Untaru, Justine Waddell, Kim Uylenbroek"
                                },
                                {
                                    "0": "Robert Luketic",
                                    "1": "Katherine Heigl, Gerard Butler, Bree Turner, Eric Winter"
                                },
                                {
                                    "0": "Gary Winick",
                                    "1": "Kate Hudson, Anne Hathaway, Candice Bergen, Bryan Greenberg"
                                },
                                {
                                    "0": "Leslye Headland",
                                    "1": "Jason Sudeikis, Alison Brie, Jordan Carlos,Margarita Levieva"
                                },
                                {
                                    "0": "David R. Ellis",
                                    "1": "Samuel L. Jackson, Julianna Margulies, Nathan Phillips, Rachel Blanchard"
                                },
                                {
                                    "0": "Michael Dowse",
                                    "1": "Daniel Radcliffe, Zoe Kazan, Megan Park, Adam Driver"
                                },
                                {
                                    "0": "Dean DeBlois",
                                    "1": "Jay Baruchel, Cate Blanchett, Gerard Butler, Craig Ferguson"
                                },
                                {
                                    "0": "José Padilha",
                                    "1": "Joel Kinnaman, Gary Oldman, Michael Keaton, Abbie Cornish"
                                },
                                {
                                    "0": "James Franco",
                                    "1": "Nat Wolff, James Franco, Vincent D'Onofrio, Selena Gomez"
                                },
                                {
                                    "0": "Michael Showalter",
                                    "1": "Sally Field, Max Greenfield, Tyne Daly, Wendi McLendon-Covey"
                                },
                                {
                                    "0": "Steven Soderbergh",
                                    "1": "George Clooney, Brad Pitt, Matt Damon,Michael Mantell"
                                },
                                {
                                    "0": "James Gunn",
                                    "1": "Nathan Fillion, Elizabeth Banks, Michael Rooker, Don Thompson"
                                },
                                {
                                    "0": "Steven Soderbergh",
                                    "1": "Matt Damon, Kate Winslet, Jude Law, Gwyneth Paltrow"
                                },
                                {
                                    "0": "Matteo Garrone",
                                    "1": "Salma Hayek, Vincent Cassel, Toby Jones, John C. Reilly"
                                },
                                {
                                    "0": "Oz Perkins",
                                    "1": "Ruth Wilson, Paula Prentiss, Lucy Boynton, Bob Balaban"
                                },
                                {
                                    "0": "Gabor Csupo",
                                    "1": "Josh Hutcherson, AnnaSophia Robb, Zooey Deschanel, Robert Patrick"
                                },
                                {
                                    "0": "James Ward Byrkit",
                                    "1": "Emily Baldoni, Maury Sterling, Nicholas Brendon, Elizabeth Gracen"
                                },
                                {
                                    "0": "George Tillman Jr.",
                                    "1": "Jamal Woolard, Anthony Mackie, Derek Luke,Momo Dione"
                                },
                                {
                                    "0": "Hong-jin Na",
                                    "1": "Jun Kunimura, Jung-min Hwang, Do-won Kwak, Woo-hee Chun"
                                },
                                {
                                    "0": "Simon West",
                                    "1": "Sylvester Stallone, Liam Hemsworth, Randy Couture,Jean-Claude Van Damme"
                                },
                                {
                                    "0": "Gregory Wilson",
                                    "1": "William Atherton, Blythe Auffarth, Blanche Baker,Kevin Chamberlin"
                                },
                                {
                                    "0": "Tom Tykwer",
                                    "1": "Ben Whishaw, Dustin Hoffman, Alan Rickman,Francesc Albiol"
                                },
                                {
                                    "0": "Chris Weitz",
                                    "1": "Nicole Kidman, Daniel Craig, Dakota Blue Richards, Ben Walker"
                                },
                                {
                                    "0": "Neil Marshall",
                                    "1": "Michael Fassbender, Dominic West, Olga Kurylenko,Andreas Wisniewski"
                                },
                                {
                                    "0": "Christopher Landon",
                                    "1": "Tye Sheridan, Logan Miller, Joey Morgan,Sarah Dumont"
                                },
                                {
                                    "0": "Burr Steers",
                                    "1": "Zac Efron, Matthew Perry, Leslie Mann, Thomas Lennon"
                                },
                                {
                                    "0": "John Erick Dowdle",
                                    "1": "Lake Bell, Pierce Brosnan, Owen Wilson,Chatchawai Kamonsakpitak"
                                },
                                {
                                    "0": "Bryan Singer",
                                    "1": "Brandon Routh, Kevin Spacey, Kate Bosworth, James Marsden"
                                },
                                {
                                    "0": "Bill Condon",
                                    "1": "Kristen Stewart, Robert Pattinson, Taylor Lautner, Gil Birmingham"
                                },
                                {
                                    "0": "Lee Daniels",
                                    "1": "Gabourey Sidibe, Mo'Nique, Paula Patton, Mariah Carey"
                                },
                                {
                                    "0": "Gus Van Sant",
                                    "1": "Matthew McConaughey, Naomi Watts, Ken Watanabe,Ryoko Seta"
                                },
                                {
                                    "0": "Chris McCoy",
                                    "1": "Zoey Deutch, Nicholas Braun, Mateo Arias, Israel Broussard"
                                },
                                {
                                    "0": "Paul Thomas Anderson",
                                    "1": "Philip Seymour Hoffman, Joaquin Phoenix,Amy Adams, Jesse Plemons"
                                },
                                {
                                    "0": "Craig Brewer",
                                    "1": "Kenny Wormald, Julianne Hough, Dennis Quaid,Andie MacDowell"
                                },
                                {
                                    "0": "R.J. Cutler",
                                    "1": "Chloë Grace Moretz, Mireille Enos, Jamie Blackley,Joshua Leonard"
                                },
                                {
                                    "0": "Ido Fluk",
                                    "1": "Dan Stevens, Malin Akerman, Oliver Platt, Kerry Bishé"
                                },
                                {
                                    "0": "Christopher Smith",
                                    "1": "Tye Sheridan, Emory Cohen, Bel Powley,Stephen Moyer"
                                },
                                {
                                    "0": "Anna Biller",
                                    "1": "Samantha Robinson, Jeffrey Vincent Parise, Laura Waddell, Gian Keys"
                                },
                                {
                                    "0": "Adam McKay",
                                    "1": "Will Ferrell, John C. Reilly, Sacha Baron Cohen, Gary Cole"
                                },
                                {
                                    "0": "Tom Six",
                                    "1": "Dieter Laser, Ashley C. Williams, Ashlynn Yennie, Akihiro Kitamura"
                                },
                                {
                                    "0": "James Gunn",
                                    "1": "Rainn Wilson, Ellen Page, Liv Tyler, Kevin Bacon"
                                },
                                {
                                    "0": "Richie Smyth",
                                    "1": "Jamie Dornan, Mark Strong, Jason O'Mara, Michael McElhatton"
                                },
                                {
                                    "0": "Jason Reitman",
                                    "1": "George Clooney, Vera Farmiga, Anna Kendrick,Jason Bateman"
                                },
                                {
                                    "0": "Ryûhei Kitamura",
                                    "1": "Vinnie Jones, Bradley Cooper, Leslie Bibb, Brooke Shields"
                                },
                                {
                                    "0": "David Slade",
                                    "1": "Kristen Stewart, Robert Pattinson, Taylor Lautner,Xavier Samuel"
                                },
                                {
                                    "0": "Greg Kwedar",
                                    "1": "Johnny Simmons, Gabriel Luna, Clifton Collins Jr.,David Acord"
                                },
                                {
                                    "0": "Mark Mylod",
                                    "1": "Anna Faris, Chris Evans, Ari Graynor, Blythe Danner"
                                },
                                {
                                    "0": "David Twohy",
                                    "1": "Vin Diesel, Karl Urban, Katee Sackhoff, Jordi Mollà"
                                },
                                {
                                    "0": "Christopher Smith",
                                    "1": "Melissa George, Joshua McIvor, Jack Taylor,Michael Dorman"
                                },
                                {
                                    "0": "Lee Daniels",
                                    "1": "Forest Whitaker, Oprah Winfrey, John Cusack, Jane Fonda"
                                },
                                {
                                    "0": "Justin Kelly",
                                    "1": "Garrett Clayton, Christian Slater, Molly Ringwald,James Kelley"
                                },
                                {
                                    "0": "M. Night Shyamalan",
                                    "1": "Jaden Smith, David Denman, Will Smith,Sophie Okonedo"
                                },
                                {
                                    "0": "Justin Tipping",
                                    "1": "Jahking Guillory, Christopher Jordan Wallace,Christopher Meyer, Kofi Siriboe"
                                },
                                {
                                    "0": "Alfonso Gomez-Rejon",
                                    "1": "Thomas Mann, RJ Cyler, Olivia Cooke, Nick Offerman"
                                },
                                {
                                    "0": "Alexander Payne",
                                    "1": "George Clooney, Shailene Woodley, Amara Miller, Nick Krause"
                                },
                                {
                                    "0": "Michael Patrick King",
                                    "1": "Sarah Jessica Parker, Kim Cattrall, Kristin Davis, Cynthia Nixon"
                                },
                                {
                                    "0": "Jordan Vogt-Roberts",
                                    "1": "Nick Robinson, Gabriel Basso, Moises Arias,Nick Offerman"
                                },
                                {
                                    "0": "Paul W.S. Anderson",
                                    "1": "Jason Statham, Joan Allen, Tyrese Gibson, Ian McShane"
                                },
                                {
                                    "0": "Tom Gormican",
                                    "1": "Zac Efron, Michael B. Jordan, Miles Teller, Imogen Poots"
                                },
                                {
                                    "0": "Scott Stewart",
                                    "1": "Paul Bettany, Dennis Quaid, Charles S. Dutton, Lucas Black"
                                },
                                {
                                    "0": "David Ayer",
                                    "1": "Jake Gyllenhaal, Michael Peña, Anna Kendrick, America Ferrera"
                                },
                                {
                                    "0": "McG",
                                    "1": "Kevin Costner, Hailee Steinfeld, Connie Nielsen, Amber Heard"
                                },
                                {
                                    "0": "Paul McGuigan",
                                    "1": "Josh Hartnett, Ben Kingsley, Morgan Freeman, Lucy Liu"
                                },
                                {
                                    "0": "Danny Boyle",
                                    "1": "James McAvoy, Rosario Dawson, Vincent Cassel,Danny Sapani"
                                },
                                {
                                    "0": "Patricia Rozema",
                                    "1": "Ellen Page, Evan Rachel Wood, Max Minghella,Callum Keith Rennie"
                                },
                                {
                                    "0": "Justin Chadwick",
                                    "1": "Natalie Portman, Scarlett Johansson, Eric Bana,Jim Sturgess"
                                },
                                {
                                    "0": "Steven R. Monroe",
                                    "1": "Sarah Butler, Jeff Branson, Andrew Howard,Daniel Franzese"
                                },
                                {
                                    "0": "James Lapine",
                                    "1": "Viola Davis, Hayden Panettiere, Catalina Sandino Moreno, Ellen Burstyn"
                                },
                                {
                                    "0": "David Lynch",
                                    "1": "Laura Dern, Jeremy Irons, Justin Theroux, Karolina Gruszka"
                                },
                                {
                                    "0": "Jérôme Salle",
                                    "1": "Lambert Wilson, Pierre Niney, Audrey Tautou,Laurent Lucas"
                                },
                                {
                                    "0": "Robert Zemeckis",
                                    "1": "Joseph Gordon-Levitt, Charlotte Le Bon,Guillaume Baillargeon, Émilie Leclerc"
                                },
                                {
                                    "0": "Micheal Bafaro",
                                    "1": "Anna Hutchison, Andrea Whitburn, Jennifer Koenig,Michael Dickson"
                                },
                                {
                                    "0": "Gore Verbinski",
                                    "1": "Johnny Depp, Armie Hammer, William Fichtner,Tom Wilkinson"
                                },
                                {
                                    "0": "John Luessenhop",
                                    "1": "Alexandra Daddario, Tania Raymonde, Scott Eastwood, Trey Songz"
                                },
                                {
                                    "0": "D.J. Caruso",
                                    "1": "Shia LaBeouf, David Morse, Carrie-Anne Moss, Sarah Roemer"
                                },
                                {
                                    "0": "Adam Shankman",
                                    "1": "Julianne Hough, Diego Boneta, Tom Cruise, Alec Baldwin"
                                },
                                {
                                    "0": "Wes Craven",
                                    "1": "Neve Campbell, Courteney Cox, David Arquette, Lucy Hale"
                                },
                                {
                                    "0": "Mira Nair",
                                    "1": "Madina Nalwanga, David Oyelowo, Lupita Nyong'o, Martin Kabanza"
                                },
                                {
                                    "0": "Kirk Jones",
                                    "1": "Nia Vardalos, John Corbett, Michael Constantine, Lainie Kazan"
                                },
                                {
                                    "0": "Gilles Paquet-Brenner",
                                    "1": "Charlize Theron, Nicholas Hoult, Christina Hendricks, Chloë Grace Moretz"
                                },
                                {
                                    "0": "Lisa Addario",
                                    "1": "Jason Biggs, Janet Montgomery,Ashley Tisdale, Bria L. Murphy"
                                },
                                {
                                    "0": "Xavier Dolan",
                                    "1": "Nathalie Baye, Vincent Cassel, Marion Cotillard, Léa Seydoux"
                                },
                                {
                                    "0": "Pedro Almodóvar",
                                    "1": "Antonio Banderas, Elena Anaya, Jan Cornet,Marisa Paredes"
                                },
                                {
                                    "0": "Patricia Riggen",
                                    "1": "Jennifer Garner, Kylie Rogers, Martin Henderson,Brighton Sharbino"
                                },
                                {
                                    "0": "Will Gluck",
                                    "1": "Quvenzhané Wallis, Cameron Diaz, Jamie Foxx, Rose Byrne"
                                },
                                {
                                    "0": "Julie Taymor",
                                    "1": "Evan Rachel Wood, Jim Sturgess, Joe Anderson, Dana Fuchs"
                                },
                                {
                                    "0": "Luke Greenfield",
                                    "1": "Jake Johnson, Damon Wayans Jr., Rob Riggle, Nina Dobrev"
                                },
                                {
                                    "0": "Boaz Yakin",
                                    "1": "Thomas Haden Church, Josh Wiggins, Luke Kleintank,Lauren Graham"
                                },
                                {
                                    "0": "David Gordon Green",
                                    "1": "Danny McBride, Natalie Portman, James Franco, Rasmus Hardiker"
                                },
                                {
                                    "0": "Steven Quale",
                                    "1": "Nicholas D'Agosto, Emma Bell, Arlen Escarpeta, Miles Fisher"
                                },
                                {
                                    "0": "Shana Feste",
                                    "1": "Gabriella Wilde, Alex Pettyfer, Bruce Greenwood,Robert Patrick"
                                },
                                {
                                    "0": "Pascal Laugier",
                                    "1": "Morjana Alaoui, Mylène Jampanoï, Catherine Bégin,Robert Toupin"
                                },
                                {
                                    "0": "Ava DuVernay",
                                    "1": "David Oyelowo, Carmen Ejogo, Tim Roth, Lorraine Toussaint"
                                },
                                {
                                    "0": "Patrick Tatopoulos",
                                    "1": "Rhona Mitra, Michael Sheen, Bill Nighy, Steven Mackintosh"
                                },
                                {
                                    "0": "Aamir Khan",
                                    "1": "Darsheel Safary, Aamir Khan, Tanay Chheda, Sachet Engineer"
                                },
                                {
                                    "0": "Michael Dowse",
                                    "1": "Topher Grace, Anna Faris, Dan Fogler, Teresa Palmer"
                                },
                                {
                                    "0": "Paul W.S. Anderson",
                                    "1": "Milla Jovovich, Ali Larter, Wentworth Miller,Kim Coates"
                                },
                                {
                                    "0": "Nima Nourizadeh",
                                    "1": "Thomas Mann, Oliver Cooper, Jonathan Daniel Brown, Dax Flame"
                                },
                                {
                                    "0": "Billy Ray",
                                    "1": "Chiwetel Ejiofor, Nicole Kidman, Julia Roberts, Dean Norris"
                                },
                                {
                                    "0": "Eli Roth",
                                    "1": "Lauren German, Heather Matarazzo, Bijou Phillips, Roger Bart"
                                },
                                {
                                    "0": "Jon M. Chu",
                                    "1": "Robert Hoffman, Briana Evigan, Cassie Ventura, Adam G. Sevani"
                                },
                                {
                                    "0": "Scot Armstrong",
                                    "1": "Adam Pally, T.J. Miller, Thomas Middleditch,Shannon Woodward"
                                },
                                {
                                    "0": "Barry Sonnenfeld",
                                    "1": "Kevin Spacey, Jennifer Garner, Robbie Amell,Cheryl Hines"
                                }
                            ]
                        },
                        "text/html": "<table><tr><th>director</th><th>actors</th></tr><tr><td>James Gunn</td><td>Chris Pratt, Vin Diesel, Bradley Cooper, Zoe Saldana</td></tr><tr><td>Ridley Scott</td><td>Noomi Rapace, Logan Marshall-Green, Michael Fassbender, Charlize Theron</td></tr><tr><td>M. Night Shyamalan</td><td>James McAvoy, Anya Taylor-Joy, Haley Lu Richardson, Jessica Sula</td></tr><tr><td>Christophe Lourdelet</td><td>Matthew McConaughey,Reese Witherspoon, Seth MacFarlane, Scarlett Johansson</td></tr><tr><td>David Ayer</td><td>Will Smith, Jared Leto, Margot Robbie, Viola Davis</td></tr><tr><td>Yimou Zhang</td><td>Matt Damon, Tian Jing, Willem Dafoe, Andy Lau</td></tr><tr><td>Damien Chazelle</td><td>Ryan Gosling, Emma Stone, Rosemarie DeWitt, J.K. Simmons</td></tr><tr><td>Sean Foley</td><td>Essie Davis, Andrea Riseborough, Julian Barratt,Kenneth Branagh</td></tr><tr><td>James Gray</td><td>Charlie Hunnam, Robert Pattinson, Sienna Miller, Tom Holland</td></tr><tr><td>Morten Tyldum</td><td>Jennifer Lawrence, Chris Pratt, Michael Sheen,Laurence Fishburne</td></tr><tr><td>David Yates</td><td>Eddie Redmayne, Katherine Waterston, Alison Sudol,Dan Fogler</td></tr><tr><td>Theodore Melfi</td><td>Taraji P. Henson, Octavia Spencer, Janelle Monáe,Kevin Costner</td></tr><tr><td>Gareth Edwards</td><td>Felicity Jones, Diego Luna, Alan Tudyk, Donnie Yen</td></tr><tr><td>Ron Clements</td><td>Auli'i Cravalho, Dwayne Johnson, Rachel House, Temuera Morrison</td></tr><tr><td>Nacho Vigalondo</td><td>Anne Hathaway, Jason Sudeikis, Austin Stowell,Tim Blake Nelson</td></tr><tr><td>Chris Renaud</td><td>Louis C.K., Eric Stonestreet, Kevin Hart, Lake Bell</td></tr><tr><td>Mel Gibson</td><td>Andrew Garfield, Sam Worthington, Luke Bracey,Teresa Palmer</td></tr><tr><td>Paul Greengrass</td><td>Matt Damon, Tommy Lee Jones, Alicia Vikander,Vincent Cassel</td></tr><tr><td>Garth Davis</td><td>Dev Patel, Nicole Kidman, Rooney Mara, Sunny Pawar</td></tr><tr><td>Denis Villeneuve</td><td>Amy Adams, Jeremy Renner, Forest Whitaker,Michael Stuhlbarg</td></tr><tr><td>Stephen Gaghan</td><td>Matthew McConaughey, Edgar Ramírez, Bryce Dallas Howard, Corey Stoll</td></tr><tr><td>Kenneth Lonergan</td><td>Casey Affleck, Michelle Williams, Kyle Chandler,Lucas Hedges</td></tr><tr><td>Ben Young</td><td>Emma Booth, Ashleigh Cummings, Stephen Curry,Susie Porter</td></tr><tr><td>Walt Dohrn</td><td>Anna Kendrick, Justin Timberlake,Zooey Deschanel, Christopher Mintz-Plasse</td></tr><tr><td>Roland Emmerich</td><td>Liam Hemsworth, Jeff Goldblum, Bill Pullman,Maika Monroe</td></tr><tr><td>Dominique Abel</td><td>Fiona Gordon, Dominique Abel,Emmanuelle Riva, Pierre Richard</td></tr><tr><td>S.S. Rajamouli</td><td>Prabhas, Rana Daggubati, Anushka Shetty,Tamannaah Bhatia</td></tr><tr><td>Phillip Guzman</td><td>Jocelin Donahue, Jesse Bradford, Jesse Borrego,Lori Petty</td></tr><tr><td>Jon Lucas</td><td>Mila Kunis, Kathryn Hahn, Kristen Bell,Christina Applegate</td></tr><tr><td>Justin Kurzel</td><td>Michael Fassbender, Marion Cotillard, Jeremy Irons,Brendan Gleeson</td></tr><tr><td>John Hamburg</td><td>Zoey Deutch, James Franco, Tangie Ambrose,Cedric the Entertainer</td></tr><tr><td>Tom Ford</td><td>Amy Adams, Jake Gyllenhaal, Michael Shannon, Aaron Taylor-Johnson</td></tr><tr><td>Bryan Singer</td><td>James McAvoy, Michael Fassbender, Jennifer Lawrence, Nicholas Hoult</td></tr><tr><td>Tim Miller</td><td>Ryan Reynolds, Morena Baccarin, T.J. Miller, Ed Skrein</td></tr><tr><td>Paul W.S. Anderson</td><td>Milla Jovovich, Iain Glen, Ali Larter, Shawn Roberts</td></tr><tr><td>Anthony Russo</td><td>Chris Evans, Robert Downey Jr.,Scarlett Johansson, Sebastian Stan</td></tr><tr><td>Christopher Nolan</td><td>Matthew McConaughey, Anne Hathaway, Jessica Chastain, Mackenzie Foy</td></tr><tr><td>Scott Derrickson</td><td>Benedict Cumberbatch, Chiwetel Ejiofor, Rachel McAdams, Benedict Wong</td></tr><tr><td>Antoine Fuqua</td><td>Denzel Washington, Chris Pratt, Ethan Hawke,Vincent D'Onofrio</td></tr><tr><td>Patrick Read Johnson</td><td>John Francis Daley, Austin Pendleton, Colleen Camp, Neil Flynn</td></tr><tr><td>Greg Tiernan</td><td>Seth Rogen, Kristen Wiig, Jonah Hill, Alistair Abell</td></tr><tr><td>Barry Jenkins</td><td>Mahershala Ali, Shariff Earp, Duan Sanderson, Alex R. Hibbert</td></tr><tr><td>Shawn Burkett</td><td>Brittany Blanton, Ayse Howard, Roman Jossart,Nadia White</td></tr><tr><td>John Lee Hancock</td><td>Michael Keaton, Nick Offerman, John Carroll Lynch, Linda Cardellini</td></tr><tr><td>Ricardo de Montreuil</td><td>Gabriel Chavarria, Demián Bichir, Theo Rossi,Tony Revolori</td></tr><tr><td>Rob Marshall</td><td>Johnny Depp, Penélope Cruz, Ian McShane, Geoffrey Rush</td></tr><tr><td>John Madden</td><td>Jessica Chastain, Mark Strong, Gugu Mbatha-Raw,Michael Stuhlbarg</td></tr><tr><td>Scott Hicks</td><td>Hermione Corfield, Addison Timlin, Joely Richardson,Jeremy Irvine</td></tr><tr><td>Justin Lin</td><td>Chris Pine, Zachary Quinto, Karl Urban, Zoe Saldana</td></tr><tr><td>Sean Penn</td><td>Charlize Theron, Javier Bardem, Adèle Exarchopoulos,Jared Harris</td></tr><tr><td>J.J. Abrams</td><td>Daisy Ridley, John Boyega, Oscar Isaac, Domhnall Gleeson</td></tr><tr><td>Anna Foerster</td><td>Kate Beckinsale, Theo James, Tobias Menzies, Lara Pulver</td></tr><tr><td>Garry Marshall</td><td>Jennifer Aniston, Kate Hudson, Julia Roberts, Jason Sudeikis</td></tr><tr><td>Chad Stahelski</td><td>Keanu Reeves, Michael Nyqvist, Alfie Allen, Willem Dafoe</td></tr><tr><td>Christopher Nolan</td><td>Christian Bale, Heath Ledger, Aaron Eckhart,Michael Caine</td></tr><tr><td>Martin Scorsese</td><td>Andrew Garfield, Adam Driver, Liam Neeson,Tadanobu Asano</td></tr><tr><td>Fede Alvarez</td><td>Stephen Lang, Jane Levy, Dylan Minnette, Daniel Zovatto</td></tr><tr><td>Thea Sharrock</td><td>Emilia Clarke, Sam Claflin, Janet McTeer, Charles Dance</td></tr><tr><td>Lone Scherfig</td><td>Gemma Arterton, Sam Claflin, Bill Nighy, Jack Huston</td></tr><tr><td>Clint Eastwood</td><td>Tom Hanks, Aaron Eckhart, Laura Linney, Valerie Mahaffey</td></tr><tr><td>Zack Snyder</td><td>Ben Affleck, Henry Cavill, Amy Adams, Jesse Eisenberg</td></tr><tr><td>André Øvredal</td><td>Brian Cox, Emile Hirsch, Ophelia Lovibond, Michael McElhatton</td></tr><tr><td>Tate Taylor</td><td>Emily Blunt, Haley Bennett, Rebecca Ferguson, Justin Theroux</td></tr><tr><td>Sam Taylor-Johnson</td><td>Dakota Johnson, Jamie Dornan, Jennifer Ehle,Eloise Mumford</td></tr><tr><td>Christopher Nolan</td><td>Christian Bale, Hugh Jackman, Scarlett Johansson, Michael Caine</td></tr><tr><td>Matthew Vaughn</td><td>Colin Firth, Taron Egerton, Samuel L. Jackson,Michael Caine</td></tr><tr><td>Peter Berg</td><td>Mark Wahlberg, Michelle Monaghan, J.K. Simmons, John Goodman</td></tr><tr><td>George Miller</td><td>Tom Hardy, Charlize Theron, Nicholas Hoult, Zoë Kravitz</td></tr><tr><td>Robin Swicord</td><td>Bryan Cranston, Jennifer Garner, Beverly D'Angelo,Jason O'Mara</td></tr><tr><td>Peter Berg</td><td>Mark Wahlberg, Kurt Russell, Douglas M. Griffin, James DuMont</td></tr><tr><td>Terry George</td><td>Oscar Isaac, Charlotte Le Bon, Christian Bale, Daniel Giménez Cacho</td></tr><tr><td>Robert Zemeckis</td><td>Brad Pitt, Marion Cotillard, Jared Harris, Vincent Ebrahim</td></tr><tr><td>J.A. Bayona</td><td>Lewis MacDougall, Sigourney Weaver, Felicity Jones,Toby Kebbell</td></tr><tr><td>David Frankel</td><td>Will Smith, Edward Norton, Kate Winslet, Michael Peña</td></tr><tr><td>Byron Howard</td><td>Ginnifer Goodwin, Jason Bateman, Idris Elba, Jenny Slate</td></tr><tr><td>Gore Verbinski</td><td>Johnny Depp, Orlando Bloom, Keira Knightley,Geoffrey Rush</td></tr><tr><td>Joss Whedon</td><td>Robert Downey Jr., Chris Evans, Scarlett Johansson,Jeremy Renner</td></tr><tr><td>Quentin Tarantino</td><td>Brad Pitt, Diane Kruger, Eli Roth,Mélanie Laurent</td></tr><tr><td>Gore Verbinski</td><td>Johnny Depp, Orlando Bloom, Keira Knightley, Jack Davenport</td></tr><tr><td>Paul Feig</td><td>Melissa McCarthy, Kristen Wiig, Kate McKinnon, Leslie Jones</td></tr><tr><td>Christopher Nolan</td><td>Leonardo DiCaprio, Joseph Gordon-Levitt, Ellen Page, Ken Watanabe</td></tr><tr><td>Matt Ross</td><td>Viggo Mortensen, George MacKay, Samantha Isler,Annalise Basso</td></tr><tr><td>Martin Scorsese</td><td>Leonardo DiCaprio, Jonah Hill, Margot Robbie,Matthew McConaughey</td></tr><tr><td>David Fincher</td><td>Ben Affleck, Rosamund Pike, Neil Patrick Harris,Tyler Perry</td></tr><tr><td>James Wan</td><td>Vin Diesel, Paul Walker, Dwayne Johnson, Jason Statham</td></tr><tr><td>Colin Trevorrow</td><td>Chris Pratt, Bryce Dallas Howard, Ty Simpkins,Judy Greer</td></tr><tr><td>Ben Affleck</td><td>Ben Affleck, Elle Fanning, Brendan Gleeson, Chris Messina</td></tr><tr><td>James Cameron</td><td>Sam Worthington, Zoe Saldana, Sigourney Weaver, Michelle Rodriguez</td></tr><tr><td>Quentin Tarantino</td><td>Samuel L. Jackson, Kurt Russell, Jennifer Jason Leigh, Walton Goggins</td></tr><tr><td>Gavin O'Connor</td><td>Ben Affleck, Anna Kendrick, J.K. Simmons, Jon Bernthal</td></tr><tr><td>Denis Villeneuve</td><td>Hugh Jackman, Jake Gyllenhaal, Viola Davis,Melissa Leo</td></tr><tr><td>Duncan Jones</td><td>Travis Fimmel, Paula Patton, Ben Foster, Dominic Cooper</td></tr><tr><td>Tate Taylor</td><td>Emma Stone, Viola Davis, Octavia Spencer, Bryce Dallas Howard</td></tr><tr><td>Todd Phillips</td><td>Jonah Hill, Miles Teller, Steve Lantz, Gregg Weiner</td></tr><tr><td>Joss Whedon</td><td>Robert Downey Jr., Chris Evans, Mark Ruffalo, Chris Hemsworth</td></tr><tr><td>Shane Black</td><td>Russell Crowe, Ryan Gosling, Angourie Rice, Matt Bomer</td></tr><tr><td>Makoto Shinkai</td><td>Ryûnosuke Kamiki, Mone Kamishiraishi, Ryô Narita, Aoi Yuki</td></tr><tr><td>Jeremy Gillespie</td><td>Aaron Poole, Kenneth Welsh,Daniel Fathers, Kathleen Munroe</td></tr><tr><td>Olivier Assayas</td><td>Kristen Stewart, Lars Eidinger, Sigrid Bouaziz,Anders Danielsen Lie</td></tr><tr><td>Martin Scorsese</td><td>Leonardo DiCaprio, Matt Damon, Jack Nicholson, Mark Wahlberg</td></tr><tr><td>Brian Helgeland</td><td>Tom Hardy, Emily Browning, Taron Egerton, Paul Anderson</td></tr><tr><td>Kenneth Branagh</td><td>Chris Hemsworth, Anthony Hopkins, Natalie Portman, Tom Hiddleston</td></tr><tr><td>Ridley Scott</td><td>Matt Damon, Jessica Chastain, Kristen Wiig, Kate Mara</td></tr><tr><td>Oriol Paulo</td><td>Mario Casas, Ana Wagener, José Coronado, Bárbara Lennie</td></tr><tr><td>Guy Ritchie</td><td>Henry Cavill, Armie Hammer, Alicia Vikander, Elizabeth Debicki</td></tr><tr><td>David Mackenzie</td><td>Chris Pine, Ben Foster, Jeff Bridges, Gil Birmingham</td></tr><tr><td>Taylor Hackford</td><td>Robert De Niro, Leslie Mann, Danny DeVito, Edie Falco</td></tr><tr><td>David Yates</td><td>Alexander Skarsgård, Rory J. Saper, Christian Stevens, Christoph Waltz</td></tr><tr><td>Katie Holmes</td><td>Eve Lindley, Richard Kind, Mark Consuelos, Katherine Reis</td></tr><tr><td>Alex Garland</td><td>Alicia Vikander, Domhnall Gleeson, Oscar Isaac,Sonoya Mizuno</td></tr><tr><td>Greg McLean</td><td>John Gallagher Jr., Tony Goldwyn, Adria Arjona, John C. McGinley</td></tr><tr><td>Steve McQueen</td><td>Chiwetel Ejiofor, Michael Kenneth Williams, Michael Fassbender, Brad Pitt</td></tr><tr><td>Ana Lily Amirpour</td><td>Keanu Reeves, Jason Momoa, Jim Carrey, Diego Luna</td></tr><tr><td>Zack Snyder</td><td>Gerard Butler, Lena Headey, David Wenham, Dominic West</td></tr><tr><td>David Yates</td><td>Daniel Radcliffe, Emma Watson, Rupert Grint, Michael Gambon</td></tr><tr><td>Josh Gordon</td><td>Jason Bateman, Olivia Munn, T.J. Miller,Jennifer Aniston</td></tr><tr><td>Nicolas Winding Refn</td><td>Elle Fanning, Christina Hendricks, Keanu Reeves, Karl Glusman</td></tr><tr><td>Nitesh Tiwari</td><td>Aamir Khan, Sakshi Tanwar, Fatima Sana Shaikh,Sanya Malhotra</td></tr><tr><td>Dan Trachtenberg</td><td>John Goodman, Mary Elizabeth Winstead, John Gallagher Jr., Douglas M. Griffin</td></tr><tr><td>Andrew Stanton</td><td>Ellen DeGeneres, Albert Brooks,Ed O'Neill, Kaitlin Olson</td></tr><tr><td>Tim Burton</td><td>Eva Green, Asa Butterfield, Samuel L. Jackson, Judi Dench</td></tr><tr><td>Neil Burger</td><td>Shailene Woodley, Theo James, Kate Winslet, Jai Courtney</td></tr><tr><td>Jake Szymanski</td><td>Zac Efron, Adam Devine, Anna Kendrick, Aubrey Plaza</td></tr><tr><td>Todor Chapkanov</td><td>Scott Adkins, Teodora Duhovnikova, Alon Aboutboul, Julian Vergov</td></tr><tr><td>Christopher Nolan</td><td>Christian Bale, Tom Hardy, Anne Hathaway,Gary Oldman</td></tr><tr><td>Jon Favreau</td><td>Neel Sethi, Bill Murray, Ben Kingsley, Idris Elba</td></tr><tr><td>Michael Bay</td><td>Mark Wahlberg, Nicola Peltz, Jack Reynor, Stanley Tucci</td></tr><tr><td>Henry Joost</td><td>Emma Roberts, Dave Franco, Emily Meade, Miles Heizer</td></tr><tr><td>Phyllida Lloyd</td><td>Meryl Streep, Pierce Brosnan, Amanda Seyfried,Stellan Skarsgård</td></tr><tr><td>Alejandro González Iñárritu</td><td>Leonardo DiCaprio, Tom Hardy, Will Poulter, Domhnall Gleeson</td></tr><tr><td>Denzel Washington</td><td>Denzel Washington, Viola Davis, Stephen Henderson, Jovan Adepo</td></tr><tr><td>Rob Marshall</td><td>Anna Kendrick, Meryl Streep, Chris Pine, Emily Blunt</td></tr><tr><td>Jaume Collet-Serra</td><td>Blake Lively, Óscar Jaenada, Angelo Josue Lozano Corzo, Brett Cullen</td></tr><tr><td>Damien Chazelle</td><td>Miles Teller, J.K. Simmons, Melissa Benoist, Paul Reiser</td></tr><tr><td>Justin Lin</td><td>Vin Diesel, Paul Walker, Dwayne Johnson, Michelle Rodriguez</td></tr><tr><td>Derek Cianfrance</td><td>Ryan Gosling, Bradley Cooper, Eva Mendes,Craig Van Hook</td></tr><tr><td>Ethan Coen</td><td>Tommy Lee Jones, Javier Bardem, Josh Brolin, Woody Harrelson</td></tr><tr><td>Baz Luhrmann</td><td>Leonardo DiCaprio, Carey Mulligan, Joel Edgerton,Tobey Maguire</td></tr><tr><td>Martin Scorsese</td><td>Leonardo DiCaprio, Emily Mortimer, Mark Ruffalo,Ben Kingsley</td></tr><tr><td>Martin Koolhoven</td><td>Dakota Fanning, Guy Pearce, Kit Harington,Carice van Houten</td></tr><tr><td>J.J. Abrams</td><td>Chris Pine, Zachary Quinto, Simon Pegg, Leonard Nimoy</td></tr><tr><td>Thor Freudenthal</td><td>Zachary Gordon, Robert Capron, Rachael Harris,Steve Zahn</td></tr><tr><td>Adam McKay</td><td>Christian Bale, Steve Carell, Ryan Gosling, Brad Pitt</td></tr><tr><td>Lenny Abrahamson</td><td>Brie Larson, Jacob Tremblay, Sean Bridgers,Wendy Crewson</td></tr><tr><td>Quentin Tarantino</td><td>Jamie Foxx, Christoph Waltz, Leonardo DiCaprio,Kerry Washington</td></tr><tr><td>Chan-wook Park</td><td>Min-hee Kim, Jung-woo Ha, Jin-woong Jo, So-ri Moon</td></tr><tr><td>Kelly Fremon Craig</td><td>Hailee Steinfeld, Haley Lu Richardson, Blake Jenner, Kyra Sedgwick</td></tr><tr><td>Zack Snyder</td><td>Jackie Earle Haley, Patrick Wilson, Carla Gugino,Malin Akerman</td></tr><tr><td>Greg Mottola</td><td>Michael Cera, Jonah Hill, Christopher Mintz-Plasse, Bill Hader</td></tr><tr><td>Ron Howard</td><td>Tom Hanks, Felicity Jones, Irrfan Khan, Ben Foster</td></tr><tr><td>Steven Spielberg</td><td>Mark Rylance, Ruby Barnhill, Penelope Wilton,Jemaine Clement</td></tr><tr><td>Gary Ross</td><td>Jennifer Lawrence, Josh Hutcherson, Liam Hemsworth,Stanley Tucci</td></tr><tr><td>Elizabeth Wood</td><td>Morgan Saylor, Brian Marc, Justin Bartha, Adrian Martinez</td></tr><tr><td>Denis Villeneuve</td><td>Emily Blunt, Josh Brolin, Benicio Del Toro, Jon Bernthal</td></tr><tr><td>David Lynch</td><td>Chris Isaak, Kiefer Sutherland, C.H. Evans, Sandra Kinder</td></tr><tr><td>Colin Strause</td><td>Reiko Aylesworth, Steven Pasquale,Shareeka Epps, John Ortiz</td></tr><tr><td>Guillermo del Toro</td><td>Idris Elba, Charlie Hunnam, Rinko Kikuchi,Charlie Day</td></tr><tr><td>Glenn Ficarra</td><td>Steve Carell, Ryan Gosling, Julianne Moore, Emma Stone</td></tr><tr><td>Edgar Wright</td><td>Michael Cera, Mary Elizabeth Winstead, Kieran Culkin, Alison Pill</td></tr><tr><td>Edgar Wright</td><td>Simon Pegg, Nick Frost, Martin Freeman, Bill Nighy</td></tr><tr><td>Fabio Guaglione</td><td>Armie Hammer, Annabelle Wallis,Tom Cullen, Clint Dyer</td></tr><tr><td>Ben Wheatley</td><td>Sharlto Copley, Brie Larson, Armie Hammer, Cillian Murphy</td></tr><tr><td>Bryan Singer</td><td>Patrick Stewart, Ian McKellen, Hugh Jackman, James McAvoy</td></tr><tr><td>Edward Zwick</td><td>Tom Cruise, Cobie Smulders, Aldis Hodge, Robert Knepper</td></tr><tr><td>Martin Campbell</td><td>Daniel Craig, Eva Green, Judi Dench, Jeffrey Wright</td></tr><tr><td>Catherine Hardwicke</td><td>Kristen Stewart, Robert Pattinson, Billy Burke,Sarah Clarke</td></tr><tr><td>Jon M. Chu</td><td>Jesse Eisenberg, Mark Ruffalo, Woody Harrelson, Dave Franco</td></tr><tr><td>Simon Curtis</td><td>Helen Mirren, Ryan Reynolds, Daniel Brühl, Katie Holmes</td></tr><tr><td>Michael Bay</td><td>John Krasinski, Pablo Schreiber, James Badge Dale,David Denman</td></tr><tr><td>Sam Mendes</td><td>Daniel Craig, Christoph Waltz, Léa Seydoux, Ralph Fiennes</td></tr><tr><td>Dan Gilroy</td><td>Jake Gyllenhaal, Rene Russo, Bill Paxton, Riz Ahmed</td></tr><tr><td>Travis Knight</td><td>Charlize Theron, Art Parkinson, Matthew McConaughey, Ralph Fiennes</td></tr><tr><td>Jackson Stewart</td><td>Graham Skipper, Chase Williamson, Brea Grant,Barbara Crampton</td></tr><tr><td>Spike Jonze</td><td>Joaquin Phoenix, Amy Adams, Scarlett Johansson,Rooney Mara</td></tr><tr><td>Chris Buck</td><td>Kristen Bell, Idina Menzel, Jonathan Groff, Josh Gad</td></tr><tr><td>Brad Bird</td><td>George Clooney, Britt Robertson, Hugh Laurie, Raffey Cassidy</td></tr><tr><td>Matt Reeves</td><td>Gary Oldman, Keri Russell, Andy Serkis, Kodi Smit-McPhee</td></tr><tr><td>Ben Stiller</td><td>Ben Stiller, Jack Black, Robert Downey Jr., Jeff Kahn</td></tr><tr><td>James Wan</td><td>Vera Farmiga, Patrick Wilson, Madison Wolfe, Frances O'Connor</td></tr><tr><td>Peyton Reed</td><td>Paul Rudd, Michael Douglas, Corey Stoll, Evangeline Lilly</td></tr><tr><td>Sharon Maguire</td><td>Renée Zellweger, Gemma Jones, Jim Broadbent,Sally Phillips</td></tr><tr><td>Robert Eggers</td><td>Anya Taylor-Joy, Ralph Ineson, Kate Dickie, Julian Richings</td></tr><tr><td>Kenneth Branagh</td><td>Lily James, Cate Blanchett, Richard Madden,Helena Bonham Carter</td></tr><tr><td>Mateo Gil</td><td>Tom Hughes, Charlotte Le Bon, Oona Chaplin, Barry Ward</td></tr><tr><td>Asghar Farhadi</td><td>Taraneh Alidoosti, Shahab Hosseini, Babak Karimi,Farid Sajjadi Hosseini</td></tr><tr><td>Gaspar Noé</td><td>Aomi Muyock, Karl Glusman, Klara Kristin, Juan Saavedra</td></tr><tr><td>Ang Lee</td><td>Joe Alwyn, Garrett Hedlund, Arturo Castro, Mason Lee</td></tr><tr><td>Guillermo del Toro</td><td>Mia Wasikowska, Jessica Chastain, Tom Hiddleston, Charlie Hunnam</td></tr><tr><td>Nicolas Winding Refn</td><td>Ryan Gosling, Carey Mulligan, Bryan Cranston, Albert Brooks</td></tr><tr><td>Judd Apatow</td><td>Amy Schumer, Bill Hader, Brie Larson, Colin Quinn</td></tr><tr><td>Derek Cianfrance</td><td>Michael Fassbender, Alicia Vikander, Rachel Weisz, Florence Clery</td></tr><tr><td>April Mullen</td><td>Erika Linder, Natalie Krill, Sebastian Pigott, Mayko Nguyen</td></tr><tr><td>Tom McCarthy</td><td>Mark Ruffalo, Michael Keaton, Rachel McAdams, Liev Schreiber</td></tr><tr><td>Luke Scott</td><td>Kate Mara, Anya Taylor-Joy, Rose Leslie, Michael Yare</td></tr><tr><td>Gavin O'Connor</td><td>Tom Hardy, Nick Nolte, Joel Edgerton, Jennifer Morrison</td></tr><tr><td>Joe Johnston</td><td>Chris Evans, Hugo Weaving, Samuel L. Jackson,Hayley Atwell</td></tr><tr><td>Akan Satayev</td><td>Callan McAuliffe, Lorraine Nicholson, Daniel Eric Gold, Clifton Collins Jr.</td></tr><tr><td>Sean Penn</td><td>Emile Hirsch, Vince Vaughn, Catherine Keener, Marcia Gay Harden</td></tr><tr><td>Morten Tyldum</td><td>Benedict Cumberbatch, Keira Knightley, Matthew Goode, Allen Leech</td></tr><tr><td>Rawson Marshall Thurber</td><td>Dwayne Johnson, Kevin Hart, Danielle Nicolet, Amy Ryan</td></tr><tr><td>Doug Liman</td><td>Tom Cruise, Emily Blunt, Bill Paxton, Brendan Gleeson</td></tr><tr><td>Gore Verbinski</td><td>Dane DeHaan, Jason Isaacs, Mia Goth, Ivo Nandi</td></tr><tr><td>Oliver Stone</td><td>Joseph Gordon-Levitt, Shailene Woodley, Melissa Leo,Zachary Quinto</td></tr><tr><td>Jon Favreau</td><td>Robert Downey Jr., Gwyneth Paltrow, Terrence Howard, Jeff Bridges</td></tr><tr><td>Robert Schwentke</td><td>Shailene Woodley, Theo James, Jeff Daniels,Naomi Watts</td></tr><tr><td>Matthew Vaughn</td><td>James McAvoy, Michael Fassbender, Jennifer Lawrence, Kevin Bacon</td></tr><tr><td>Julia Ducournau</td><td>Garance Marillier, Ella Rumpf, Rabah Nait Oufella,Laurent Lucas</td></tr><tr><td>Jim Jarmusch</td><td>Adam Driver, Golshifteh Farahani, Nellie, Rizwan Manji</td></tr><tr><td>Paul Feig</td><td>Kristen Wiig, Maya Rudolph, Rose Byrne, Terry Crews</td></tr><tr><td>Colm McCarthy</td><td>Gemma Arterton, Glenn Close, Dominique Tipper,Paddy Considine</td></tr><tr><td>Brad Peyton</td><td>Dwayne Johnson, Carla Gugino, Alexandra Daddario,Colton Haynes</td></tr><tr><td>Harmony Korine</td><td>Vanessa Hudgens, Selena Gomez, Ashley Benson,Rachel Korine</td></tr><tr><td>Michael Bay</td><td>Shia LaBeouf, Megan Fox, Josh Duhamel, Tyrese Gibson</td></tr><tr><td>Spike Lee</td><td>Josh Brolin, Elizabeth Olsen, Samuel L. Jackson, Sharlto Copley</td></tr><tr><td>Alan Taylor</td><td>Chris Hemsworth, Natalie Portman, Tom Hiddleston,Stellan Skarsgård</td></tr><tr><td>Alex Proyas</td><td>Brenton Thwaites, Nikolaj Coster-Waldau, Gerard Butler, Chadwick Boseman</td></tr><tr><td>Anthony Russo</td><td>Chris Evans, Samuel L. Jackson,Scarlett Johansson, Robert Redford</td></tr><tr><td>Chris Wedge</td><td>Lucas Till, Jane Levy, Thomas Lennon, Barry Pepper</td></tr><tr><td>Liam Gavin</td><td>Mark Huberman, Susan Loughnane, Steve Oram,Catherine Walker</td></tr><tr><td>Matthew Vaughn</td><td>Aaron Taylor-Johnson, Nicolas Cage, Chloë Grace Moretz, Garrett M. Brown</td></tr><tr><td>Ilya Naishuller</td><td>Sharlto Copley, Tim Roth, Haley Bennett, Danila Kozlovsky</td></tr><tr><td>John Lasseter</td><td>Owen Wilson, Bonnie Hunt, Paul Newman, Larry the Cable Guy</td></tr><tr><td>David Robert Mitchell</td><td>Maika Monroe, Keir Gilchrist, Olivia Luccardi,Lili Sepe</td></tr><tr><td>David Fincher</td><td>Daniel Craig, Rooney Mara, Christopher Plummer,Stellan Skarsgård</td></tr><tr><td>Rawson Marshall Thurber</td><td>Jason Sudeikis, Jennifer Aniston, Emma Roberts, Ed Helms</td></tr><tr><td>Andrea Arnold</td><td>Sasha Lane, Shia LaBeouf, Riley Keough, McCaul Lombardi</td></tr><tr><td>Yorgos Lanthimos</td><td>Colin Farrell, Rachel Weisz, Jessica Barden,Olivia Colman</td></tr><tr><td>Nimród Antal</td><td>Adrien Brody, Laurence Fishburne, Topher Grace,Alice Braga</td></tr><tr><td>Robert Stromberg</td><td>Angelina Jolie, Elle Fanning, Sharlto Copley,Lesley Manville</td></tr><tr><td>Steven Shainberg</td><td>Noomi Rapace, Michael Chiklis, Kerry Bishé,Peter Stormare</td></tr><tr><td>Guillermo del Toro</td><td>Ivana Baquero, Ariadna Gil, Sergi López,Maribel Verdú</td></tr><tr><td>Andy Goddard</td><td>Patrick Wilson, Jessica Biel, Haley Bennett, Vincent Kartheiser</td></tr><tr><td>Mel Gibson</td><td>Gerardo Taracena, Raoul Max Trujillo, Dalia Hernández,Rudy Youngblood</td></tr><tr><td>Christopher McQuarrie</td><td>Tom Cruise, Rebecca Ferguson, Jeremy Renner, Simon Pegg</td></tr><tr><td>Cedric Nicolas-Troyan</td><td>Chris Hemsworth, Jessica Chastain, Charlize Theron, Emily Blunt</td></tr><tr><td>Stephen Chbosky</td><td>Logan Lerman, Emma Watson, Ezra Miller, Paul Rudd</td></tr><tr><td>Pablo Larraín</td><td>Natalie Portman, Peter Sarsgaard, Greta Gerwig,Billy Crudup</td></tr><tr><td>D.J. Caruso</td><td>Kate Beckinsale, Mel Raido, Duncan Joiner, Lucas Till</td></tr><tr><td>Wes Anderson</td><td>Ralph Fiennes, F. Murray Abraham, Mathieu Amalric,Adrien Brody</td></tr><tr><td>Andrew Niccol</td><td>Saoirse Ronan, Max Irons, Jake Abel, Diane Kruger</td></tr><tr><td>David Ayer</td><td>Brad Pitt, Shia LaBeouf, Logan Lerman, Michael Peña</td></tr><tr><td>Pete Docter</td><td>Amy Poehler, Bill Hader, Lewis Black, Mindy Kaling</td></tr><tr><td>Ash Brannon</td><td>Luke Wilson, Eddie Izzard, J.K. Simmons, Lewis Black</td></tr><tr><td>Alan Taylor</td><td>Arnold Schwarzenegger, Jason Clarke, Emilia Clarke,Jai Courtney</td></tr><tr><td>Chris Columbus</td><td>Logan Lerman, Kevin McKidd, Steve Coogan,Brandon T. Jackson</td></tr><tr><td>Tom Hooper</td><td>Hugh Jackman, Russell Crowe, Anne Hathaway,Amanda Seyfried</td></tr><tr><td>Alfonso Cuarón</td><td>Julianne Moore, Clive Owen, Chiwetel Ejiofor,Michael Caine</td></tr><tr><td>Mike Mills</td><td>Annette Bening, Elle Fanning, Greta Gerwig, Billy Crudup</td></tr><tr><td>Paul Feig</td><td>Melissa McCarthy, Rose Byrne, Jude Law, Jason Statham</td></tr><tr><td>Olivier Nakache</td><td>François Cluzet, Omar Sy, Anne Le Ny, Audrey Fleurot</td></tr><tr><td>Eleanor Coppola</td><td>Diane Lane, Alec Baldwin, Arnaud Viard, Linda Gegusch</td></tr><tr><td>Yorgos Lanthimos</td><td>Christos Stergioglou, Michele Valley, Angeliki Papoulia, Hristos Passalis</td></tr><tr><td>F. Gary Gray</td><td>O'Shea Jackson Jr., Corey Hawkins, Jason Mitchell,Neil Brown Jr.</td></tr><tr><td>Marc Webb</td><td>Andrew Garfield, Emma Stone, Jamie Foxx, Paul Giamatti</td></tr><tr><td>James Wan</td><td>Patrick Wilson, Vera Farmiga, Ron Livingston, Lili Taylor</td></tr><tr><td>Todd Phillips</td><td>Zach Galifianakis, Bradley Cooper, Justin Bartha, Ed Helms</td></tr><tr><td>Peter Berg</td><td>Alexander Skarsgård, Brooklyn Decker, Liam Neeson,Rihanna</td></tr><tr><td>Rupert Wyatt</td><td>James Franco, Andy Serkis, Freida Pinto, Karin Konoval</td></tr><tr><td>David F. Sandberg</td><td>Teresa Palmer, Gabriel Bateman, Maria Bello,Billy Burke</td></tr><tr><td>Joseph Cedar</td><td>Richard Gere, Lior Ashkenazi, Michael Sheen,Charlotte Gainsbourg</td></tr><tr><td>Alejandro González Iñárritu</td><td>Michael Keaton, Zach Galifianakis,Edward Norton, Andrea Riseborough</td></tr><tr><td>Darren Aronofsky</td><td>Natalie Portman, Mila Kunis, Vincent Cassel,Winona Ryder</td></tr><tr><td>Justin Simien</td><td>Tyler James Williams, Tessa Thompson, Kyle Gallner,Teyonah Parris</td></tr><tr><td>Lars von Trier</td><td>Charlotte Gainsbourg, Stellan Skarsgård, Stacy Martin, Shia LaBeouf</td></tr><tr><td>Dave Green</td><td>Megan Fox, Will Arnett, Tyler Perry, Laura Linney</td></tr><tr><td>Eli Roth</td><td>Keanu Reeves, Lorenza Izzo, Ana de Armas, Aaron Burns</td></tr><tr><td>Dan Mazer</td><td>Robert De Niro, Zac Efron, Zoey Deutch, Aubrey Plaza</td></tr><tr><td>Tom Tykwer</td><td>Tom Hanks, Halle Berry, Hugh Grant, Hugo Weaving</td></tr><tr><td>Gavin Hood</td><td>Hugh Jackman, Liev Schreiber, Ryan Reynolds, Danny Huston</td></tr><tr><td>Jeffrey G. Hunt</td><td>Sarah Hyland, Steven Krueger, Justin Chon, Clara Mamet</td></tr><tr><td>Sam Mendes</td><td>Daniel Craig, Javier Bardem, Naomie Harris, Judi Dench</td></tr><tr><td>Peter Jackson</td><td>Martin Freeman, Ian McKellen, Richard Armitage,Andy Serkis</td></tr><tr><td>Phil Lord</td><td>Jonah Hill, Channing Tatum, Ice Cube,Brie Larson</td></tr><tr><td>John Carney</td><td>Ferdia Walsh-Peelo, Aidan Gillen, Maria Doyle Kennedy, Jack Reynor</td></tr><tr><td>Eric Summer</td><td>Elle Fanning, Dane DeHaan, Carly Rae Jepsen, Maddie Ziegler</td></tr><tr><td>Joseph Kosinski</td><td>Tom Cruise, Morgan Freeman, Andrea Riseborough, Olga Kurylenko</td></tr><tr><td>Phil Lord</td><td>Channing Tatum, Jonah Hill, Ice Cube,Nick Offerman</td></tr><tr><td>David Fincher</td><td>Jake Gyllenhaal, Robert Downey Jr., Mark Ruffalo,Anthony Edwards</td></tr><tr><td>Richard Linklater</td><td>Blake Jenner, Tyler Hoechlin, Ryan Guzman,Zoey Deutch</td></tr><tr><td>Shane Black</td><td>Robert Downey Jr., Guy Pearce, Gwyneth Paltrow,Don Cheadle</td></tr><tr><td>Louis Leterrier</td><td>Jesse Eisenberg, Common, Mark Ruffalo, Woody Harrelson</td></tr><tr><td>Guy Ritchie</td><td>Robert Downey Jr., Jude Law, Rachel McAdams, Mark Strong</td></tr><tr><td>Quentin Tarantino</td><td>Kurt Russell, Zoë Bell, Rosario Dawson, Vanessa Ferlito</td></tr><tr><td>Tom Hooper</td><td>Eddie Redmayne, Alicia Vikander, Amber Heard, Ben Whishaw</td></tr><tr><td>Brett Ratner</td><td>Dwayne Johnson, John Hurt, Ian McShane, Joseph Fiennes</td></tr><tr><td>Zack Snyder</td><td>Emily Browning, Vanessa Hudgens, Abbie Cornish,Jena Malone</td></tr><tr><td>Greg Mottola</td><td>Zach Galifianakis, Isla Fisher, Jon Hamm, Gal Gadot</td></tr><tr><td>Lana Wachowski</td><td>Channing Tatum, Mila Kunis,Eddie Redmayne, Sean Bean</td></tr><tr><td>Jared Hess</td><td>Zach Galifianakis, Kristen Wiig, Owen Wilson, Ross Kimball</td></tr><tr><td>Jalil Lespert</td><td>Romain Duris, Charlotte Le Bon, Jalil Lespert, Camille Cottin</td></tr><tr><td>Sang-ho Yeon</td><td>Yoo Gong, Soo-an Kim, Yu-mi Jung, Dong-seok Ma</td></tr><tr><td>Jason Moore</td><td>Anna Kendrick, Brittany Snow, Rebel Wilson, Anna Camp</td></tr><tr><td>Nicholas Stoller</td><td>Seth Rogen, Rose Byrne, Zac Efron, Chloë Grace Moretz</td></tr><tr><td>David Leveaux</td><td>Lily James, Jai Courtney, Christopher Plummer, Loïs van Wijk</td></tr><tr><td>Zack Snyder</td><td>Henry Cavill, Amy Adams, Michael Shannon, Diane Lane</td></tr><tr><td>Ross Katz</td><td>Benjamin Walker, Teresa Palmer, Alexandra Daddario,Maggie Grace</td></tr><tr><td>Mike Thurmeier</td><td>Ray Romano, Denis Leary, John Leguizamo, Chris Wedge</td></tr><tr><td>David Frankel</td><td>Anne Hathaway, Meryl Streep, Adrian Grenier, Emily Blunt</td></tr><tr><td>Brad Furman</td><td>Bryan Cranston, John Leguizamo, Diane Kruger, Amy Ryan</td></tr><tr><td>Paul Thomas Anderson</td><td>Daniel Day-Lewis, Paul Dano, Ciarán Hinds,Martin Stringer</td></tr><tr><td>Antoine Fuqua</td><td>Denzel Washington, Marton Csokas, Chloë Grace Moretz, David Harbour</td></tr><tr><td>Peter Berg</td><td>Mark Wahlberg, Taylor Kitsch, Emile Hirsch, Ben Foster</td></tr><tr><td>Drew Goddard</td><td>Kristen Connolly, Chris Hemsworth, Anna Hutchison,Fran Kranz</td></tr><tr><td>Fred Wolf</td><td>Anna Faris, Colin Hanks, Emma Stone, Kat Dennings</td></tr><tr><td>Jim Field Smith</td><td>Jay Baruchel, Alice Eve, T.J. Miller, Mike Vogel</td></tr><tr><td>Paul Thomas Anderson</td><td>Joaquin Phoenix, Josh Brolin, Owen Wilson,Katherine Waterston</td></tr><tr><td>James Bobin</td><td>Mia Wasikowska, Johnny Depp, Helena Bonham Carter, Anne Hathaway</td></tr><tr><td>Gary Michael Schultz</td><td>Emile Hirsch, Zoë Kravitz, Zoey Deutch,Emory Cohen</td></tr><tr><td>Justin Lin</td><td>Lucas Black, Zachery Ty Bryan, Shad Moss, Damien Marzette</td></tr><tr><td>Christian Ditter</td><td>Dakota Johnson, Rebel Wilson, Leslie Mann, Alison Brie</td></tr><tr><td>John Lee Hancock</td><td>Quinton Aaron, Sandra Bullock, Tim McGraw,Jae Head</td></tr><tr><td>Abdellatif Kechiche</td><td>Léa Seydoux, Adèle Exarchopoulos, Salim Kechiouche, Aurélien Recoing</td></tr><tr><td>Jennifer Kent</td><td>Essie Davis, Noah Wiseman, Daniel Henshall, Hayley McElhinney</td></tr><tr><td>Peter Jackson</td><td>Ian McKellen, Martin Freeman, Richard Armitage,Cate Blanchett</td></tr><tr><td>David Yates</td><td>Daniel Radcliffe, Emma Watson, Rupert Grint, Brendan Gleeson</td></tr><tr><td>Bong Joon Ho</td><td>Chris Evans, Jamie Bell, Tilda Swinton, Ed Harris</td></tr><tr><td>J Blakeson</td><td>Chloë Grace Moretz, Matthew Zuk, Gabriela Lopez,Bailey Anne Borders</td></tr><tr><td>Dan Berk</td><td>Connor Paolo, Nick Damici, Laura Abramsen, A.C. Peterson</td></tr><tr><td>M. Night Shyamalan</td><td>Olivia DeJonge, Ed Oxenbould, Deanna Dunagan, Peter McRobbie</td></tr><tr><td>Justin Lin</td><td>Vin Diesel, Paul Walker, Dwayne Johnson, Jordana Brewster</td></tr><tr><td>Anne Fletcher</td><td>Channing Tatum, Jenna Dewan Tatum, Damaine Radcliff, De'Shawn Washington</td></tr><tr><td>So Yong Kim</td><td>Riley Keough, Jena Malone, Jessie Ok Gray, Cary Joji Fukunaga</td></tr><tr><td>Guy Ritchie</td><td>Gerard Butler, Tom Wilkinson, Idris Elba, Thandie Newton</td></tr><tr><td>Andrew Niccol</td><td>Justin Timberlake, Amanda Seyfried, Cillian Murphy,Olivia Wilde</td></tr><tr><td>David Fincher</td><td>Jesse Eisenberg, Andrew Garfield, Justin Timberlake,Rooney Mara</td></tr><tr><td>Breck Eisner</td><td>Vin Diesel, Rose Leslie, Elijah Wood, Ólafur Darri Ólafsson</td></tr><tr><td>Paul McGuigan</td><td>Daniel Radcliffe, James McAvoy, Jessica Brown Findlay, Andrew Scott</td></tr><tr><td>Roger Spottiswoode</td><td>Luke Treadaway, Bob the Cat, Ruta Gedmintas, Joanne Froggatt</td></tr><tr><td>Jeremy Saulnier</td><td>Anton Yelchin, Imogen Poots, Alia Shawkat,Patrick Stewart</td></tr><tr><td>Michael Mann</td><td>Chris Hemsworth, Viola Davis, Wei Tang, Leehom Wang</td></tr><tr><td>Nicholas Stoller</td><td>Andy Samberg, Katie Crown,Kelsey Grammer, Jennifer Aniston</td></tr><tr><td>Clint Eastwood</td><td>Bradley Cooper, Sienna Miller, Kyle Gallner, Cole Konis</td></tr><tr><td>Jean-Marc Vallée</td><td>Matthew McConaughey, Jennifer Garner, Jared Leto, Steve Zahn</td></tr><tr><td>Steven Spielberg</td><td>Daniel Day-Lewis, Sally Field, David Strathairn,Joseph Gordon-Levitt</td></tr><tr><td>Ron Howard</td><td>Daniel Brühl, Chris Hemsworth, Olivia Wilde,Alexandra Maria Lara</td></tr><tr><td>Mike Flanagan</td><td>Kate Bosworth, Thomas Jane, Jacob Tremblay,Annabeth Gish</td></tr><tr><td>David O. Russell</td><td>Bradley Cooper, Jennifer Lawrence, Robert De Niro, Jacki Weaver</td></tr><tr><td>Alexi Pappas</td><td>Alexi Pappas, Chase Offerle, Rachel Dratch, Andy Buckley</td></tr><tr><td>Josh Boone</td><td>Shailene Woodley, Ansel Elgort, Nat Wolff, Laura Dern</td></tr><tr><td>Frank Coraci</td><td>Adam Sandler, Drew Barrymore, Wendi McLendon-Covey, Kevin Nealon</td></tr><tr><td>Justin Lin</td><td>Vin Diesel, Paul Walker, Michelle Rodriguez, Jordana Brewster</td></tr><tr><td>Rian Johnson</td><td>Joseph Gordon-Levitt, Bruce Willis, Emily Blunt, Paul Dano</td></tr><tr><td>Roland Emmerich</td><td>Channing Tatum, Jamie Foxx, Maggie Gyllenhaal,Jason Clarke</td></tr><tr><td>David Lowery</td><td>Bryce Dallas Howard, Robert Redford, Oakes Fegley,Oona Laurence</td></tr><tr><td>Sam Raimi</td><td>Tobey Maguire, Kirsten Dunst, Topher Grace, Thomas Haden Church</td></tr><tr><td>Paul W.S. Anderson</td><td>Logan Lerman, Matthew Macfadyen, Ray Stevenson, Milla Jovovich</td></tr><tr><td>Matthew Vaughn</td><td>Charlie Cox, Claire Danes, Sienna Miller, Ian McKellen</td></tr><tr><td>David O. Russell</td><td>Christian Bale, Amy Adams, Bradley Cooper,Jennifer Lawrence</td></tr><tr><td>Karyn Kusama</td><td>Megan Fox, Amanda Seyfried, Adam Brody, Johnny Simmons</td></tr><tr><td>Woody Allen</td><td>Owen Wilson, Rachel McAdams, Kathy Bates, Kurt Fuller</td></tr><tr><td>William Oldroyd</td><td>Florence Pugh, Christopher Fairbank, Cosmo Jarvis, Naomi Ackie</td></tr><tr><td>David O. Russell</td><td>Jennifer Lawrence, Robert De Niro, Bradley Cooper, Edgar Ramírez</td></tr><tr><td>Jocelyn Moorhouse</td><td>Kate Winslet, Judy Davis, Liam Hemsworth,Hugo Weaving</td></tr><tr><td>Woody Allen</td><td>Jesse Eisenberg, Kristen Stewart, Steve Carell, Blake Lively</td></tr><tr><td>Robert Schwentke</td><td>Shailene Woodley, Ansel Elgort, Theo James,Kate Winslet</td></tr><tr><td>Sergei Bodrov</td><td>Ben Barnes, Julianne Moore, Jeff Bridges, Alicia Vikander</td></tr><tr><td>Hugo Gélin</td><td>Omar Sy, Clémence Poésy, Antoine Bertrand, Ashley Walters</td></tr><tr><td>James Marsh</td><td>Eddie Redmayne, Felicity Jones, Tom Prior, Sophie Perry</td></tr><tr><td>Evan Goldberg</td><td>James Franco, Jonah Hill, Seth Rogen,Jay Baruchel</td></tr><tr><td>Richard Curtis</td><td>Domhnall Gleeson, Rachel McAdams, Bill Nighy,Lydia Wilson</td></tr><tr><td>Adam McKay</td><td>Will Ferrell, John C. Reilly, Mary Steenburgen,Richard Jenkins</td></tr><tr><td>Jon Watts</td><td>Andy Powers, Laura Allen, Peter Stormare, Christian Distefano</td></tr><tr><td>J.J. Abrams</td><td>Chris Pine, Zachary Quinto, Zoe Saldana, Benedict Cumberbatch</td></tr><tr><td>Ruben Fleischer</td><td>Jesse Eisenberg, Emma Stone, Woody Harrelson,Abigail Breslin</td></tr><tr><td>Ethan Coen</td><td>Josh Brolin, George Clooney, Alden Ehrenreich, Ralph Fiennes</td></tr><tr><td>Danny Boyle</td><td>Dev Patel, Freida Pinto, Saurabh Shukla, Anil Kapoor</td></tr><tr><td>Bill Condon</td><td>Kristen Stewart, Robert Pattinson, Taylor Lautner, Peter Facinelli</td></tr><tr><td>Alex Ranarivelo</td><td>William Fichtner, Jon Voight, Lia Marie Johnson,Gabriel Basso</td></tr><tr><td>Marc Webb</td><td>Andrew Garfield, Emma Stone, Rhys Ifans, Irrfan Khan</td></tr><tr><td>Timur Bekmambetov</td><td>Jack Huston, Toby Kebbell, Rodrigo Santoro,Nazanin Boniadi</td></tr><tr><td>J.D. Dillard</td><td>Jacob Latimore, Seychelle Gabriel, Dulé Hill, Storm Reid</td></tr><tr><td>Wes Ball</td><td>Dylan O'Brien, Kaya Scodelario, Will Poulter, Thomas Brodie-Sangster</td></tr><tr><td>Ariel Vromen</td><td>Kevin Costner, Ryan Reynolds, Gal Gadot, Gary Oldman</td></tr><tr><td>Timur Bekmambetov</td><td>Angelina Jolie, James McAvoy, Morgan Freeman, Terence Stamp</td></tr><tr><td>Stephen Frears</td><td>Meryl Streep, Hugh Grant, Simon Helberg, Rebecca Ferguson</td></tr><tr><td>Eran Creevy</td><td>Nicholas Hoult, Felicity Jones, Anthony Hopkins, Ben Kingsley</td></tr><tr><td>Scott Cooper</td><td>Johnny Depp, Benedict Cumberbatch, Dakota Johnson, Joel Edgerton</td></tr><tr><td>Ryan Coogler</td><td>Michael B. Jordan, Sylvester Stallone, Tessa Thompson, Phylicia Rashad</td></tr><tr><td>Dan Kwan</td><td>Paul Dano, Daniel Radcliffe, Mary Elizabeth Winstead, Antonia Ribero</td></tr><tr><td>Patrick Hughes</td><td>Sylvester Stallone, Jason Statham, Jet Li, Antonio Banderas</td></tr><tr><td>Jemaine Clement</td><td>Jemaine Clement, Taika Waititi,Cori Gonzalez-Macuer, Jonny Brugh</td></tr><tr><td>Antoine Fuqua</td><td>Jake Gyllenhaal, Rachel McAdams, Oona Laurence,Forest Whitaker</td></tr><tr><td>Mike Flanagan</td><td>John Gallagher Jr., Kate Siegel, Michael Trucco,Samantha Sloyan</td></tr><tr><td>Steven Spielberg</td><td>Tom Hanks, Mark Rylance, Alan Alda, Amy Ryan</td></tr><tr><td>Phil Lord</td><td>Chris Pratt, Will Ferrell, Elizabeth Banks, Will Arnett</td></tr><tr><td>Baltasar Kormákur</td><td>Jason Clarke, Ang Phula Sherpa, Thomas M. Wright, Martin Henderson</td></tr><tr><td>Chris Columbus</td><td>Adam Sandler, Kevin James, Michelle Monaghan,Peter Dinklage</td></tr><tr><td>Ridley Scott</td><td>Russell Crowe, Cate Blanchett, Matthew Macfadyen,Max von Sydow</td></tr><tr><td>James Mangold</td><td>Hugh Jackman, Will Yun Lee, Tao Okamoto, Rila Fukushima</td></tr><tr><td>Andrew Stanton</td><td>Taylor Kitsch, Lynn Collins, Willem Dafoe,Samantha Morton</td></tr><tr><td>Peter Atencio</td><td>Keegan-Michael Key, Jordan Peele, Tiffany Haddish,Method Man</td></tr><tr><td>Pierre Morel</td><td>Sean Penn, Idris Elba, Jasmine Trinca, Javier Bardem</td></tr><tr><td>Danny Boyle</td><td>Michael Fassbender, Kate Winslet, Seth Rogen, Jeff Daniels</td></tr><tr><td>Gillies MacKinnon</td><td>Tim Pigott-Smith, Naomi Battrick, Ellie Kendrick,James Cosmo</td></tr><tr><td>Dennis Dugan</td><td>Adam Sandler, Kevin James, Chris Rock, David Spade</td></tr><tr><td>Lee Toland Krieger</td><td>Blake Lively, Michiel Huisman, Harrison Ford,Kathy Baker</td></tr><tr><td>Louis Leterrier</td><td>Edward Norton, Liv Tyler, Tim Roth, William Hurt</td></tr><tr><td>Peter Billingsley</td><td>Vince Vaughn, Malin Akerman, Jon Favreau, Jason Bateman</td></tr><tr><td>Terry Jones</td><td>Simon Pegg, Kate Beckinsale, Sanjeev Bhaskar, Rob Riggle</td></tr><tr><td>Steven Soderbergh</td><td>Channing Tatum, Alex Pettyfer, Olivia Munn,Matthew McConaughey</td></tr><tr><td>Kyle Balda</td><td>Sandra Bullock, Jon Hamm, Michael Keaton, Pierre Coffin</td></tr><tr><td>Rolfe Kanefsky</td><td>Natasha Henstridge, Lukas Hassel, Lin Shaye,Dominique Swain</td></tr><tr><td>Nicolas Winding Refn</td><td>Tom Hardy, Kelly Adams, Luing Andrews,Katy Barker</td></tr><tr><td>Pierre Coffin</td><td>Steve Carell, Jason Segel, Russell Brand, Julie Andrews</td></tr><tr><td>Michael Hoffman</td><td>James Marsden, Michelle Monaghan, Luke Bracey,Liana Liberato</td></tr><tr><td>Karyn Kusama</td><td>Logan Marshall-Green, Emayatzy Corinealdi, Michiel Huisman, Tammy Blanchard</td></tr><tr><td>Kathryn Bigelow</td><td>Jessica Chastain, Joel Edgerton, Chris Pratt, Mark Strong</td></tr><tr><td>Nathan Greno</td><td>Mandy Moore, Zachary Levi, Donna Murphy, Ron Perlman</td></tr><tr><td>Francis Lawrence</td><td>Jennifer Lawrence, Josh Hutcherson, Liam Hemsworth, Woody Harrelson</td></tr><tr><td>John Francis Daley</td><td>Ed Helms, Christina Applegate, Skyler Gisondo, Steele Stebbins</td></tr><tr><td>Pierre Morel</td><td>Liam Neeson, Maggie Grace, Famke Janssen, Leland Orser</td></tr><tr><td>Elizabeth Banks</td><td>Anna Kendrick, Rebel Wilson, Hailee Steinfeld,Brittany Snow</td></tr><tr><td>Dan Scanlon</td><td>Billy Crystal, John Goodman, Steve Buscemi, Helen Mirren</td></tr><tr><td>Paul Verhoeven</td><td>Isabelle Huppert, Laurent Lafitte, Anne Consigny,Charles Berling</td></tr><tr><td>Dennis Gansel</td><td>Jason Statham, Jessica Alba, Tommy Lee Jones,Michelle Yeoh</td></tr><tr><td>Kevin Smith</td><td>Justin Long, Michael Parks, Haley Joel Osment,Genesis Rodriguez</td></tr><tr><td>Mark Williams</td><td>Alison Brie, Gerard Butler, Willem Dafoe, Gretchen Mol</td></tr><tr><td>Joe Wright</td><td>Keira Knightley, James McAvoy, Brenda Blethyn,Saoirse Ronan</td></tr><tr><td>David Yates</td><td>Daniel Radcliffe, Emma Watson, Rupert Grint, Bill Nighy</td></tr><tr><td>Steve McQueen</td><td>Michael Fassbender, Carey Mulligan, James Badge Dale, Lucy Walters</td></tr><tr><td>Joe Wright</td><td>Saoirse Ronan, Cate Blanchett, Eric Bana, Vicky Krieps</td></tr><tr><td>David Ross</td><td>Lauren Birkell, Paul Borghese, Chira Cassel, Anthony Cirillo</td></tr><tr><td>Burr Steers</td><td>Lily James, Sam Riley, Jack Huston, Bella Heathcote</td></tr><tr><td>Noam Murro</td><td>Sullivan Stapleton, Eva Green, Lena Headey, Hans Matheson</td></tr><tr><td>Babak Najafi</td><td>Gerard Butler, Aaron Eckhart, Morgan Freeman,Angela Bassett</td></tr><tr><td>David Fincher</td><td>Brad Pitt, Cate Blanchett, Tilda Swinton, Julia Ormond</td></tr><tr><td>Frank Miller</td><td>Mickey Rourke, Jessica Alba, Josh Brolin, Joseph Gordon-Levitt</td></tr><tr><td>Paul Greengrass</td><td>Matt Damon, Edgar Ramírez, Joan Allen, Julia Stiles</td></tr><tr><td>Srdjan Spasojevic</td><td>Srdjan 'Zika' Todorovic, Sergej Trifunovic,Jelena Gavrilovic, Slobodan Bestic</td></tr><tr><td>James DeMonaco</td><td>Frank Grillo, Elizabeth Mitchell, Mykelti Williamson, Joseph Julian Soria</td></tr><tr><td>Rajkumar Hirani</td><td>Aamir Khan, Madhavan, Mona Singh, Sharman Joshi</td></tr><tr><td>Ben Stiller</td><td>Ben Stiller, Owen Wilson, Penélope Cruz, Will Ferrell</td></tr><tr><td>Marc Forster</td><td>Brad Pitt, Mireille Enos, Daniella Kertesz, James Badge Dale</td></tr><tr><td>Brad Bird</td><td>Tom Cruise, Jeremy Renner, Simon Pegg, Paula Patton</td></tr><tr><td>Corey Asraf</td><td>Marilyn Manson, Mark Boone Junior, Sam Quartin, Niko Nicotera</td></tr><tr><td>Jon S. Baird</td><td>James McAvoy, Jamie Bell, Eddie Marsan, Imogen Poots</td></tr><tr><td>George Tillman Jr.</td><td>Scott Eastwood, Britt Robertson, Alan Alda, Jack Huston</td></tr><tr><td>J.A. Bayona</td><td>Naomi Watts, Ewan McGregor, Tom Holland, Oaklee Pendergast</td></tr><tr><td>Jeff Wadlow</td><td>Aaron Taylor-Johnson, Chloë Grace Moretz,Christopher Mintz-Plasse, Jim Carrey</td></tr><tr><td>Jeff Grace</td><td>Alex Karpovsky, Wyatt Russell, Meredith Hagner,Melanie Lynskey</td></tr><tr><td>Sam Raimi</td><td>James Franco, Michelle Williams, Rachel Weisz, Mila Kunis</td></tr><tr><td>John Crowley</td><td>Saoirse Ronan, Emory Cohen, Domhnall Gleeson,Jim Broadbent</td></tr><tr><td>Henry Selick</td><td>Dakota Fanning, Teri Hatcher, John Hodgman, Jennifer Saunders</td></tr><tr><td>Derek Cianfrance</td><td>Ryan Gosling, Michelle Williams, John Doman,Faith Wladyka</td></tr><tr><td>Michael J. Gallagher</td><td>Logan Paul, Peyton List, Lia Marie Johnson,Calum Worthy</td></tr><tr><td>Christophe Gans</td><td>Radha Mitchell, Laurie Holden, Sean Bean,Deborah Kara Unger</td></tr><tr><td>Pete Travis</td><td>Karl Urban, Olivia Thirlby, Lena Headey, Rachel Wood</td></tr><tr><td>Taika Waititi</td><td>Sam Neill, Julian Dennison, Rima Te Wiata, Rachel House</td></tr><tr><td>Don Hall</td><td>Ryan Potter, Scott Adsit, Jamie Chung,T.J. Miller</td></tr><tr><td>Kimberly Peirce</td><td>Chloë Grace Moretz, Julianne Moore, Gabriella Wilde, Portia Doubleday</td></tr><tr><td>Jon Favreau</td><td>Robert Downey Jr., Mickey Rourke, Gwyneth Paltrow,Don Cheadle</td></tr><tr><td>Jean-Marc Vallée</td><td>Jake Gyllenhaal, Naomi Watts, Chris Cooper,Judah Lewis</td></tr><tr><td>Christian Alvart</td><td>Dennis Quaid, Ben Foster, Cam Gigandet, Antje Traue</td></tr><tr><td>Antoine Fuqua</td><td>Gerard Butler, Aaron Eckhart, Morgan Freeman,Angela Bassett</td></tr><tr><td>D.J. Caruso</td><td>Alex Pettyfer, Timothy Olyphant, Dianna Agron, Teresa Palmer</td></tr><tr><td>Thomas Vinterberg</td><td>Mads Mikkelsen, Thomas Bo Larsen, Annika Wedderkopp, Lasse Fogelstrøm</td></tr><tr><td>Anne Fletcher</td><td>Sandra Bullock, Ryan Reynolds, Mary Steenburgen,Craig T. Nelson</td></tr><tr><td>Etan Cohen</td><td>Will Ferrell, Kevin Hart, Alison Brie, T.I.</td></tr><tr><td>Dennis Dugan</td><td>Adam Sandler, Jennifer Aniston, Brooklyn Decker,Nicole Kidman</td></tr><tr><td>Sam Mendes</td><td>Leonardo DiCaprio, Kate Winslet, Christopher Fitzgerald, Jonathan Roumie</td></tr><tr><td>Ben Affleck</td><td>Ben Affleck, Rebecca Hall, Jon Hamm, Jeremy Renner</td></tr><tr><td>William Brent Bell</td><td>Lauren Cohan, Rupert Evans, James Russell, Jim Norton</td></tr><tr><td>Mick Jackson</td><td>Rachel Weisz, Tom Wilkinson, Timothy Spall, Andrew Scott</td></tr><tr><td>Michael Spierig</td><td>Ethan Hawke, Sarah Snook, Noah Taylor, Madeleine West</td></tr><tr><td>Rob Letterman</td><td>Jack Black, Dylan Minnette, Odeya Rush, Ryan Lee</td></tr><tr><td>Guy Ritchie</td><td>Robert Downey Jr., Jude Law, Jared Harris, Rachel McAdams</td></tr><tr><td>Phillip Noyce</td><td>Angelina Jolie, Liev Schreiber, Chiwetel Ejiofor, Daniel Olbrychski</td></tr><tr><td>Denis Villeneuve</td><td>Jake Gyllenhaal, Mélanie Laurent, Sarah Gadon,Isabella Rossellini</td></tr><tr><td>Neill Blomkamp</td><td>Sharlto Copley, David James, Jason Cope, Nathalie Boltt</td></tr><tr><td>Adam McKay</td><td>Will Ferrell, Mark Wahlberg, Derek Jeter, Eva Mendes</td></tr><tr><td>Ridley Scott</td><td>Denzel Washington, Russell Crowe, Chiwetel Ejiofor,Josh Brolin</td></tr><tr><td>Sofia Coppola</td><td>Kirsten Dunst, Jason Schwartzman, Rip Torn, Judy Davis</td></tr><tr><td>Roland Emmerich</td><td>John Cusack, Thandie Newton, Chiwetel Ejiofor,Amanda Peet</td></tr><tr><td>David Yates</td><td>Daniel Radcliffe, Emma Watson, Rupert Grint, Michael Gambon</td></tr><tr><td>Ben Affleck</td><td>Ben Affleck, Bryan Cranston, John Goodman, Alan Arkin</td></tr><tr><td>Dexter Fletcher</td><td>Taron Egerton, Hugh Jackman, Tom Costello, Jo Hartley</td></tr><tr><td>Florian Henckel von Donnersmarck</td><td>Ulrich Mühe, Martina Gedeck,Sebastian Koch, Ulrich Tukur</td></tr><tr><td>Carles Torrens</td><td>Dominic Monaghan, Ksenia Solo, Jennette McCurdy,Da'Vone McDonald</td></tr><tr><td>Amber Tamblyn</td><td>Alia Shawkat, Nancy Kwan, Annabelle Attanasio,Alfred Molina</td></tr><tr><td>Justin Kurzel</td><td>Michael Fassbender, Marion Cotillard, Jack Madigan,Frank Madigan</td></tr><tr><td>Nicholas Stoller</td><td>Kristen Bell, Jason Segel, Paul Rudd, Mila Kunis</td></tr><tr><td>Phillip Noyce</td><td>Brenton Thwaites, Jeff Bridges, Meryl Streep, Taylor Swift</td></tr><tr><td>John Hillcoat</td><td>Casey Affleck, Chiwetel Ejiofor, Anthony Mackie,Aaron Paul</td></tr><tr><td>Paolo Genovese</td><td>Giuseppe Battiston, Anna Foglietta, Marco Giallini,Edoardo Leo</td></tr><tr><td>Clay Kaytis</td><td>Jason Sudeikis, Josh Gad, Danny McBride, Maya Rudolph</td></tr><tr><td>Wes Anderson</td><td>Jared Gilman, Kara Hayward, Bruce Willis, Bill Murray</td></tr><tr><td>Adam Shankman</td><td>John Travolta, Queen Latifah, Nikki Blonsky,Michelle Pfeiffer</td></tr><tr><td>Lasse Hallström</td><td>Julianne Hough, Josh Duhamel, Cobie Smulders,David Lyons</td></tr><tr><td>Glenn Ficarra</td><td>Will Smith, Margot Robbie, Rodrigo Santoro, Adrian Martinez</td></tr><tr><td>Brad Bird</td><td>Brad Garrett, Lou Romano, Patton Oswalt,Ian Holm</td></tr><tr><td>Jim Mickle</td><td>Connor Paolo, Nick Damici, Kelly McGillis, Gregory Jones</td></tr><tr><td>Albert Hughes</td><td>Denzel Washington, Mila Kunis, Ray Stevenson, Gary Oldman</td></tr><tr><td>Matt Reeves</td><td>Mike Vogel, Jessica Lucas, Lizzy Caplan, T.J. Miller</td></tr><tr><td>Ericson Core</td><td>Edgar Ramírez, Luke Bracey, Ray Winstone, Teresa Palmer</td></tr><tr><td>Jonathan Glazer</td><td>Scarlett Johansson, Jeremy McWilliams, Lynsey Taylor Mackay, Dougie McConnell</td></tr><tr><td>Francis Lawrence</td><td>Will Smith, Alice Braga, Charlie Tahan, Salli Richardson-Whitfield</td></tr><tr><td>Barry Sonnenfeld</td><td>Will Smith, Tommy Lee Jones, Josh Brolin,Jemaine Clement</td></tr><tr><td>J.J. Abrams</td><td>Elle Fanning, AJ Michalka, Kyle Chandler, Joel Courtney</td></tr><tr><td>F. Gary Gray</td><td>Gerard Butler, Jamie Foxx, Leslie Bibb, Colm Meaney</td></tr><tr><td>Pete Docter</td><td>Edward Asner, Jordan Nagai, John Ratzenberger, Christopher Plummer</td></tr><tr><td>Wes Ball</td><td>Dylan O'Brien, Kaya Scodelario, Thomas Brodie-Sangster,Giancarlo Esposito</td></tr><tr><td>Todd Haynes</td><td>Cate Blanchett, Rooney Mara, Sarah Paulson, Kyle Chandler</td></tr><tr><td>Daniel Ragussis</td><td>Daniel Radcliffe, Toni Collette, Tracy Letts, Sam Trammell</td></tr><tr><td>Paolo Sorrentino</td><td>Michael Caine, Harvey Keitel, Rachel Weisz, Jane Fonda</td></tr><tr><td>Jaco Van Dormael</td><td>Jared Leto, Sarah Polley, Diane Kruger, Linh Dan Pham</td></tr><tr><td>Pete Travis</td><td>Riz Ahmed, Billie Piper, James Floyd, Cush Jumbo</td></tr><tr><td>Oliver Stone</td><td>Aaron Taylor-Johnson, Taylor Kitsch, Blake Lively,Benicio Del Toro</td></tr><tr><td>Marc Webb</td><td>Zooey Deschanel, Joseph Gordon-Levitt, Geoffrey Arend, Chloë Grace Moretz</td></tr><tr><td>Elizabeth Banks</td><td>Emma Stone, Stephen Merchant, Richard Gere, Liev Schreiber</td></tr><tr><td>Alfonso Cuarón</td><td>Sandra Bullock, George Clooney, Ed Harris, Orto Ignatiussen</td></tr><tr><td>Mark Herman</td><td>Asa Butterfield, David Thewlis, Rupert Friend, Zac Mattoon O'Brien</td></tr><tr><td>Antoine Fuqua</td><td>Mark Wahlberg, Michael Peña, Rhona Mitra, Danny Glover</td></tr><tr><td>M. Night Shyamalan</td><td>Mark Wahlberg, Zooey Deschanel, John Leguizamo, Ashlyn Sanchez</td></tr><tr><td>S. Craig Zahler</td><td>Kurt Russell, Patrick Wilson, Matthew Fox, Richard Jenkins</td></tr><tr><td>Gregory Jacobs</td><td>Channing Tatum, Joe Manganiello, Matt Bomer,Adam Rodriguez</td></tr><tr><td>Will Gluck</td><td>Emma Stone, Amanda Bynes, Penn Badgley, Dan Byrd</td></tr><tr><td>Ridley Scott</td><td>Christian Bale, Joel Edgerton, Ben Kingsley, Sigourney Weaver</td></tr><tr><td>Neill Blomkamp</td><td>Sharlto Copley, Dev Patel, Hugh Jackman,Sigourney Weaver</td></tr><tr><td>Peter Jackson</td><td>Ian McKellen, Martin Freeman, Richard Armitage,Ken Stott</td></tr><tr><td>Biyi Bandele</td><td>Chiwetel Ejiofor, Thandie Newton, Anika Noni Rose,Joseph Mawle</td></tr><tr><td>Sean Ellis</td><td>Jamie Dornan, Cillian Murphy, Brian Caspe, Karel Hermánek Jr.</td></tr><tr><td>Ridley Scott</td><td>Michael Fassbender, Penélope Cruz, Cameron Diaz,Javier Bardem</td></tr><tr><td>Andrey Kravchuk</td><td>Anton Adasinsky, Aleksandr Armer, Vilen Babichev, Rostislav Bershauer</td></tr><tr><td>Glenn Ficarra</td><td>Tina Fey, Margot Robbie, Martin Freeman, Alfred Molina</td></tr><tr><td>David Schwimmer</td><td>Clive Owen, Catherine Keener, Liana Liberato,Jason Clarke</td></tr><tr><td>George Nolfi</td><td>Billy Magnussen, Terry Chen, Teresa Navarro,Vanessa Ross</td></tr><tr><td>Neill Blomkamp</td><td>Matt Damon, Jodie Foster, Sharlto Copley, Alice Braga</td></tr><tr><td>Eli Roth</td><td>Lorenza Izzo, Ariel Levy, Aaron Burns, Kirby Bliss Blanton</td></tr><tr><td>Gareth Edwards</td><td>Aaron Taylor-Johnson, Elizabeth Olsen, Bryan Cranston, Ken Watanabe</td></tr><tr><td>Tony Gilroy</td><td>Jeremy Renner, Rachel Weisz, Edward Norton, Scott Glenn</td></tr><tr><td>Ridley Scott</td><td>Russell Crowe, Abbie Cornish, Albert Finney, Marion Cotillard</td></tr><tr><td>Simon Verhoeven</td><td>Alycia Debnam-Carey, William Moseley, Connor Paolo, Brit Morgan</td></tr><tr><td>Tony Scott</td><td>Denzel Washington, Paula Patton, Jim Caviezel, Val Kilmer</td></tr><tr><td>Luc Besson</td><td>Scarlett Johansson, Morgan Freeman, Min-sik Choi,Amr Waked</td></tr><tr><td>Terence Davies</td><td>Cynthia Nixon, Jennifer Ehle, Duncan Duff, Keith Carradine</td></tr><tr><td>Scott Waugh</td><td>Aaron Paul, Dominic Cooper, Imogen Poots, Scott Mescudi</td></tr><tr><td>Christopher McQuarrie</td><td>Tom Cruise, Rosamund Pike, Richard Jenkins, Werner Herzog</td></tr><tr><td>Steven Brill</td><td>Adam Sandler, David Spade, Paula Patton, Kathryn Hahn</td></tr><tr><td>Alexandros Avranas</td><td>Jim Carrey, Charlotte Gainsbourg, Marton Csokas, Kati Outinen</td></tr><tr><td>Ewan McGregor</td><td>Ewan McGregor, Jennifer Connelly, Dakota Fanning, Peter Riegert</td></tr><tr><td>Roman Polanski</td><td>Ewan McGregor, Pierce Brosnan, Olivia Williams,Jon Bernthal</td></tr><tr><td>Neil Burger</td><td>Bradley Cooper, Anna Friel, Abbie Cornish, Robert De Niro</td></tr><tr><td>Nic Mathieu</td><td>James Badge Dale, Emily Mortimer, Bruce Greenwood,Max Martini</td></tr><tr><td>Richard LaGravenese</td><td>Hilary Swank, Gerard Butler, Harry Connick Jr., Lisa Kudrow</td></tr><tr><td>Mora Stephens</td><td>Patrick Wilson, Lena Headey, Ray Winstone,Richard Dreyfuss</td></tr><tr><td>Jeff Nichols</td><td>Michael Shannon, Joel Edgerton, Kirsten Dunst, Adam Driver</td></tr><tr><td>Mike Birbiglia</td><td>Keegan-Michael Key, Gillian Jacobs, Mike Birbiglia,Chris Gethard</td></tr><tr><td>Tim Burton</td><td>Mia Wasikowska, Johnny Depp, Helena Bonham Carter,Anne Hathaway</td></tr><tr><td>Philippe Falardeau</td><td>Elisabeth Moss, Naomi Watts, Ron Perlman, Liev Schreiber</td></tr><tr><td>Ken Loach</td><td>Dave Johns, Hayley Squires, Sharon Percy, Briana Shann</td></tr><tr><td>Peyton Reed</td><td>Jennifer Aniston, Vince Vaughn, Jon Favreau, Joey Lauren Adams</td></tr><tr><td>Jeff Nichols</td><td>Ruth Negga, Joel Edgerton, Will Dalton, Dean Mumford</td></tr><tr><td>Josh Trank</td><td>Miles Teller, Kate Mara, Michael B. Jordan, Jamie Bell</td></tr><tr><td>Stephen Fingleton</td><td>Mia Goth, Martin McCann, Barry Ward, Andrew Simpson</td></tr><tr><td>Florian Gallenberger</td><td>Emma Watson, Daniel Brühl, Michael Nyqvist,Richenda Carey</td></tr><tr><td>Rob Cohen</td><td>Jennifer Lopez, Ryan Guzman, Kristin Chenoweth, John Corbett</td></tr><tr><td>Joel Edgerton</td><td>Jason Bateman, Rebecca Hall, Joel Edgerton, Allison Tolman</td></tr><tr><td>Gary Shore</td><td>Luke Evans, Dominic Cooper, Sarah Gadon, Art Parkinson</td></tr><tr><td>Ron Howard</td><td>Chris Hemsworth, Cillian Murphy, Brendan Gleeson,Ben Whishaw</td></tr><tr><td>Mike Judge</td><td>Luke Wilson, Maya Rudolph, Dax Shepard, Terry Crews</td></tr><tr><td>Sylvester Stallone</td><td>Sylvester Stallone, Jason Statham, Jet Li, Dolph Lundgren</td></tr><tr><td>Fede Alvarez</td><td>Jane Levy, Shiloh Fernandez, Jessica Lucas, Lou Taylor Pucci</td></tr><tr><td>Scott Derrickson</td><td>Ethan Hawke, Juliet Rylance, James Ransone,Fred Dalton Thompson</td></tr><tr><td>Rich Moore</td><td>John C. Reilly, Jack McBrayer, Jane Lynch, Sarah Silverman</td></tr><tr><td>Rupert Sanders</td><td>Kristen Stewart, Chris Hemsworth, Charlize Theron, Sam Claflin</td></tr><tr><td>Joe Wright</td><td>Levi Miller, Hugh Jackman, Garrett Hedlund, Rooney Mara</td></tr><tr><td>Michael Bay</td><td>Shia LaBeouf, Rosie Huntington-Whiteley, Tyrese Gibson, Josh Duhamel</td></tr><tr><td>Jason Reitman</td><td>Ellen Page, Michael Cera, Jennifer Garner, Jason Bateman</td></tr><tr><td>Tom Tykwer</td><td>Tom Hanks, Sarita Choudhury, Ben Whishaw,Alexander Black</td></tr><tr><td>Jodie Foster</td><td>George Clooney, Julia Roberts, Jack O'Connell,Dominic West</td></tr><tr><td>Nick Cassavetes</td><td>Cameron Diaz, Leslie Mann, Kate Upton, Nikolaj Coster-Waldau</td></tr><tr><td>Kevin Lima</td><td>Amy Adams, Susan Sarandon, James Marsden, Patrick Dempsey</td></tr><tr><td>Nancy Meyers</td><td>Robert De Niro, Anne Hathaway, Rene Russo,Anders Holm</td></tr><tr><td>Jonathan Dayton</td><td>Steve Carell, Toni Collette, Greg Kinnear, Abigail Breslin</td></tr><tr><td>Ben Younger</td><td>Miles Teller, Aaron Eckhart, Katey Sagal, Ciarán Hinds</td></tr><tr><td>Louis Leterrier</td><td>Sam Worthington, Liam Neeson, Ralph Fiennes,Jason Flemyng</td></tr><tr><td>Craig Gillespie</td><td>Chris Pine, Casey Affleck, Ben Foster, Eric Bana</td></tr><tr><td>Joseph Kosinski</td><td>Jeff Bridges, Garrett Hedlund, Olivia Wilde, Bruce Boxleitner</td></tr><tr><td>Francis Lawrence</td><td>Jennifer Lawrence, Josh Hutcherson, Liam Hemsworth, Philip Seymour Hoffman</td></tr><tr><td>Andrew Jarecki</td><td>Ryan Gosling, Kirsten Dunst, Frank Langella, Lily Rabe</td></tr><tr><td>John Stockwell</td><td>Dave Bautista, Alain Moussi, Gina Carano, Jean-Claude Van Damme</td></tr><tr><td>M. Night Shyamalan</td><td>Noah Ringer, Nicola Peltz, Jackson Rathbone,Dev Patel</td></tr><tr><td>Jake Kasdan</td><td>Jason Segel, Cameron Diaz, Rob Corddry, Ellie Kemper</td></tr><tr><td>Kirk Jones</td><td>Cameron Diaz, Matthew Morrison, J. Todd Smith, Dennis Quaid</td></tr><tr><td>Bennett Miller</td><td>Brad Pitt, Robin Wright, Jonah Hill, Philip Seymour Hoffman</td></tr><tr><td>Mark Steven Johnson</td><td>Nicolas Cage, Eva Mendes, Sam Elliott, Matt Long</td></tr><tr><td>Angelina Jolie</td><td>Jack O'Connell, Miyavi, Domhnall Gleeson, Garrett Hedlund</td></tr><tr><td>Tarsem Singh</td><td>Henry Cavill, Mickey Rourke, John Hurt, Stephen Dorff</td></tr><tr><td>Danny Boyle</td><td>Cillian Murphy, Rose Byrne, Chris Evans, Michelle Yeoh</td></tr><tr><td>Mark Andrews</td><td>Kelly Macdonald,Billy Connolly, Emma Thompson, Julie Walters</td></tr><tr><td>Niels Arden Oplev</td><td>Michael Nyqvist, Noomi Rapace, Ewa Fröling,Lena Endre</td></tr><tr><td>Anne Fontaine</td><td>Naomi Watts, Robin Wright, Xavier Samuel, James Frecheville</td></tr><tr><td>Michaël R. Roskam</td><td>Tom Hardy, Noomi Rapace, James Gandolfini,Matthias Schoenaerts</td></tr><tr><td>Andy Fickman</td><td>Amanda Bynes, Laura Ramsey, Channing Tatum,Vinnie Jones</td></tr><tr><td>Sean Anders</td><td>Will Ferrell, Mark Wahlberg, Linda Cardellini, Thomas Haden Church</td></tr><tr><td>Matt Reeves</td><td>Kodi Smit-McPhee, Chloë Grace Moretz, Richard Jenkins, Cara Buono</td></tr><tr><td>Jeff Wadlow</td><td>Sean Faris, Djimon Hounsou, Amber Heard, Cam Gigandet</td></tr><tr><td>Louis Leterrier</td><td>Sacha Baron Cohen, Mark Strong, Rebel Wilson,Freddie Crowder</td></tr><tr><td>Duncan Jones</td><td>Sam Rockwell, Kevin Spacey, Dominique McElligott,Rosie Shaw</td></tr><tr><td>Tom McGrath</td><td>Will Ferrell, Jonah Hill, Brad Pitt, Tina Fey</td></tr><tr><td>Ruben Fleischer</td><td>Sean Penn, Ryan Gosling, Emma Stone, Giovanni Ribisi</td></tr><tr><td>Jean-François Richet</td><td>Mel Gibson, Erin Moriarty, Diego Luna, Michael Parks</td></tr><tr><td>Ken Kwapis</td><td>Jennifer Aniston, Jennifer Connelly, Morgan Lily,Trenton Rogers</td></tr><tr><td>Alessandro Carloni</td><td>Jack Black, Bryan Cranston, Dustin Hoffman, Angelina Jolie</td></tr><tr><td>Zackary Adler</td><td>Matt Vael, Simon Cotton, Kevin Leslie, Olivia Moyles</td></tr><tr><td>John Butler</td><td>Fionn O'Shea, Nicholas Galitzine, Andrew Scott, Moe Dunford</td></tr><tr><td>Debra Granik</td><td>Jennifer Lawrence, John Hawkes, Garret Dillahunt,Isaiah Stone</td></tr><tr><td>Seth Gordon</td><td>Jason Bateman, Charlie Day, Jason Sudeikis, Steve Wiebe</td></tr><tr><td>Xavier Dolan</td><td>Anne Dorval, Antoine-Olivier Pilon, Suzanne Clément,Patrick Huard</td></tr><tr><td>Guillermo del Toro</td><td>Ron Perlman, Selma Blair, Doug Jones, John Alexander</td></tr><tr><td>Richard LaGravenese</td><td>Alice Englert, Viola Davis, Emma Thompson,Alden Ehrenreich</td></tr><tr><td>Maren Ade</td><td>Sandra Hüller, Peter Simonischek, Michael Wittenborn,Thomas Loibl</td></tr><tr><td>Peter Jackson</td><td>Rachel Weisz, Mark Wahlberg, Saoirse Ronan, Susan Sarandon</td></tr><tr><td>Andrew Dominik</td><td>Brad Pitt, Casey Affleck, Sam Shepard, Mary-Louise Parker</td></tr><tr><td>Joseph Gordon-Levitt</td><td>Joseph Gordon-Levitt, Scarlett Johansson,Julianne Moore, Tony Danza</td></tr><tr><td>James Watkins</td><td>Idris Elba, Richard Madden, Charlotte Le Bon, Kelly Reilly</td></tr><tr><td>Joey Curtis</td><td>Paul Sidhu, Branden Coles, Arielle Holmes, Kelcey Watson</td></tr><tr><td>Gary Ross</td><td>Matthew McConaughey, Gugu Mbatha-Raw, Mahershala Ali, Keri Russell</td></tr><tr><td>Paco Cabezas</td><td>Anna Kendrick, Sam Rockwell, Tim Roth, James Ransone</td></tr><tr><td>Ben Stiller</td><td>Ben Stiller, Kristen Wiig, Jon Daly, Kathryn Hahn</td></tr><tr><td>Rick Famuyiwa</td><td>Shameik Moore, Tony Revolori, Kiersey Clemons,Kimberly Elise</td></tr><tr><td>Måns Mårlind</td><td>Kate Beckinsale, Michael Ealy, India Eisley, Stephen Rea</td></tr><tr><td>Lars von Trier</td><td>Willem Dafoe, Charlotte Gainsbourg, Storm Acheche Sahlstrøm</td></tr><tr><td>Marcus Nispel</td><td>Jared Padalecki, Amanda Righetti, Derek Mears,Danielle Panabaker</td></tr><tr><td>Olivier Megaton</td><td>Liam Neeson, Forest Whitaker, Maggie Grace,Famke Janssen</td></tr><tr><td>Len Wiseman</td><td>Colin Farrell, Bokeem Woodbine, Bryan Cranston,Kate Beckinsale</td></tr><tr><td>Brett Ratner</td><td>Patrick Stewart, Hugh Jackman, Halle Berry, Famke Janssen</td></tr><tr><td>Will Slocombe</td><td>Lyndsy Fonseca, Michael Doneger, Tommy Dewey,Bruce Campbell</td></tr><tr><td>Courtney Hunt</td><td>Keanu Reeves, Renée Zellweger, Gugu Mbatha-Raw, Gabriel Basso</td></tr><tr><td>Shawn Levy</td><td>Ben Stiller, Robin Williams, Owen Wilson, Dick Van Dyke</td></tr><tr><td>Edward Zwick</td><td>Jake Gyllenhaal, Anne Hathaway, Judy Greer, Oliver Platt</td></tr><tr><td>Evan Goldberg</td><td>James Franco, Seth Rogen, Randall Park, Lizzy Caplan</td></tr><tr><td>Bong Joon Ho</td><td>Kang-ho Song, Hee-Bong Byun, Hae-il Park, Doona Bae</td></tr><tr><td>Michael Goi</td><td>Amber Perkins, Rachel Quinn, Dean Waite, Jael Elizabeth Steinmeyer</td></tr><tr><td>Andrew Stanton</td><td>Ben Burtt, Elissa Knight, Jeff Garlin, Fred Willard</td></tr><tr><td>Judd Apatow</td><td>Seth Rogen, Katherine Heigl, Paul Rudd, Leslie Mann</td></tr><tr><td>Duncan Jones</td><td>Jake Gyllenhaal, Michelle Monaghan, Vera Farmiga,Jeffrey Wright</td></tr><tr><td>John Hillcoat</td><td>Tom Hardy, Shia LaBeouf, Guy Pearce, Jason Clarke</td></tr><tr><td>Levan Gabriadze</td><td>Heather Sossaman, Matthew Bohrer, Courtney Halverson, Shelley Hennig</td></tr><tr><td>Jon Hurwitz</td><td>Jason Biggs, Alyson Hannigan,Seann William Scott, Chris Klein</td></tr><tr><td>Gabriele Muccino</td><td>Will Smith, Thandie Newton, Jaden Smith, Brian Howe</td></tr><tr><td>Damián Szifron</td><td>Darío Grandinetti, María Marull, Mónica Villa, Rita Cortese</td></tr><tr><td>Frank Coraci</td><td>Adam Sandler, Terry Crews, Jorge Garcia, Taylor Lautner</td></tr><tr><td>François Ozon</td><td>Pierre Niney, Paula Beer, Ernst Stötzner, Marie Gruber</td></tr><tr><td>Henry Joost</td><td>Sofia Black-D'Elia, Analeigh Tipton,Travis Tope, Michael Kelly</td></tr><tr><td>Clint Eastwood</td><td>Clint Eastwood, Bee Vang, Christopher Carley,Ahney Her</td></tr><tr><td>John Wells</td><td>Bradley Cooper, Sienna Miller, Daniel Brühl, Riccardo Scamarcio</td></tr><tr><td>Jonathan Holbrook</td><td>Dan Crisafulli, Kay Whitney, Richard Garcia, Pat Cashman</td></tr><tr><td>Julia Leigh</td><td>Emily Browning, Rachael Blake, Ewen Leslie, Bridgette Barrett</td></tr><tr><td>Mark Waters</td><td>Zoey Deutch, Lucy Fry, Danila Kozlovsky, Gabriel Byrne</td></tr><tr><td>Tim Burton</td><td>Johnny Depp, Helena Bonham Carter, Alan Rickman,Timothy Spall</td></tr><tr><td>Afonso Poyart</td><td>Anthony Hopkins, Jeffrey Dean Morgan, Abbie Cornish, Colin Farrell</td></tr><tr><td>James Wan</td><td>Patrick Wilson, Rose Byrne, Ty Simpkins, Lin Shaye</td></tr><tr><td>Akiva Schaffer</td><td>Andy Samberg, Jorma Taccone,Akiva Schaffer, Sarah Silverman</td></tr><tr><td>Hope Dickson Leach</td><td>Ellie Kendrick, David Troughton, Jack Holden,Joe Blakemore</td></tr><tr><td>Michael Mann</td><td>Christian Bale, Johnny Depp, Christian Stolte, Jason Clarke</td></tr><tr><td>Richard Linklater</td><td>Ellar Coltrane, Patricia Arquette, Ethan Hawke,Elijah Smith</td></tr><tr><td>Jonathan Liebesman</td><td>Megan Fox, Will Arnett, William Fichtner, Noel Fisher</td></tr><tr><td>David Cronenberg</td><td>Naomi Watts, Viggo Mortensen, Armin Mueller-Stahl, Josef Altin</td></tr><tr><td>Simon Stone</td><td>Geoffrey Rush, Nicholas Hope, Sam Neill, Ewen Leslie</td></tr><tr><td>David Gordon Green</td><td>Seth Rogen, James Franco, Gary Cole, Danny McBride</td></tr><tr><td>Jon Kasdan</td><td>Dylan O'Brien, Britt Robertson, Victoria Justice, James Frecheville</td></tr><tr><td>Ben Affleck</td><td>Morgan Freeman, Ed Harris, Casey Affleck, Michelle Monaghan</td></tr><tr><td>Paul Feig</td><td>Sandra Bullock, Michael McDonald, Melissa McCarthy,Demián Bichir</td></tr><tr><td>Mia Hansen-Løve</td><td>Isabelle Huppert, André Marcon, Roman Kolinka,Edith Scob</td></tr><tr><td>Joe Wright</td><td>Keira Knightley, Jude Law, Aaron Taylor-Johnson,Matthew Macfadyen</td></tr><tr><td>Alejandro Amenábar</td><td>Ethan Hawke, David Thewlis, Emma Watson,Dale Dickey</td></tr><tr><td>Seth MacFarlane</td><td>Mark Wahlberg, Seth MacFarlane, Amanda Seyfried, Jessica Barth</td></tr><tr><td>Michael Bay</td><td>Mark Wahlberg, Dwayne Johnson, Anthony Mackie,Tony Shalhoub</td></tr><tr><td>Edward Zwick</td><td>Leonardo DiCaprio, Djimon Hounsou, Jennifer Connelly, Kagiso Kuypers</td></tr><tr><td>Atom Egoyan</td><td>Colin Firth, Reese Witherspoon, Alessandro Nivola,James Hamrick</td></tr><tr><td>Daniel Espinosa</td><td>Tom Hardy, Gary Oldman, Noomi Rapace, Joel Kinnaman</td></tr><tr><td>Kathryn Bigelow</td><td>Jeremy Renner, Anthony Mackie, Brian Geraghty,Guy Pearce</td></tr><tr><td>Martin Campbell</td><td>Ryan Reynolds, Blake Lively, Peter Sarsgaard,Mark Strong</td></tr><tr><td>John Michael McDonagh</td><td>Alexander Skarsgård, Michael Peña, Theo James, Tessa Thompson</td></tr><tr><td>Frank Darabont</td><td>Thomas Jane, Marcia Gay Harden, Laurie Holden,Andre Braugher</td></tr><tr><td>Mikael Håfström</td><td>Sylvester Stallone, Arnold Schwarzenegger, 50 Cent, Vincent D'Onofrio</td></tr><tr><td>Christian Ditter</td><td>Lily Collins, Sam Claflin, Christian Cooke, Jaime Winstone</td></tr><tr><td>Ari Sandel</td><td>Mae Whitman, Bella Thorne, Robbie Amell, Allison Janney</td></tr><tr><td>Jee-woon Kim</td><td>Byung-hun Lee, Yoo Gong, Kang-ho Song, Ji-min Han</td></tr><tr><td>Francis Lawrence</td><td>Jennifer Lawrence, Josh Hutcherson, Liam Hemsworth, Woody Harrelson</td></tr><tr><td>Lynne Ramsay</td><td>Tilda Swinton, John C. Reilly, Ezra Miller, Jasper Newell</td></tr><tr><td>Whit Stillman</td><td>Kate Beckinsale, Chloë Sevigny, Xavier Samuel,Emma Greenwell</td></tr><tr><td>Harald Zwart</td><td>Lily Collins, Jamie Campbell Bower, Robert Sheehan,Jemima West</td></tr><tr><td>Gabriele Muccino</td><td>Will Smith, Rosario Dawson, Woody Harrelson,Michael Ealy</td></tr><tr><td>Tom Hooper</td><td>Colin Firth, Geoffrey Rush, Helena Bonham Carter,Derek Jacobi</td></tr><tr><td>Steve McQueen</td><td>Stuart Graham, Laine Megaw, Brian Milligan, Liam McMahon</td></tr><tr><td>Doug Liman</td><td>Hayden Christensen, Samuel L. Jackson, Jamie Bell,Rachel Bilson</td></tr><tr><td>Lee Unkrich</td><td>Tom Hanks, Tim Allen, Joan Cusack, Ned Beatty</td></tr><tr><td>Tomas Alfredson</td><td>Gary Oldman, Colin Firth, Tom Hardy, Mark Strong</td></tr><tr><td>Paul W.S. Anderson</td><td>Milla Jovovich, Sienna Guillory, Michelle Rodriguez, Aryana Engineer</td></tr><tr><td>Gauri Shinde</td><td>Alia Bhatt, Shah Rukh Khan, Kunal Kapoor, Priyanka Moodley</td></tr><tr><td>Michael Grandage</td><td>Colin Firth, Jude Law, Nicole Kidman, Laura Linney</td></tr><tr><td>Paul W.S. Anderson</td><td>Kit Harington, Emily Browning, Kiefer Sutherland, Adewale Akinnuoye-Agbaje</td></tr><tr><td>Ang Lee</td><td>Suraj Sharma, Irrfan Khan, Adil Hussain, Tabu</td></tr><tr><td>Lasse Hallström</td><td>Richard Gere, Joan Allen, Cary-Hiroyuki Tagawa,Sarah Roemer</td></tr><tr><td>Jamie Linden</td><td>Channing Tatum, Rosario Dawson, Chris Pratt, Jenna Dewan Tatum</td></tr><tr><td>Mike Cahill</td><td>Michael Pitt, Steven Yeun, Astrid Bergès-Frisbey, Brit Marling</td></tr><tr><td>Len Wiseman</td><td>Bruce Willis, Justin Long, Timothy Olyphant, Maggie Q</td></tr><tr><td>Caleb Vetter</td><td>Wesley Elder, Christina Grimmie, Osric Chau, Olan Rogers</td></tr><tr><td>Michael Haneke</td><td>Naomi Watts, Tim Roth, Michael Pitt, Brady Corbet</td></tr><tr><td>Seth MacFarlane</td><td>Mark Wahlberg, Mila Kunis, Seth MacFarlane, Joel McHale</td></tr><tr><td>Robert Schwentke</td><td>Bruce Willis, Helen Mirren, Morgan Freeman,Mary-Louise Parker</td></tr><tr><td>Baz Luhrmann</td><td>Nicole Kidman, Hugh Jackman, Shea Adams, Eddie Baroo</td></tr><tr><td>George Tillman Jr.</td><td>Dwayne Johnson, Billy Bob Thornton, Maggie Grace, Mauricio Lopez</td></tr><tr><td>Marcus Dunstan</td><td>Josh Stewart, Bill Engvall, Alex Essoe, Ronnie Gene Blevins</td></tr><tr><td>George Nolfi</td><td>Matt Damon, Emily Blunt, Lisa Thoreson, Florence Kastriner</td></tr><tr><td>John Krasinski</td><td>Sharlto Copley, Charlie Day, Richard Jenkins, Anna Kendrick</td></tr><tr><td>David Dobkin</td><td>Robert Downey Jr., Robert Duvall, Vera Farmiga, Billy Bob Thornton</td></tr><tr><td>John Crowley</td><td>Eric Bana, Rebecca Hall, Jim Broadbent, Ciarán Hinds</td></tr><tr><td>Michael Bay</td><td>Shia LaBeouf, Megan Fox, Josh Duhamel, Tyrese Gibson</td></tr><tr><td>Michael Dudok de Wit</td><td>Emmanuel Garijo, Tom Hudson, Baptiste Goy, Axel Devillers</td></tr><tr><td>Jorge R. Gutiérrez</td><td>Diego Luna, Zoe Saldana, Channing Tatum, Ron Perlman</td></tr><tr><td>Denis Villeneuve</td><td>Lubna Azabal, Mélissa Désormeaux-Poulin, Maxim Gaudette, Mustafa Kamel</td></tr><tr><td>Bobby Farrelly</td><td>Ben Stiller, Michelle Monaghan,Malin Akerman, Jerry Stiller</td></tr><tr><td>George Miller</td><td>Elijah Wood, Brittany Murphy, Hugh Jackman, Robin Williams</td></tr><tr><td>Doug Ellin</td><td>Adrian Grenier, Kevin Connolly, Jerry Ferrara, Kevin Dillon</td></tr><tr><td>Bryan Bertino</td><td>Scott Speedman, Liv Tyler, Gemma Ward, Alex Fisher</td></tr><tr><td>Darren Aronofsky</td><td>Russell Crowe, Jennifer Connelly, Anthony Hopkins, Emma Watson</td></tr><tr><td>Nicholas Stoller</td><td>Seth Rogen, Rose Byrne, Zac Efron, Lisa Kudrow</td></tr><tr><td>Lars von Trier</td><td>Charlotte Gainsbourg, Stellan Skarsgård, Willem Dafoe, Jamie Bell</td></tr><tr><td>Jean-Marc Vallée</td><td>Reese Witherspoon, Laura Dern, Gaby Hoffmann,Michiel Huisman</td></tr><tr><td>Dennis Dugan</td><td>Adam Sandler, Salma Hayek, Kevin James, Chris Rock</td></tr><tr><td>Adam Wingard</td><td>James Allen McCune, Callie Hernandez, Corbin Reid, Brandon Scott</td></tr><tr><td>Harald Zwart</td><td>Jackie Chan, Jaden Smith, Taraji P. Henson, Wenwen Han</td></tr><tr><td>Tim Burton</td><td>Johnny Depp, Michelle Pfeiffer, Eva Green, Helena Bonham Carter</td></tr><tr><td>Will Gluck</td><td>Mila Kunis, Justin Timberlake, Patricia Clarkson, Jenna Elfman</td></tr><tr><td>Neil Burger</td><td>Edward Norton, Jessica Biel, Paul Giamatti, Rufus Sewell</td></tr><tr><td>Joe Carnahan</td><td>Liam Neeson, Bradley Cooper, Sharlto Copley,Jessica Biel</td></tr><tr><td>Adam Wingard</td><td>Dan Stevens, Sheila Kelley, Maika Monroe, Joel David Moore</td></tr><tr><td>Shawn Levy</td><td>Vince Vaughn, Owen Wilson, Rose Byrne, Aasif Mandvi</td></tr><tr><td>Greg Mottola</td><td>Simon Pegg, Nick Frost, Seth Rogen, Mia Stallard</td></tr><tr><td>Simon Aboud</td><td>Jessica Brown Findlay, Andrew Scott, Jeremy Irvine,Tom Wilkinson</td></tr><tr><td>Ron Howard</td><td>Tom Hanks, Audrey Tautou, Jean Reno, Ian McKellen</td></tr><tr><td>Bruce Beresford</td><td>Eddie Murphy, Britt Robertson, Natascha McElhone, Xavier Samuel</td></tr><tr><td>Martin Scorsese</td><td>Asa Butterfield, Chloë Grace Moretz, Christopher Lee, Ben Kingsley</td></tr><tr><td>Oz Perkins</td><td>Emma Roberts, Kiernan Shipka, Lauren Holly, Lucy Boynton</td></tr><tr><td>Ridley Scott</td><td>Leonardo DiCaprio, Russell Crowe, Mark Strong,Golshifteh Farahani</td></tr><tr><td>Terrence Malick</td><td>Christian Bale, Cate Blanchett, Natalie Portman,Brian Dennehy</td></tr><tr><td>Rob Cohen</td><td>Brendan Fraser, Jet Li, Maria Bello, Michelle Yeoh</td></tr><tr><td>Ben Falcone</td><td>Melissa McCarthy, Kristen Bell, Peter Dinklage, Ella Anderson</td></tr><tr><td>Jonathan Jakubowicz</td><td>Edgar Ramírez, Usher Raymond, Robert De Niro, Rubén Blades</td></tr><tr><td>Juan José Campanella</td><td>Ricardo Darín, Soledad Villamil, Pablo Rago,Carla Quevedo</td></tr><tr><td>Ethan Coen</td><td>Jeff Bridges, Matt Damon, Hailee Steinfeld,Josh Brolin</td></tr><tr><td>Max Joseph</td><td>Zac Efron, Wes Bentley, Emily Ratajkowski, Jonny Weston</td></tr><tr><td>Seth MacFarlane</td><td>Seth MacFarlane, Charlize Theron, Liam Neeson,Amanda Seyfried</td></tr><tr><td>Chris Stokes</td><td>Brian White, Karrueche Tran, Angelique Pereira,Jessica Vanessa DeLeon</td></tr><tr><td>Warren Beatty</td><td>Lily Collins, Haley Bennett, Taissa Farmiga, Steve Tom</td></tr><tr><td>Mike Flanagan</td><td>Elizabeth Reaser, Lulu Wilson, Annalise Basso,Henry Thomas</td></tr><tr><td>Thor Freudenthal</td><td>Logan Lerman, Alexandra Daddario, Brandon T. Jackson, Nathan Fillion</td></tr><tr><td>Gregory Hoblit</td><td>Anthony Hopkins, Ryan Gosling, David Strathairn,Rosamund Pike</td></tr><tr><td>Mike Flanagan</td><td>Karen Gillan, Brenton Thwaites, Katee Sackhoff,Rory Cochrane</td></tr><tr><td>Martin McDonagh</td><td>Colin Farrell, Brendan Gleeson, Ciarán Hinds,Elizabeth Berrington</td></tr><tr><td>McG</td><td>Reese Witherspoon, Chris Pine, Tom Hardy, Til Schweiger</td></tr><tr><td>Filip Renc</td><td>Tatiana Pauhofová, Karl Markovics, Gedeon Burkhard,Simona Stasová</td></tr><tr><td>John Hillcoat</td><td>Viggo Mortensen, Charlize Theron, Kodi Smit-McPhee,Robert Duvall</td></tr><tr><td>Ed Gass-Donnelly</td><td>Abbie Cornish, Dermot Mulroney, Justin Long,Diego Klattenhoff</td></tr><tr><td>Jamal Hill</td><td>Larenz Tate, Meagan Good, Rotimi, Rick Gonzalez</td></tr><tr><td>Marcus Nispel</td><td>Jason Momoa, Ron Perlman, Rose McGowan,Stephen Lang</td></tr><tr><td>David O. Russell</td><td>Mark Wahlberg, Christian Bale, Amy Adams,Melissa Leo</td></tr><tr><td>Kirsten Sheridan</td><td>Freddie Highmore, Keri Russell, Jonathan Rhys Meyers, Terrence Howard</td></tr><tr><td>Jon Favreau</td><td>Jon Favreau, Robert Downey Jr., Scarlett Johansson,Dustin Hoffman</td></tr><tr><td>Gavin Hood</td><td>Helen Mirren, Aaron Paul, Alan Rickman, Barkhad Abdi</td></tr><tr><td>D.J. Caruso</td><td>Shia LaBeouf, Michelle Monaghan, Rosario Dawson,Michael Chiklis</td></tr><tr><td>James DeMonaco</td><td>Ethan Hawke, Lena Headey, Max Burkholder,Adelaide Kane</td></tr><tr><td>Rajkumar Hirani</td><td>Aamir Khan, Anushka Sharma, Sanjay Dutt,Boman Irani</td></tr><tr><td>Gavin Hood</td><td>Harrison Ford, Asa Butterfield, Hailee Steinfeld, Abigail Breslin</td></tr><tr><td>Steven Spielberg</td><td>Harrison Ford, Cate Blanchett, Shia LaBeouf,Karen Allen</td></tr><tr><td>Jake Schreier</td><td>Nat Wolff, Cara Delevingne, Austin Abrams, Justice Smith</td></tr><tr><td>Ben Wheatley</td><td>Tom Hiddleston, Jeremy Irons, Sienna Miller, Luke Evans</td></tr><tr><td>Marc Forster</td><td>Daniel Craig, Olga Kurylenko, Mathieu Amalric, Judi Dench</td></tr><tr><td>Walter Hill</td><td>Sigourney Weaver, Michelle Rodriguez, Tony Shalhoub,Anthony LaPaglia</td></tr><tr><td>Dean DeBlois</td><td>Jay Baruchel, Gerard Butler,Christopher Mintz-Plasse, Craig Ferguson</td></tr><tr><td>M. Night Shyamalan</td><td>Paul Giamatti, Bryce Dallas Howard, Jeffrey Wright, Bob Balaban</td></tr><tr><td>Darren Aronofsky</td><td>Hugh Jackman, Rachel Weisz, Sean Patrick Thomas, Ellen Burstyn</td></tr><tr><td>John Lasseter</td><td>Owen Wilson, Larry the Cable Guy,Michael Caine, Emily Mortimer</td></tr><tr><td>Rob Zombie</td><td>Malcolm McDowell, Richard Brake, Jeff Daniel Phillips,Sheri Moon Zombie</td></tr><tr><td>Tyler Shields</td><td>Abigail Breslin, Wes Bentley, Logan Huffman,Alexander Ludwig</td></tr><tr><td>Hisonni Johnson</td><td>Maddy Curley, John DeLuca, Nikki SooHoo, Drew Seeley</td></tr><tr><td>Matt Brown</td><td>Dev Patel, Jeremy Irons, Malcolm Sinclair, Raghuvir Joshi</td></tr><tr><td>Jaume Collet-Serra</td><td>Liam Neeson, Diane Kruger, January Jones,Aidan Quinn</td></tr><tr><td>Tarsem Singh</td><td>Ryan Reynolds, Natalie Martinez, Matthew Goode,Ben Kingsley</td></tr><tr><td>Bruce A. Evans</td><td>Kevin Costner, Demi Moore, William Hurt, Dane Cook</td></tr><tr><td>Adam Leon</td><td>Callum Turner, Grace Van Patten, Michal Vondel, Mike Birbiglia</td></tr><tr><td>Chris Evans</td><td>Chris Evans, Alice Eve, Emma Fitzpatrick, John Cullum</td></tr><tr><td>Paul Greengrass</td><td>Tom Hanks, Barkhad Abdi, Barkhad Abdirahman,Catherine Keener</td></tr><tr><td>Jim Sheridan</td><td>Rooney Mara, Eric Bana, Theo James, Aidan Turner</td></tr><tr><td>Stewart Hendler</td><td>Ben Winchell, Josh Brener, Maria Bello, Andy Garcia</td></tr><tr><td>Genndy Tartakovsky</td><td>Adam Sandler, Andy Samberg, Selena Gomez, Kevin James</td></tr><tr><td>Peter Berg</td><td>Will Smith, Charlize Theron, Jason Bateman, Jae Head</td></tr><tr><td>Jason Moore</td><td>Amy Poehler, Tina Fey, Maya Rudolph, Ike Barinholtz</td></tr><tr><td>Luc Besson</td><td>Robert De Niro, Michelle Pfeiffer, Dianna Agron, John D'Leo</td></tr><tr><td>Kevin Smith</td><td>Seth Rogen, Elizabeth Banks, Craig Robinson, Gerry Bednob</td></tr><tr><td>Claude Barras</td><td>Gaspard Schlatter, Sixtine Murat, Paulin Jaccoud,Michel Vuillermoz</td></tr><tr><td>Asger Leth</td><td>Sam Worthington, Elizabeth Banks, Jamie Bell, Mandy Gonzalez</td></tr><tr><td>Ivan Reitman</td><td>Natalie Portman, Ashton Kutcher, Kevin Kline, Cary Elwes</td></tr><tr><td>Werner Herzog</td><td>Christian Bale, Steve Zahn, Jeremy Davies, Zach Grenier</td></tr><tr><td>Pierre Coffin</td><td>Steve Carell, Kristen Wiig, Benjamin Bratt, Miranda Cosgrove</td></tr><tr><td>Scott Frank</td><td>Liam Neeson, Dan Stevens, David Harbour, Boyd Holbrook</td></tr><tr><td>Edgar Wright</td><td>Simon Pegg, Nick Frost, Martin Freeman, Rosamund Pike</td></tr><tr><td>Kevin Smith</td><td>Lily-Rose Depp, Harley Quinn Smith, Johnny Depp,Adam Brody</td></tr><tr><td>Martin McDonagh</td><td>Colin Farrell, Woody Harrelson, Sam Rockwell,Christopher Walken</td></tr><tr><td>Robert Zemeckis</td><td>Ray Winstone, Crispin Glover, Angelina Jolie,Robin Wright</td></tr><tr><td>Kenneth Branagh</td><td>Chris Pine, Kevin Costner, Keira Knightley,Kenneth Branagh</td></tr><tr><td>Mikael Håfström</td><td>John Cusack, Samuel L. Jackson, Mary McCormack, Paul Birchard</td></tr><tr><td>Rupert Wyatt</td><td>Mark Wahlberg, Jessica Lange, John Goodman, Brie Larson</td></tr><tr><td>Mike Newell</td><td>Jake Gyllenhaal, Gemma Arterton, Ben Kingsley,Alfred Molina</td></tr><tr><td>James Ponsoldt</td><td>Miles Teller, Shailene Woodley, Kyle Chandler,Jennifer Jason Leigh</td></tr><tr><td>Amma Asante</td><td>David Oyelowo, Rosamund Pike, Tom Felton, Jack Davenport</td></tr><tr><td>Mario Van Peebles</td><td>Nicolas Cage, Tom Sizemore, Thomas Jane,Matt Lanter</td></tr><tr><td>François Simard</td><td>Munro Chambers, Laurence Leboeuf, Michael Ironside, Edwin Wright</td></tr><tr><td>Andrés Muschietti</td><td>Jessica Chastain, Nikolaj Coster-Waldau, Megan Charpentier, Isabelle Nélisse</td></tr><tr><td>Jaume Collet-Serra</td><td>Vera Farmiga, Peter Sarsgaard, Isabelle Fuhrman, CCH Pounder</td></tr><tr><td>Woody Allen</td><td>Woody Allen, Penélope Cruz, Jesse Eisenberg, Ellen Page</td></tr><tr><td>Wes Anderson</td><td>George Clooney, Meryl Streep, Bill Murray, Jason Schwartzman</td></tr><tr><td>Spike Lee</td><td>Denzel Washington, Clive Owen, Jodie Foster,Christopher Plummer</td></tr><tr><td>John Moore</td><td>Pierce Brosnan, Jason Barry, Karen Moskow, Kai Ryssdal</td></tr><tr><td>Danny Boyle</td><td>James Franco, Amber Tamblyn, Kate Mara, Sean Bott</td></tr><tr><td>John R. Leonetti</td><td>Ward Horton, Annabelle Wallis, Alfre Woodard,Tony Amendola</td></tr><tr><td>John R. Leonetti</td><td>Katie Cassidy, Elizabeth Henstridge, Adam Campbell, Miles Fisher</td></tr><tr><td>Saul Dibb</td><td>Michelle Williams, Kristin Scott Thomas, Margot Robbie,Eric Godon</td></tr><tr><td>Terry Gilliam</td><td>Christopher Plummer, Lily Cole, Heath Ledger,Andrew Garfield</td></tr><tr><td>Stephen Sommers</td><td>Dennis Quaid, Channing Tatum, Marlon Wayans,Adewale Akinnuoye-Agbaje</td></tr><tr><td>Antonio Campos</td><td>Rebecca Hall, Michael C. Hall, Tracy Letts, Maria Dizzia</td></tr><tr><td>Dito Montiel</td><td>Shia LaBeouf, Jai Courtney, Gary Oldman, Kate Mara</td></tr><tr><td>Phil Claydon</td><td>Michael Vartan, Erin Moriarty, Nadine Velazquez,Ronnie Gene Blevins</td></tr><tr><td>Farren Blackburn</td><td>Naomi Watts, Charlie Heaton, Jacob Tremblay,Oliver Platt</td></tr><tr><td>Matthias Hoene</td><td>Mark Chao, Ni Ni, Dave Bautista, Sienna Guillory</td></tr><tr><td>Robert Rodriguez</td><td>Kurt Russell, Rose McGowan, Danny Trejo, Zoë Bell</td></tr><tr><td>Jason Friedberg</td><td>Carmen Electra, Vanessa Lachey,Nicole Parker, Matt Lanter</td></tr><tr><td>Sylvester Stallone</td><td>Sylvester Stallone, Antonio Tarver, Milo Ventimiglia, Burt Young</td></tr><tr><td>David Bowers</td><td>Zachary Gordon, Robert Capron, Devon Bostick,Steve Zahn</td></tr><tr><td>Cary Joji Fukunaga</td><td>Mia Wasikowska, Michael Fassbender, Jamie Bell, Su Elliot</td></tr><tr><td>Andy Tennant</td><td>Matthew McConaughey, Kate Hudson, Donald Sutherland, Alexis Dziena</td></tr><tr><td>Larry Charles</td><td>Sacha Baron Cohen, Anna Faris, John C. Reilly, Ben Kingsley</td></tr><tr><td>Erik Van Looy</td><td>Karl Urban, James Marsden, Wentworth Miller, Eric Stonestreet</td></tr><tr><td>Cristian Mungiu</td><td>Adrian Titieni, Maria-Victoria Dragus, Lia Bugnar,Malina Manovici</td></tr><tr><td>Dennis Dugan</td><td>Adam Sandler, John Turturro, Emmanuelle Chriqui,Nick Swardson</td></tr><tr><td>Gee Malik Linton</td><td>Ana de Armas, Keanu Reeves, Christopher McDonald, Mira Sorvino</td></tr><tr><td>Aisling Walsh</td><td>Ethan Hawke, Sally Hawkins, Kari Matchett, Zachary Bennett</td></tr><tr><td>Sean Anders</td><td>Jason Bateman, Jason Sudeikis, Charlie Day, Jennifer Aniston</td></tr><tr><td>Luca Guadagnino</td><td>Tilda Swinton, Matthias Schoenaerts, Ralph Fiennes, Dakota Johnson</td></tr><tr><td>Lars von Trier</td><td>Kirsten Dunst, Charlotte Gainsbourg, Kiefer Sutherland, Alexander Skarsgård</td></tr><tr><td>Ron Clements</td><td>Anika Noni Rose, Keith David, Oprah Winfrey, Bruno Campos</td></tr><tr><td>Tony Scott</td><td>Denzel Washington, Chris Pine, Rosario Dawson, Ethan Suplee</td></tr><tr><td>Robert Zemeckis</td><td>Denzel Washington, Nadine Velazquez, Don Cheadle, John Goodman</td></tr><tr><td>Tim Johnson</td><td>Jim Parsons, Rihanna, Steve Martin, Jennifer Lopez</td></tr><tr><td>Giuseppe Tornatore</td><td>Geoffrey Rush, Jim Sturgess, Sylvia Hoeks,Donald Sutherland</td></tr><tr><td>Nathan Morlando</td><td>Sophie Nélisse, Josh Wiggins, Joe Cobden, Bill Paxton</td></tr><tr><td>Brian Helgeland</td><td>Chadwick Boseman, T.R. Knight, Harrison Ford,Nicole Beharie</td></tr><tr><td>Robert Luketic</td><td>Jim Sturgess, Kate Bosworth, Kevin Spacey, Aaron Yoo</td></tr><tr><td>John Carney</td><td>Keira Knightley, Mark Ruffalo, Adam Levine, Hailee Steinfeld</td></tr><tr><td>Scott Cooper</td><td>Christian Bale, Casey Affleck, Zoe Saldana, Woody Harrelson</td></tr><tr><td>Woody Allen</td><td>Rebecca Hall, Scarlett Johansson, Javier Bardem,Christopher Evan Welch</td></tr><tr><td>Mark Osborne</td><td>Jack Black, Ian McShane,Angelina Jolie, Dustin Hoffman</td></tr><tr><td>Malcolm D. Lee</td><td>Ice Cube, Regina Hall, Anthony Anderson, Eve</td></tr><tr><td>McG</td><td>Christian Bale, Sam Worthington, Anton Yelchin, Moon Bloodgood</td></tr><tr><td>Richard LaGravenese</td><td>Hilary Swank, Imelda Staunton, Patrick Dempsey, Scott Glenn</td></tr><tr><td>Alexandre Aja</td><td>Ted Levine, Kathleen Quinlan, Dan Byrd, Emilie de Ravin</td></tr><tr><td>Clint Eastwood</td><td>Angelina Jolie, Colm Feore, Amy Ryan, Gattlin Griffith</td></tr><tr><td>Allen Coulter</td><td>Robert Pattinson, Emilie de Ravin, Caitlyn Rund,Moisés Acevedo</td></tr><tr><td>Naoko Yamada</td><td>Miyu Irino, Saori Hayami, Aoi Yuki, Kenshô Ono</td></tr><tr><td>Miguel Arteta</td><td>Steve Carell, Jennifer Garner, Ed Oxenbould, Dylan Minnette</td></tr><tr><td>Steven Knight</td><td>Tom Hardy, Olivia Colman, Ruth Wilson, Andrew Scott</td></tr><tr><td>Alexandre Aja</td><td>Jamie Dornan, Aiden Longworth, Sarah Gadon,Aaron Paul</td></tr><tr><td>Alexandre Aja</td><td>Daniel Radcliffe, Juno Temple, Max Minghella, Joe Anderson</td></tr><tr><td>James Schamus</td><td>Logan Lerman, Sarah Gadon, Tijuana Ricks, Sue Dahlman</td></tr><tr><td>Kyle Patrick Alvarez</td><td>Ezra Miller, Tye Sheridan, Billy Crudup, Olivia Thirlby</td></tr><tr><td>David Bowers</td><td>Zachary Gordon, Devon Bostick, Robert Capron,Rachael Harris</td></tr><tr><td>J.J. Abrams</td><td>Tom Cruise, Michelle Monaghan, Ving Rhames, Philip Seymour Hoffman</td></tr><tr><td>Hannes Holm</td><td>Rolf Lassgård, Bahar Pars, Filip Berg, Ida Engvoll</td></tr><tr><td>James Wong</td><td>Justin Chatwin, James Marsters, Yun-Fat Chow, Emmy Rossum</td></tr><tr><td>Dan Bradley</td><td>Chris Hemsworth, Isabel Lucas, Josh Hutcherson, Josh Peck</td></tr><tr><td>Lone Scherfig</td><td>Anne Hathaway, Jim Sturgess, Patricia Clarkson,Tom Mison</td></tr><tr><td>Greg Berlanti</td><td>Katherine Heigl, Josh Duhamel, Josh Lucas, Alexis Clagett</td></tr><tr><td>Juan Carlos Fresnadillo</td><td>Jeremy Renner, Rose Byrne, Robert Carlyle, Harold Perrineau</td></tr><tr><td>Jonathan Levine</td><td>Nicholas Hoult, Teresa Palmer, John Malkovich,Analeigh Tipton</td></tr><tr><td>Woody Allen</td><td>Cate Blanchett, Alec Baldwin, Peter Sarsgaard, Sally Hawkins</td></tr><tr><td>Jon M. Chu</td><td>Dwayne Johnson, Channing Tatum, Adrianne Palicki,Byung-hun Lee</td></tr><tr><td>Jonathan Liebesman</td><td>Sam Worthington, Liam Neeson, Rosamund Pike, Ralph Fiennes</td></tr><tr><td>Hideaki Anno</td><td>Hiroki Hasegawa, Yutaka Takenouchi,Satomi Ishihara, Ren Ôsugi</td></tr><tr><td>John Lee Hancock</td><td>Emma Thompson, Tom Hanks, Annie Rose Buckley, Colin Farrell</td></tr><tr><td>Wally Pfister</td><td>Johnny Depp, Rebecca Hall, Morgan Freeman, Cillian Murphy</td></tr><tr><td>Carlos Saldanha</td><td>Jesse Eisenberg, Anne Hathaway, George Lopez,Karen Disher</td></tr><tr><td>Drake Doremus</td><td>Nicholas Hoult, Kristen Stewart, Vernetta Lopez,Scott Lawrence</td></tr><tr><td>Alejandro González Iñárritu</td><td>Brad Pitt, Cate Blanchett, Gael García Bernal, Mohamed Akhzam</td></tr><tr><td>Terrence Malick</td><td>Brad Pitt, Sean Penn, Jessica Chastain, Hunter McCracken</td></tr><tr><td>Scott Hicks</td><td>Zac Efron, Taylor Schilling, Blythe Danner, Riley Thomas Stewart</td></tr><tr><td>Alexandre Aja</td><td>Elisabeth Shue, Jerry O'Connell, Richard Dreyfuss,Ving Rhames</td></tr><tr><td>Jonathan Levine</td><td>Joseph Gordon-Levitt, Seth Rogen, Anna Kendrick, Bryce Dallas Howard</td></tr><tr><td>Femi Oyeniran</td><td>Dylan Duffus, Scorcher,Shone Romulus, Jade Asha</td></tr><tr><td>Judd Apatow</td><td>Paul Rudd, Leslie Mann, Maude Apatow, Iris Apatow</td></tr><tr><td>Shawn Levy</td><td>Hugh Jackman, Evangeline Lilly, Dakota Goyo,Anthony Mackie</td></tr><tr><td>Michael Patrick King</td><td>Sarah Jessica Parker, Kim Cattrall, Cynthia Nixon, Kristin Davis</td></tr><tr><td>Sylvester Stallone</td><td>Sylvester Stallone, Julie Benz, Matthew Marsden, Graham McTavish</td></tr><tr><td>Robert Rodriguez</td><td>Rose McGowan, Freddy Rodríguez, Josh Brolin,Marley Shelton</td></tr><tr><td>Peter Landesman</td><td>Will Smith, Alec Baldwin, Albert Brooks, David Morse</td></tr><tr><td>Tarsem Singh</td><td>Lee Pace, Catinca Untaru, Justine Waddell, Kim Uylenbroek</td></tr><tr><td>Robert Luketic</td><td>Katherine Heigl, Gerard Butler, Bree Turner, Eric Winter</td></tr><tr><td>Gary Winick</td><td>Kate Hudson, Anne Hathaway, Candice Bergen, Bryan Greenberg</td></tr><tr><td>Leslye Headland</td><td>Jason Sudeikis, Alison Brie, Jordan Carlos,Margarita Levieva</td></tr><tr><td>David R. Ellis</td><td>Samuel L. Jackson, Julianna Margulies, Nathan Phillips, Rachel Blanchard</td></tr><tr><td>Michael Dowse</td><td>Daniel Radcliffe, Zoe Kazan, Megan Park, Adam Driver</td></tr><tr><td>Dean DeBlois</td><td>Jay Baruchel, Cate Blanchett, Gerard Butler, Craig Ferguson</td></tr><tr><td>José Padilha</td><td>Joel Kinnaman, Gary Oldman, Michael Keaton, Abbie Cornish</td></tr><tr><td>James Franco</td><td>Nat Wolff, James Franco, Vincent D'Onofrio, Selena Gomez</td></tr><tr><td>Michael Showalter</td><td>Sally Field, Max Greenfield, Tyne Daly, Wendi McLendon-Covey</td></tr><tr><td>Steven Soderbergh</td><td>George Clooney, Brad Pitt, Matt Damon,Michael Mantell</td></tr><tr><td>James Gunn</td><td>Nathan Fillion, Elizabeth Banks, Michael Rooker, Don Thompson</td></tr><tr><td>Steven Soderbergh</td><td>Matt Damon, Kate Winslet, Jude Law, Gwyneth Paltrow</td></tr><tr><td>Matteo Garrone</td><td>Salma Hayek, Vincent Cassel, Toby Jones, John C. Reilly</td></tr><tr><td>Oz Perkins</td><td>Ruth Wilson, Paula Prentiss, Lucy Boynton, Bob Balaban</td></tr><tr><td>Gabor Csupo</td><td>Josh Hutcherson, AnnaSophia Robb, Zooey Deschanel, Robert Patrick</td></tr><tr><td>James Ward Byrkit</td><td>Emily Baldoni, Maury Sterling, Nicholas Brendon, Elizabeth Gracen</td></tr><tr><td>George Tillman Jr.</td><td>Jamal Woolard, Anthony Mackie, Derek Luke,Momo Dione</td></tr><tr><td>Hong-jin Na</td><td>Jun Kunimura, Jung-min Hwang, Do-won Kwak, Woo-hee Chun</td></tr><tr><td>Simon West</td><td>Sylvester Stallone, Liam Hemsworth, Randy Couture,Jean-Claude Van Damme</td></tr><tr><td>Gregory Wilson</td><td>William Atherton, Blythe Auffarth, Blanche Baker,Kevin Chamberlin</td></tr><tr><td>Tom Tykwer</td><td>Ben Whishaw, Dustin Hoffman, Alan Rickman,Francesc Albiol</td></tr><tr><td>Chris Weitz</td><td>Nicole Kidman, Daniel Craig, Dakota Blue Richards, Ben Walker</td></tr><tr><td>Neil Marshall</td><td>Michael Fassbender, Dominic West, Olga Kurylenko,Andreas Wisniewski</td></tr><tr><td>Christopher Landon</td><td>Tye Sheridan, Logan Miller, Joey Morgan,Sarah Dumont</td></tr><tr><td>Burr Steers</td><td>Zac Efron, Matthew Perry, Leslie Mann, Thomas Lennon</td></tr><tr><td>John Erick Dowdle</td><td>Lake Bell, Pierce Brosnan, Owen Wilson,Chatchawai Kamonsakpitak</td></tr><tr><td>Bryan Singer</td><td>Brandon Routh, Kevin Spacey, Kate Bosworth, James Marsden</td></tr><tr><td>Bill Condon</td><td>Kristen Stewart, Robert Pattinson, Taylor Lautner, Gil Birmingham</td></tr><tr><td>Lee Daniels</td><td>Gabourey Sidibe, Mo'Nique, Paula Patton, Mariah Carey</td></tr><tr><td>Gus Van Sant</td><td>Matthew McConaughey, Naomi Watts, Ken Watanabe,Ryoko Seta</td></tr><tr><td>Chris McCoy</td><td>Zoey Deutch, Nicholas Braun, Mateo Arias, Israel Broussard</td></tr><tr><td>Paul Thomas Anderson</td><td>Philip Seymour Hoffman, Joaquin Phoenix,Amy Adams, Jesse Plemons</td></tr><tr><td>Craig Brewer</td><td>Kenny Wormald, Julianne Hough, Dennis Quaid,Andie MacDowell</td></tr><tr><td>R.J. Cutler</td><td>Chloë Grace Moretz, Mireille Enos, Jamie Blackley,Joshua Leonard</td></tr><tr><td>Ido Fluk</td><td>Dan Stevens, Malin Akerman, Oliver Platt, Kerry Bishé</td></tr><tr><td>Christopher Smith</td><td>Tye Sheridan, Emory Cohen, Bel Powley,Stephen Moyer</td></tr><tr><td>Anna Biller</td><td>Samantha Robinson, Jeffrey Vincent Parise, Laura Waddell, Gian Keys</td></tr><tr><td>Adam McKay</td><td>Will Ferrell, John C. Reilly, Sacha Baron Cohen, Gary Cole</td></tr><tr><td>Tom Six</td><td>Dieter Laser, Ashley C. Williams, Ashlynn Yennie, Akihiro Kitamura</td></tr><tr><td>James Gunn</td><td>Rainn Wilson, Ellen Page, Liv Tyler, Kevin Bacon</td></tr><tr><td>Richie Smyth</td><td>Jamie Dornan, Mark Strong, Jason O'Mara, Michael McElhatton</td></tr><tr><td>Jason Reitman</td><td>George Clooney, Vera Farmiga, Anna Kendrick,Jason Bateman</td></tr><tr><td>Ryûhei Kitamura</td><td>Vinnie Jones, Bradley Cooper, Leslie Bibb, Brooke Shields</td></tr><tr><td>David Slade</td><td>Kristen Stewart, Robert Pattinson, Taylor Lautner,Xavier Samuel</td></tr><tr><td>Greg Kwedar</td><td>Johnny Simmons, Gabriel Luna, Clifton Collins Jr.,David Acord</td></tr><tr><td>Mark Mylod</td><td>Anna Faris, Chris Evans, Ari Graynor, Blythe Danner</td></tr><tr><td>David Twohy</td><td>Vin Diesel, Karl Urban, Katee Sackhoff, Jordi Mollà</td></tr><tr><td>Christopher Smith</td><td>Melissa George, Joshua McIvor, Jack Taylor,Michael Dorman</td></tr><tr><td>Lee Daniels</td><td>Forest Whitaker, Oprah Winfrey, John Cusack, Jane Fonda</td></tr><tr><td>Justin Kelly</td><td>Garrett Clayton, Christian Slater, Molly Ringwald,James Kelley</td></tr><tr><td>M. Night Shyamalan</td><td>Jaden Smith, David Denman, Will Smith,Sophie Okonedo</td></tr><tr><td>Justin Tipping</td><td>Jahking Guillory, Christopher Jordan Wallace,Christopher Meyer, Kofi Siriboe</td></tr><tr><td>Alfonso Gomez-Rejon</td><td>Thomas Mann, RJ Cyler, Olivia Cooke, Nick Offerman</td></tr><tr><td>Alexander Payne</td><td>George Clooney, Shailene Woodley, Amara Miller, Nick Krause</td></tr><tr><td>Michael Patrick King</td><td>Sarah Jessica Parker, Kim Cattrall, Kristin Davis, Cynthia Nixon</td></tr><tr><td>Jordan Vogt-Roberts</td><td>Nick Robinson, Gabriel Basso, Moises Arias,Nick Offerman</td></tr><tr><td>Paul W.S. Anderson</td><td>Jason Statham, Joan Allen, Tyrese Gibson, Ian McShane</td></tr><tr><td>Tom Gormican</td><td>Zac Efron, Michael B. Jordan, Miles Teller, Imogen Poots</td></tr><tr><td>Scott Stewart</td><td>Paul Bettany, Dennis Quaid, Charles S. Dutton, Lucas Black</td></tr><tr><td>David Ayer</td><td>Jake Gyllenhaal, Michael Peña, Anna Kendrick, America Ferrera</td></tr><tr><td>McG</td><td>Kevin Costner, Hailee Steinfeld, Connie Nielsen, Amber Heard</td></tr><tr><td>Paul McGuigan</td><td>Josh Hartnett, Ben Kingsley, Morgan Freeman, Lucy Liu</td></tr><tr><td>Danny Boyle</td><td>James McAvoy, Rosario Dawson, Vincent Cassel,Danny Sapani</td></tr><tr><td>Patricia Rozema</td><td>Ellen Page, Evan Rachel Wood, Max Minghella,Callum Keith Rennie</td></tr><tr><td>Justin Chadwick</td><td>Natalie Portman, Scarlett Johansson, Eric Bana,Jim Sturgess</td></tr><tr><td>Steven R. Monroe</td><td>Sarah Butler, Jeff Branson, Andrew Howard,Daniel Franzese</td></tr><tr><td>James Lapine</td><td>Viola Davis, Hayden Panettiere, Catalina Sandino Moreno, Ellen Burstyn</td></tr><tr><td>David Lynch</td><td>Laura Dern, Jeremy Irons, Justin Theroux, Karolina Gruszka</td></tr><tr><td>Jérôme Salle</td><td>Lambert Wilson, Pierre Niney, Audrey Tautou,Laurent Lucas</td></tr><tr><td>Robert Zemeckis</td><td>Joseph Gordon-Levitt, Charlotte Le Bon,Guillaume Baillargeon, Émilie Leclerc</td></tr><tr><td>Micheal Bafaro</td><td>Anna Hutchison, Andrea Whitburn, Jennifer Koenig,Michael Dickson</td></tr><tr><td>Gore Verbinski</td><td>Johnny Depp, Armie Hammer, William Fichtner,Tom Wilkinson</td></tr><tr><td>John Luessenhop</td><td>Alexandra Daddario, Tania Raymonde, Scott Eastwood, Trey Songz</td></tr><tr><td>D.J. Caruso</td><td>Shia LaBeouf, David Morse, Carrie-Anne Moss, Sarah Roemer</td></tr><tr><td>Adam Shankman</td><td>Julianne Hough, Diego Boneta, Tom Cruise, Alec Baldwin</td></tr><tr><td>Wes Craven</td><td>Neve Campbell, Courteney Cox, David Arquette, Lucy Hale</td></tr><tr><td>Mira Nair</td><td>Madina Nalwanga, David Oyelowo, Lupita Nyong'o, Martin Kabanza</td></tr><tr><td>Kirk Jones</td><td>Nia Vardalos, John Corbett, Michael Constantine, Lainie Kazan</td></tr><tr><td>Gilles Paquet-Brenner</td><td>Charlize Theron, Nicholas Hoult, Christina Hendricks, Chloë Grace Moretz</td></tr><tr><td>Lisa Addario</td><td>Jason Biggs, Janet Montgomery,Ashley Tisdale, Bria L. Murphy</td></tr><tr><td>Xavier Dolan</td><td>Nathalie Baye, Vincent Cassel, Marion Cotillard, Léa Seydoux</td></tr><tr><td>Pedro Almodóvar</td><td>Antonio Banderas, Elena Anaya, Jan Cornet,Marisa Paredes</td></tr><tr><td>Patricia Riggen</td><td>Jennifer Garner, Kylie Rogers, Martin Henderson,Brighton Sharbino</td></tr><tr><td>Will Gluck</td><td>Quvenzhané Wallis, Cameron Diaz, Jamie Foxx, Rose Byrne</td></tr><tr><td>Julie Taymor</td><td>Evan Rachel Wood, Jim Sturgess, Joe Anderson, Dana Fuchs</td></tr><tr><td>Luke Greenfield</td><td>Jake Johnson, Damon Wayans Jr., Rob Riggle, Nina Dobrev</td></tr><tr><td>Boaz Yakin</td><td>Thomas Haden Church, Josh Wiggins, Luke Kleintank,Lauren Graham</td></tr><tr><td>David Gordon Green</td><td>Danny McBride, Natalie Portman, James Franco, Rasmus Hardiker</td></tr><tr><td>Steven Quale</td><td>Nicholas D'Agosto, Emma Bell, Arlen Escarpeta, Miles Fisher</td></tr><tr><td>Shana Feste</td><td>Gabriella Wilde, Alex Pettyfer, Bruce Greenwood,Robert Patrick</td></tr><tr><td>Pascal Laugier</td><td>Morjana Alaoui, Mylène Jampanoï, Catherine Bégin,Robert Toupin</td></tr><tr><td>Ava DuVernay</td><td>David Oyelowo, Carmen Ejogo, Tim Roth, Lorraine Toussaint</td></tr><tr><td>Patrick Tatopoulos</td><td>Rhona Mitra, Michael Sheen, Bill Nighy, Steven Mackintosh</td></tr><tr><td>Aamir Khan</td><td>Darsheel Safary, Aamir Khan, Tanay Chheda, Sachet Engineer</td></tr><tr><td>Michael Dowse</td><td>Topher Grace, Anna Faris, Dan Fogler, Teresa Palmer</td></tr><tr><td>Paul W.S. Anderson</td><td>Milla Jovovich, Ali Larter, Wentworth Miller,Kim Coates</td></tr><tr><td>Nima Nourizadeh</td><td>Thomas Mann, Oliver Cooper, Jonathan Daniel Brown, Dax Flame</td></tr><tr><td>Billy Ray</td><td>Chiwetel Ejiofor, Nicole Kidman, Julia Roberts, Dean Norris</td></tr><tr><td>Eli Roth</td><td>Lauren German, Heather Matarazzo, Bijou Phillips, Roger Bart</td></tr><tr><td>Jon M. Chu</td><td>Robert Hoffman, Briana Evigan, Cassie Ventura, Adam G. Sevani</td></tr><tr><td>Scot Armstrong</td><td>Adam Pally, T.J. Miller, Thomas Middleditch,Shannon Woodward</td></tr><tr><td>Barry Sonnenfeld</td><td>Kevin Spacey, Jennifer Garner, Robbie Amell,Cheryl Hines</td></tr></table>"
                    }
                }
            ],
            "execution_count": 8
        },
        {
            "cell_type": "markdown",
            "source": [
                "I limited the data, but I need to be concerned about a couple things. We can see in the Actors column that there are multiple people stored in this column. We'll see to ensure we split this data and add each distinct row to the table. However, the other issue is that I was worried that the Director column contained multiple directors for a movie. I decided to run this query to check:"
            ],
            "metadata": {
                "azdata_cell_guid": "335ae221-9dc0-4997-b9d0-12dfdd257c93"
            }
        },
        {
            "cell_type": "code",
            "source": [
                "select *\r\n",
                " from dbo.[IMDB-Movie-Data]\r\n",
                "  where charindex(',',Director) > 0"
            ],
            "metadata": {
                "azdata_cell_guid": "b3417726-aebe-4541-bbf2-a9ff1c5d9701"
            },
            "outputs": [
                {
                    "output_type": "display_data",
                    "data": {
                        "text/html": "(0 rows affected)"
                    },
                    "metadata": {}
                },
                {
                    "output_type": "display_data",
                    "data": {
                        "text/html": "Total execution time: 00:00:00.012"
                    },
                    "metadata": {}
                },
                {
                    "output_type": "execute_result",
                    "metadata": {},
                    "execution_count": 9,
                    "data": {
                        "application/vnd.dataresource+json": {
                            "schema": {
                                "fields": [
                                    {
                                        "name": "Rank"
                                    },
                                    {
                                        "name": "Title"
                                    },
                                    {
                                        "name": "Genre"
                                    },
                                    {
                                        "name": "Description"
                                    },
                                    {
                                        "name": "Director"
                                    },
                                    {
                                        "name": "Actors"
                                    },
                                    {
                                        "name": "Year"
                                    },
                                    {
                                        "name": "Runtime (Minutes)"
                                    },
                                    {
                                        "name": "Rating"
                                    },
                                    {
                                        "name": "Votes"
                                    },
                                    {
                                        "name": "Revenue (Millions)"
                                    },
                                    {
                                        "name": "Metascore"
                                    }
                                ]
                            },
                            "data": []
                        },
                        "text/html": "<table><tr><th>Rank</th><th>Title</th><th>Genre</th><th>Description</th><th>Director</th><th>Actors</th><th>Year</th><th>Runtime (Minutes)</th><th>Rating</th><th>Votes</th><th>Revenue (Millions)</th><th>Metascore</th></tr></table>"
                    }
                }
            ],
            "execution_count": 9
        },
        {
            "cell_type": "markdown",
            "source": [
                "I didn't get any results, so this leads me to believe that none of the rows in the director section contain more than one value."
            ],
            "metadata": {
                "azdata_cell_guid": "15a55a85-da20-4466-9f78-c2f2127c332d"
            }
        }
    ]
}